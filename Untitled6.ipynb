{
 "cells": [
  {
   "cell_type": "markdown",
   "id": "f37caa2b",
   "metadata": {},
   "source": [
    "# Аналитический отчет"
   ]
  },
  {
   "cell_type": "markdown",
   "id": "52203801",
   "metadata": {},
   "source": [
    "Перед нами стоит задача – подготовить аналитический отчет для HR-отдела. На основании проведенной аналитики предполагается составить рекомендации для отдела кадров по стратегии набора персонала, а также по взаимодействию с уже имеющимися сотрудниками.\n",
    "\n",
    "В базе данных лежит набор таблиц, которые содержат данные о сотрудниках вымышленной компании. Сделайте обзор штата сотрудников компании. Составьте набор предметов исследования, а затем проверьте их на данных. Вся аналитика должна быть выполена с помощью SQL. Впоследствии данные можно визуализировать, однако финальные датафреймы для графиков также должны быть подготовлены с помощью SQL."
   ]
  },
  {
   "cell_type": "markdown",
   "id": "7d31abaa",
   "metadata": {},
   "source": [
    "## Содержание\n",
    "\n",
    "\n",
    "[1. Введение](##1.-Введение)<br>\n",
    "    [Краткое описание задачи и цели аналитического отчета](###-Краткое-описание-задачи-и-цели-аналитического-отчета.)<br>\n",
    "    [Обзор доступных данных и используемых таблиц](###-Обзор-доступных-данных-и-используемых-таблиц.)<br>\n",
    "[2. Исследование зависимостей метрик эффективности от возраста сотрудника](##2.-Исследование-зависимостей-метрик-эффективности-от-возраста-сотрудника)<br>\n",
    "    [Выбранные метрики](###-Выбранные-метрики.)<br>\n",
    "    [Выводы и рекомендации для HR-отдела](###-Выводы-и-рекомендации-для-HR-отдела.)<br>\n",
    "<!-- - [3. Исследование зависимостей метрик эффективности от пола сотрудника](##3.-Исследование-зависимостей-метрик-эффективности-от-пола-сотрудника)\n",
    "- [4. Определение зависимостей ключевых метрик эффективности с семейным положением сотрудников](##4.-Определение-зависимостей-ключевых-метрик-эффективности-с-семейным-положением-сотрудников)\n",
    "- [5. Определение зависимостей ключевых метрик с расовым типом, происхождением сотрудников, виду гражданства](##5.-Определение-зависимостей-ключевых-метрик-с-расовым-типом,-происхождением-сотрудников,-виду-гражданства)\n",
    "- [6. Рекомендации по выбору сотрудников](##6.-Рекомендации-по-выбору-сотрудников)\n",
    "- [7. Аналитика отделов компании](##7.-Аналитика-отделов-компании)\n",
    "- [8. Заключение](##8.-Заключение) -->"
   ]
  },
  {
   "cell_type": "markdown",
   "id": "2ab52472",
   "metadata": {},
   "source": [
    "## 1. Введение"
   ]
  },
  {
   "cell_type": "markdown",
   "id": "e465caa3",
   "metadata": {},
   "source": [
    "### Краткое описание задачи и цели аналитического отчета."
   ]
  },
  {
   "cell_type": "markdown",
   "id": "e2f163d0",
   "metadata": {},
   "source": [
    "Задача данного аналитического отчета состоит в проведении исследования штата сотрудников вымышленной компании с целью предоставления рекомендаций для HR-отдела. Цель отчета заключается в выявлении зависимостей между различными факторами (возрастом, полом, семейным положением, расовым типом, происхождением, видом гражданства) и метриками эффективности сотрудников.\n",
    "\n",
    "Анализируя имеющиеся данные в базе данных компании и используя SQL-запросы, мы проведем исследования, чтобы:\n",
    "\n",
    "- Определить, как возраст сотрудников влияет на их эффективность и производительность.\n",
    "- Исследовать, существуют ли различия в метриках эффективности между мужчинами и женщинами.\n",
    "- Выявить связи между семейным положением сотрудников и их эффективностью.\n",
    "- Определить, существуют ли различия в метриках эффективности в зависимости от расового типа, происхождения и вида гражданства.\n",
    "\n",
    "На основе результатов анализа каждого исследования мы предоставим рекомендации HR-отделу компании относительно стратегии набора персонала и улучшения взаимодействия с уже имеющимися сотрудниками. Все аналитические выводы и рекомендации будут подтверждены с помощью данных, а финальные датафреймы для графиков и визуализации также будут подготовлены с использованием SQL-запросов."
   ]
  },
  {
   "cell_type": "markdown",
   "id": "3146081b",
   "metadata": {},
   "source": [
    "### Обзор доступных данных и используемых таблиц."
   ]
  },
  {
   "cell_type": "code",
   "execution_count": 1,
   "id": "17c34d26",
   "metadata": {},
   "outputs": [
    {
     "data": {
      "text/html": [
       "        <script type=\"text/javascript\">\n",
       "        window.PlotlyConfig = {MathJaxConfig: 'local'};\n",
       "        if (window.MathJax && window.MathJax.Hub && window.MathJax.Hub.Config) {window.MathJax.Hub.Config({SVG: {font: \"STIX-Web\"}});}\n",
       "        if (typeof require !== 'undefined') {\n",
       "        require.undef(\"plotly\");\n",
       "        requirejs.config({\n",
       "            paths: {\n",
       "                'plotly': ['https://cdn.plot.ly/plotly-2.12.1.min']\n",
       "            }\n",
       "        });\n",
       "        require(['plotly'], function(Plotly) {\n",
       "            window._Plotly = Plotly;\n",
       "        });\n",
       "        }\n",
       "        </script>\n",
       "        "
      ]
     },
     "metadata": {},
     "output_type": "display_data"
    }
   ],
   "source": [
    "# импорт необходимых библиотек\n",
    "import psycopg2\n",
    "from sqlalchemy import create_engine\n",
    "import pandas as pd\n",
    "\n",
    "import plotly.express as px\n",
    "import plotly.graph_objs as go\n",
    "import plotly.offline as py_offline\n",
    "py_offline.init_notebook_mode(connected=True)"
   ]
  },
  {
   "cell_type": "code",
   "execution_count": 2,
   "id": "da399329",
   "metadata": {},
   "outputs": [
    {
     "data": {
      "text/plain": [
       "['hr_dataset', 'production_staff', 'recruiting_costs', 'salary_grid']"
      ]
     },
     "execution_count": 2,
     "metadata": {},
     "output_type": "execute_result"
    }
   ],
   "source": [
    "# параметры подключения\n",
    "params = {\n",
    "    'host': 'dsstudents.skillbox.ru',\n",
    "    'port': 5432,\n",
    "    'dbname': 'human_resources',\n",
    "    'user': 'readonly',\n",
    "    'password': '6hajV34RTQfmxhS'\n",
    "}\n",
    "\n",
    "# создание строки подключения\n",
    "conn_string = (\n",
    "    f'postgresql://{params[\"user\"]}:{params[\"password\"]}@'\n",
    "    f'{params[\"host\"]}:{params[\"port\"]}/{params[\"dbname\"]}'\n",
    ")\n",
    "\n",
    "# создание движка SQLAlchemy\n",
    "engine = create_engine(conn_string)\n",
    "\n",
    "# подключение к базе данных с помощью движка\n",
    "conn = engine.connect()\n",
    "\n",
    "# доступные таблицы для чтения\n",
    "table_schema = '''\n",
    "    SELECT table_name \n",
    "    FROM information_schema.tables \n",
    "    WHERE table_schema='public';\n",
    "'''\n",
    "\n",
    "result = conn.execute(table_schema)\n",
    "reading_tables = [row[0] for row in result.fetchall()]\n",
    "reading_tables"
   ]
  },
  {
   "cell_type": "code",
   "execution_count": 3,
   "id": "f43982d8",
   "metadata": {},
   "outputs": [],
   "source": [
    "pd.set_option('display.max_columns', None)"
   ]
  },
  {
   "cell_type": "code",
   "execution_count": 4,
   "id": "abe06e98",
   "metadata": {},
   "outputs": [
    {
     "data": {
      "text/html": [
       "<div>\n",
       "<style scoped>\n",
       "    .dataframe tbody tr th:only-of-type {\n",
       "        vertical-align: middle;\n",
       "    }\n",
       "\n",
       "    .dataframe tbody tr th {\n",
       "        vertical-align: top;\n",
       "    }\n",
       "\n",
       "    .dataframe thead th {\n",
       "        text-align: right;\n",
       "    }\n",
       "</style>\n",
       "<table border=\"1\" class=\"dataframe\">\n",
       "  <thead>\n",
       "    <tr style=\"text-align: right;\">\n",
       "      <th></th>\n",
       "      <th>id</th>\n",
       "      <th>Employee Name</th>\n",
       "      <th>Employee Number</th>\n",
       "      <th>marriedid</th>\n",
       "      <th>maritalstatusid</th>\n",
       "      <th>genderid</th>\n",
       "      <th>empstatus_id</th>\n",
       "      <th>deptid</th>\n",
       "      <th>perf_scoreid</th>\n",
       "      <th>age</th>\n",
       "      <th>Pay Rate</th>\n",
       "      <th>state</th>\n",
       "      <th>zip</th>\n",
       "      <th>dob</th>\n",
       "      <th>sex</th>\n",
       "      <th>maritaldesc</th>\n",
       "      <th>citizendesc</th>\n",
       "      <th>Hispanic/Latino</th>\n",
       "      <th>racedesc</th>\n",
       "      <th>Date of Hire</th>\n",
       "      <th>Days Employed</th>\n",
       "      <th>Date of Termination</th>\n",
       "      <th>Reason For Term</th>\n",
       "      <th>Employment Status</th>\n",
       "      <th>department</th>\n",
       "      <th>position</th>\n",
       "      <th>Manager Name</th>\n",
       "      <th>Employee Source</th>\n",
       "      <th>Performance Score</th>\n",
       "    </tr>\n",
       "  </thead>\n",
       "  <tbody>\n",
       "    <tr>\n",
       "      <th>0</th>\n",
       "      <td>1</td>\n",
       "      <td>Brown, Mia</td>\n",
       "      <td>1103024456</td>\n",
       "      <td>1</td>\n",
       "      <td>1</td>\n",
       "      <td>0</td>\n",
       "      <td>1</td>\n",
       "      <td>1</td>\n",
       "      <td>3</td>\n",
       "      <td>30</td>\n",
       "      <td>28.50</td>\n",
       "      <td>MA</td>\n",
       "      <td>1450</td>\n",
       "      <td>1987-11-24</td>\n",
       "      <td>Female</td>\n",
       "      <td>Married</td>\n",
       "      <td>US Citizen</td>\n",
       "      <td>No</td>\n",
       "      <td>Black or African American</td>\n",
       "      <td>2008-10-27</td>\n",
       "      <td>3317</td>\n",
       "      <td>None</td>\n",
       "      <td>N/A - still employed</td>\n",
       "      <td>Active</td>\n",
       "      <td>Admin Offices</td>\n",
       "      <td>Accountant I</td>\n",
       "      <td>Brandon R. LeBlanc</td>\n",
       "      <td>Diversity Job Fair</td>\n",
       "      <td>Fully Meets</td>\n",
       "    </tr>\n",
       "    <tr>\n",
       "      <th>1</th>\n",
       "      <td>2</td>\n",
       "      <td>LaRotonda, William</td>\n",
       "      <td>1106026572</td>\n",
       "      <td>0</td>\n",
       "      <td>2</td>\n",
       "      <td>1</td>\n",
       "      <td>1</td>\n",
       "      <td>1</td>\n",
       "      <td>3</td>\n",
       "      <td>34</td>\n",
       "      <td>23.00</td>\n",
       "      <td>MA</td>\n",
       "      <td>1460</td>\n",
       "      <td>1984-04-26</td>\n",
       "      <td>Male</td>\n",
       "      <td>Divorced</td>\n",
       "      <td>US Citizen</td>\n",
       "      <td>No</td>\n",
       "      <td>Black or African American</td>\n",
       "      <td>2014-01-06</td>\n",
       "      <td>1420</td>\n",
       "      <td>None</td>\n",
       "      <td>N/A - still employed</td>\n",
       "      <td>Active</td>\n",
       "      <td>Admin Offices</td>\n",
       "      <td>Accountant I</td>\n",
       "      <td>Brandon R. LeBlanc</td>\n",
       "      <td>Website Banner Ads</td>\n",
       "      <td>Fully Meets</td>\n",
       "    </tr>\n",
       "    <tr>\n",
       "      <th>2</th>\n",
       "      <td>3</td>\n",
       "      <td>Steans, Tyrone</td>\n",
       "      <td>1302053333</td>\n",
       "      <td>0</td>\n",
       "      <td>0</td>\n",
       "      <td>1</td>\n",
       "      <td>1</td>\n",
       "      <td>1</td>\n",
       "      <td>3</td>\n",
       "      <td>31</td>\n",
       "      <td>29.00</td>\n",
       "      <td>MA</td>\n",
       "      <td>2703</td>\n",
       "      <td>1986-09-01</td>\n",
       "      <td>Male</td>\n",
       "      <td>Single</td>\n",
       "      <td>US Citizen</td>\n",
       "      <td>No</td>\n",
       "      <td>White</td>\n",
       "      <td>2014-09-29</td>\n",
       "      <td>1154</td>\n",
       "      <td>None</td>\n",
       "      <td>N/A - still employed</td>\n",
       "      <td>Active</td>\n",
       "      <td>Admin Offices</td>\n",
       "      <td>Accountant I</td>\n",
       "      <td>Brandon R. LeBlanc</td>\n",
       "      <td>Internet Search</td>\n",
       "      <td>Fully Meets</td>\n",
       "    </tr>\n",
       "    <tr>\n",
       "      <th>3</th>\n",
       "      <td>4</td>\n",
       "      <td>Howard, Estelle</td>\n",
       "      <td>1211050782</td>\n",
       "      <td>1</td>\n",
       "      <td>1</td>\n",
       "      <td>0</td>\n",
       "      <td>1</td>\n",
       "      <td>1</td>\n",
       "      <td>9</td>\n",
       "      <td>32</td>\n",
       "      <td>21.50</td>\n",
       "      <td>MA</td>\n",
       "      <td>2170</td>\n",
       "      <td>1985-09-16</td>\n",
       "      <td>Female</td>\n",
       "      <td>Married</td>\n",
       "      <td>US Citizen</td>\n",
       "      <td>No</td>\n",
       "      <td>White</td>\n",
       "      <td>2015-02-16</td>\n",
       "      <td>58</td>\n",
       "      <td>2015-04-15</td>\n",
       "      <td>N/A - still employed</td>\n",
       "      <td>Active</td>\n",
       "      <td>Admin Offices</td>\n",
       "      <td>Administrative Assistant</td>\n",
       "      <td>Brandon R. LeBlanc</td>\n",
       "      <td>Pay Per Click - Google</td>\n",
       "      <td>N/A- too early to review</td>\n",
       "    </tr>\n",
       "    <tr>\n",
       "      <th>4</th>\n",
       "      <td>5</td>\n",
       "      <td>Singh, Nan</td>\n",
       "      <td>1307059817</td>\n",
       "      <td>0</td>\n",
       "      <td>0</td>\n",
       "      <td>0</td>\n",
       "      <td>1</td>\n",
       "      <td>1</td>\n",
       "      <td>9</td>\n",
       "      <td>30</td>\n",
       "      <td>16.56</td>\n",
       "      <td>MA</td>\n",
       "      <td>2330</td>\n",
       "      <td>1988-05-19</td>\n",
       "      <td>Female</td>\n",
       "      <td>Single</td>\n",
       "      <td>US Citizen</td>\n",
       "      <td>No</td>\n",
       "      <td>White</td>\n",
       "      <td>2015-05-01</td>\n",
       "      <td>940</td>\n",
       "      <td>None</td>\n",
       "      <td>N/A - still employed</td>\n",
       "      <td>Active</td>\n",
       "      <td>Admin Offices</td>\n",
       "      <td>Administrative Assistant</td>\n",
       "      <td>Brandon R. LeBlanc</td>\n",
       "      <td>Website Banner Ads</td>\n",
       "      <td>N/A- too early to review</td>\n",
       "    </tr>\n",
       "    <tr>\n",
       "      <th>...</th>\n",
       "      <td>...</td>\n",
       "      <td>...</td>\n",
       "      <td>...</td>\n",
       "      <td>...</td>\n",
       "      <td>...</td>\n",
       "      <td>...</td>\n",
       "      <td>...</td>\n",
       "      <td>...</td>\n",
       "      <td>...</td>\n",
       "      <td>...</td>\n",
       "      <td>...</td>\n",
       "      <td>...</td>\n",
       "      <td>...</td>\n",
       "      <td>...</td>\n",
       "      <td>...</td>\n",
       "      <td>...</td>\n",
       "      <td>...</td>\n",
       "      <td>...</td>\n",
       "      <td>...</td>\n",
       "      <td>...</td>\n",
       "      <td>...</td>\n",
       "      <td>...</td>\n",
       "      <td>...</td>\n",
       "      <td>...</td>\n",
       "      <td>...</td>\n",
       "      <td>...</td>\n",
       "      <td>...</td>\n",
       "      <td>...</td>\n",
       "      <td>...</td>\n",
       "    </tr>\n",
       "    <tr>\n",
       "      <th>305</th>\n",
       "      <td>306</td>\n",
       "      <td>Navathe, Kurt</td>\n",
       "      <td>1009919960</td>\n",
       "      <td>0</td>\n",
       "      <td>0</td>\n",
       "      <td>1</td>\n",
       "      <td>1</td>\n",
       "      <td>3</td>\n",
       "      <td>3</td>\n",
       "      <td>48</td>\n",
       "      <td>52.25</td>\n",
       "      <td>MA</td>\n",
       "      <td>2056</td>\n",
       "      <td>1970-04-25</td>\n",
       "      <td>Male</td>\n",
       "      <td>Single</td>\n",
       "      <td>US Citizen</td>\n",
       "      <td>No</td>\n",
       "      <td>Asian</td>\n",
       "      <td>2017-02-10</td>\n",
       "      <td>289</td>\n",
       "      <td>None</td>\n",
       "      <td>N/A - still employed</td>\n",
       "      <td>Active</td>\n",
       "      <td>IT/IS</td>\n",
       "      <td>Senior BI Developer</td>\n",
       "      <td>Brian Champaigne</td>\n",
       "      <td>Indeed</td>\n",
       "      <td>Fully Meets</td>\n",
       "    </tr>\n",
       "    <tr>\n",
       "      <th>306</th>\n",
       "      <td>307</td>\n",
       "      <td>Wang, Charlie</td>\n",
       "      <td>1009919970</td>\n",
       "      <td>0</td>\n",
       "      <td>0</td>\n",
       "      <td>1</td>\n",
       "      <td>1</td>\n",
       "      <td>3</td>\n",
       "      <td>3</td>\n",
       "      <td>36</td>\n",
       "      <td>51.00</td>\n",
       "      <td>MA</td>\n",
       "      <td>1887</td>\n",
       "      <td>1981-07-08</td>\n",
       "      <td>Male</td>\n",
       "      <td>Single</td>\n",
       "      <td>US Citizen</td>\n",
       "      <td>No</td>\n",
       "      <td>Asian</td>\n",
       "      <td>2017-02-15</td>\n",
       "      <td>284</td>\n",
       "      <td>None</td>\n",
       "      <td>N/A - still employed</td>\n",
       "      <td>Active</td>\n",
       "      <td>IT/IS</td>\n",
       "      <td>Senior BI Developer</td>\n",
       "      <td>Brian Champaigne</td>\n",
       "      <td>Indeed</td>\n",
       "      <td>Fully Meets</td>\n",
       "    </tr>\n",
       "    <tr>\n",
       "      <th>307</th>\n",
       "      <td>308</td>\n",
       "      <td>Smith, Jason</td>\n",
       "      <td>1009919980</td>\n",
       "      <td>0</td>\n",
       "      <td>0</td>\n",
       "      <td>1</td>\n",
       "      <td>1</td>\n",
       "      <td>3</td>\n",
       "      <td>3</td>\n",
       "      <td>34</td>\n",
       "      <td>46.00</td>\n",
       "      <td>MA</td>\n",
       "      <td>2045</td>\n",
       "      <td>1983-09-04</td>\n",
       "      <td>Male</td>\n",
       "      <td>Single</td>\n",
       "      <td>US Citizen</td>\n",
       "      <td>No</td>\n",
       "      <td>White</td>\n",
       "      <td>2017-02-15</td>\n",
       "      <td>284</td>\n",
       "      <td>None</td>\n",
       "      <td>N/A - still employed</td>\n",
       "      <td>Active</td>\n",
       "      <td>IT/IS</td>\n",
       "      <td>BI Developer</td>\n",
       "      <td>Brian Champaigne</td>\n",
       "      <td>Indeed</td>\n",
       "      <td>Fully Meets</td>\n",
       "    </tr>\n",
       "    <tr>\n",
       "      <th>308</th>\n",
       "      <td>309</td>\n",
       "      <td>Westinghouse, Matthew</td>\n",
       "      <td>1009919990</td>\n",
       "      <td>1</td>\n",
       "      <td>1</td>\n",
       "      <td>1</td>\n",
       "      <td>1</td>\n",
       "      <td>3</td>\n",
       "      <td>3</td>\n",
       "      <td>30</td>\n",
       "      <td>45.00</td>\n",
       "      <td>MA</td>\n",
       "      <td>2134</td>\n",
       "      <td>1987-10-24</td>\n",
       "      <td>Male</td>\n",
       "      <td>Married</td>\n",
       "      <td>US Citizen</td>\n",
       "      <td>No</td>\n",
       "      <td>White</td>\n",
       "      <td>2017-04-20</td>\n",
       "      <td>220</td>\n",
       "      <td>None</td>\n",
       "      <td>N/A - still employed</td>\n",
       "      <td>Active</td>\n",
       "      <td>IT/IS</td>\n",
       "      <td>BI Developer</td>\n",
       "      <td>Brian Champaigne</td>\n",
       "      <td>Indeed</td>\n",
       "      <td>Fully Meets</td>\n",
       "    </tr>\n",
       "    <tr>\n",
       "      <th>309</th>\n",
       "      <td>310</td>\n",
       "      <td>Hubert, Robert</td>\n",
       "      <td>1009920000</td>\n",
       "      <td>1</td>\n",
       "      <td>1</td>\n",
       "      <td>1</td>\n",
       "      <td>1</td>\n",
       "      <td>3</td>\n",
       "      <td>3</td>\n",
       "      <td>28</td>\n",
       "      <td>45.00</td>\n",
       "      <td>MA</td>\n",
       "      <td>2134</td>\n",
       "      <td>1989-06-30</td>\n",
       "      <td>Male</td>\n",
       "      <td>Married</td>\n",
       "      <td>US Citizen</td>\n",
       "      <td>No</td>\n",
       "      <td>Black or African American</td>\n",
       "      <td>2017-04-20</td>\n",
       "      <td>220</td>\n",
       "      <td>None</td>\n",
       "      <td>N/A - still employed</td>\n",
       "      <td>Active</td>\n",
       "      <td>IT/IS</td>\n",
       "      <td>BI Developer</td>\n",
       "      <td>Brian Champaigne</td>\n",
       "      <td>Indeed</td>\n",
       "      <td>Fully Meets</td>\n",
       "    </tr>\n",
       "  </tbody>\n",
       "</table>\n",
       "<p>310 rows × 29 columns</p>\n",
       "</div>"
      ],
      "text/plain": [
       "      id          Employee Name  Employee Number  marriedid  maritalstatusid  \\\n",
       "0      1             Brown, Mia       1103024456          1                1   \n",
       "1      2   LaRotonda, William         1106026572          0                2   \n",
       "2      3       Steans, Tyrone         1302053333          0                0   \n",
       "3      4        Howard, Estelle       1211050782          1                1   \n",
       "4      5            Singh, Nan        1307059817          0                0   \n",
       "..   ...                    ...              ...        ...              ...   \n",
       "305  306          Navathe, Kurt       1009919960          0                0   \n",
       "306  307          Wang, Charlie       1009919970          0                0   \n",
       "307  308           Smith, Jason       1009919980          0                0   \n",
       "308  309  Westinghouse, Matthew       1009919990          1                1   \n",
       "309  310         Hubert, Robert       1009920000          1                1   \n",
       "\n",
       "     genderid  empstatus_id  deptid  perf_scoreid  age  Pay Rate state   zip  \\\n",
       "0           0             1       1             3   30     28.50    MA  1450   \n",
       "1           1             1       1             3   34     23.00    MA  1460   \n",
       "2           1             1       1             3   31     29.00    MA  2703   \n",
       "3           0             1       1             9   32     21.50    MA  2170   \n",
       "4           0             1       1             9   30     16.56    MA  2330   \n",
       "..        ...           ...     ...           ...  ...       ...   ...   ...   \n",
       "305         1             1       3             3   48     52.25    MA  2056   \n",
       "306         1             1       3             3   36     51.00    MA  1887   \n",
       "307         1             1       3             3   34     46.00    MA  2045   \n",
       "308         1             1       3             3   30     45.00    MA  2134   \n",
       "309         1             1       3             3   28     45.00    MA  2134   \n",
       "\n",
       "            dob     sex maritaldesc citizendesc Hispanic/Latino  \\\n",
       "0    1987-11-24  Female     Married  US Citizen              No   \n",
       "1    1984-04-26    Male    Divorced  US Citizen              No   \n",
       "2    1986-09-01    Male      Single  US Citizen              No   \n",
       "3    1985-09-16  Female     Married  US Citizen              No   \n",
       "4    1988-05-19  Female      Single  US Citizen              No   \n",
       "..          ...     ...         ...         ...             ...   \n",
       "305  1970-04-25    Male      Single  US Citizen              No   \n",
       "306  1981-07-08    Male      Single  US Citizen              No   \n",
       "307  1983-09-04    Male      Single  US Citizen              No   \n",
       "308  1987-10-24    Male     Married  US Citizen              No   \n",
       "309  1989-06-30    Male     Married  US Citizen              No   \n",
       "\n",
       "                      racedesc Date of Hire  Days Employed  \\\n",
       "0    Black or African American   2008-10-27           3317   \n",
       "1    Black or African American   2014-01-06           1420   \n",
       "2                        White   2014-09-29           1154   \n",
       "3                        White   2015-02-16             58   \n",
       "4                        White   2015-05-01            940   \n",
       "..                         ...          ...            ...   \n",
       "305                      Asian   2017-02-10            289   \n",
       "306                      Asian   2017-02-15            284   \n",
       "307                      White   2017-02-15            284   \n",
       "308                      White   2017-04-20            220   \n",
       "309  Black or African American   2017-04-20            220   \n",
       "\n",
       "    Date of Termination       Reason For Term Employment Status  \\\n",
       "0                  None  N/A - still employed            Active   \n",
       "1                  None  N/A - still employed            Active   \n",
       "2                  None  N/A - still employed            Active   \n",
       "3            2015-04-15  N/A - still employed            Active   \n",
       "4                  None  N/A - still employed            Active   \n",
       "..                  ...                   ...               ...   \n",
       "305                None  N/A - still employed            Active   \n",
       "306                None  N/A - still employed            Active   \n",
       "307                None  N/A - still employed            Active   \n",
       "308                None  N/A - still employed            Active   \n",
       "309                None  N/A - still employed            Active   \n",
       "\n",
       "        department                  position        Manager Name  \\\n",
       "0    Admin Offices              Accountant I  Brandon R. LeBlanc   \n",
       "1    Admin Offices              Accountant I  Brandon R. LeBlanc   \n",
       "2    Admin Offices              Accountant I  Brandon R. LeBlanc   \n",
       "3    Admin Offices  Administrative Assistant  Brandon R. LeBlanc   \n",
       "4    Admin Offices  Administrative Assistant  Brandon R. LeBlanc   \n",
       "..             ...                       ...                 ...   \n",
       "305          IT/IS       Senior BI Developer    Brian Champaigne   \n",
       "306          IT/IS       Senior BI Developer    Brian Champaigne   \n",
       "307          IT/IS              BI Developer    Brian Champaigne   \n",
       "308          IT/IS              BI Developer    Brian Champaigne   \n",
       "309          IT/IS              BI Developer    Brian Champaigne   \n",
       "\n",
       "            Employee Source         Performance Score  \n",
       "0        Diversity Job Fair               Fully Meets  \n",
       "1        Website Banner Ads               Fully Meets  \n",
       "2           Internet Search               Fully Meets  \n",
       "3    Pay Per Click - Google  N/A- too early to review  \n",
       "4        Website Banner Ads  N/A- too early to review  \n",
       "..                      ...                       ...  \n",
       "305                  Indeed               Fully Meets  \n",
       "306                  Indeed               Fully Meets  \n",
       "307                  Indeed               Fully Meets  \n",
       "308                  Indeed               Fully Meets  \n",
       "309                  Indeed               Fully Meets  \n",
       "\n",
       "[310 rows x 29 columns]"
      ]
     },
     "execution_count": 4,
     "metadata": {},
     "output_type": "execute_result"
    }
   ],
   "source": [
    "# просмотр таблицы hr_dataset\n",
    "pd.read_sql_query('''SELECT * FROM hr_dataset''', conn)"
   ]
  },
  {
   "cell_type": "code",
   "execution_count": 5,
   "id": "ada4e2b8",
   "metadata": {},
   "outputs": [
    {
     "data": {
      "text/html": [
       "<div>\n",
       "<style scoped>\n",
       "    .dataframe tbody tr th:only-of-type {\n",
       "        vertical-align: middle;\n",
       "    }\n",
       "\n",
       "    .dataframe tbody tr th {\n",
       "        vertical-align: top;\n",
       "    }\n",
       "\n",
       "    .dataframe thead th {\n",
       "        text-align: right;\n",
       "    }\n",
       "</style>\n",
       "<table border=\"1\" class=\"dataframe\">\n",
       "  <thead>\n",
       "    <tr style=\"text-align: right;\">\n",
       "      <th></th>\n",
       "      <th>id</th>\n",
       "      <th>Employee Name</th>\n",
       "      <th>Race Desc</th>\n",
       "      <th>Date of Hire</th>\n",
       "      <th>TermDate</th>\n",
       "      <th>Reason for Term</th>\n",
       "      <th>Employment Status</th>\n",
       "      <th>Department</th>\n",
       "      <th>Position</th>\n",
       "      <th>Pay</th>\n",
       "      <th>Manager Name</th>\n",
       "      <th>Performance Score</th>\n",
       "      <th>Abutments/Hour Wk 1</th>\n",
       "      <th>Abutments/Hour Wk 2</th>\n",
       "      <th>Daily Error Rate</th>\n",
       "      <th>90-day Complaints</th>\n",
       "    </tr>\n",
       "  </thead>\n",
       "  <tbody>\n",
       "    <tr>\n",
       "      <th>0</th>\n",
       "      <td>1</td>\n",
       "      <td>Albert, Michael</td>\n",
       "      <td>White</td>\n",
       "      <td>2011-08-01</td>\n",
       "      <td>None</td>\n",
       "      <td>N/A - still employed</td>\n",
       "      <td>Active</td>\n",
       "      <td>Production</td>\n",
       "      <td>Production Manager</td>\n",
       "      <td>$54.50</td>\n",
       "      <td>Elisa Bramante</td>\n",
       "      <td>Fully Meets</td>\n",
       "      <td>0.0</td>\n",
       "      <td>0.0</td>\n",
       "      <td>0.0</td>\n",
       "      <td>0.0</td>\n",
       "    </tr>\n",
       "    <tr>\n",
       "      <th>1</th>\n",
       "      <td>2</td>\n",
       "      <td>Bozzi, Charles</td>\n",
       "      <td>Asian</td>\n",
       "      <td>2013-09-30</td>\n",
       "      <td>2014-08-07</td>\n",
       "      <td>retiring</td>\n",
       "      <td>Voluntarily Terminated</td>\n",
       "      <td>Production</td>\n",
       "      <td>Production Manager</td>\n",
       "      <td>$50.50</td>\n",
       "      <td>Elisa Bramante</td>\n",
       "      <td>Fully Meets</td>\n",
       "      <td>0.0</td>\n",
       "      <td>0.0</td>\n",
       "      <td>0.0</td>\n",
       "      <td>0.0</td>\n",
       "    </tr>\n",
       "    <tr>\n",
       "      <th>2</th>\n",
       "      <td>3</td>\n",
       "      <td>Butler, Webster  L</td>\n",
       "      <td>White</td>\n",
       "      <td>2016-01-28</td>\n",
       "      <td>None</td>\n",
       "      <td>N/A - still employed</td>\n",
       "      <td>Active</td>\n",
       "      <td>Production</td>\n",
       "      <td>Production Manager</td>\n",
       "      <td>$55.00</td>\n",
       "      <td>Elisa Bramante</td>\n",
       "      <td>Exceeds</td>\n",
       "      <td>0.0</td>\n",
       "      <td>0.0</td>\n",
       "      <td>0.0</td>\n",
       "      <td>0.0</td>\n",
       "    </tr>\n",
       "    <tr>\n",
       "      <th>3</th>\n",
       "      <td>4</td>\n",
       "      <td>Dunn, Amy</td>\n",
       "      <td>White</td>\n",
       "      <td>2014-09-18</td>\n",
       "      <td>None</td>\n",
       "      <td>N/A - still employed</td>\n",
       "      <td>Active</td>\n",
       "      <td>Production</td>\n",
       "      <td>Production Manager</td>\n",
       "      <td>$51.00</td>\n",
       "      <td>Elisa Bramante</td>\n",
       "      <td>Fully Meets</td>\n",
       "      <td>0.0</td>\n",
       "      <td>0.0</td>\n",
       "      <td>0.0</td>\n",
       "      <td>0.0</td>\n",
       "    </tr>\n",
       "    <tr>\n",
       "      <th>4</th>\n",
       "      <td>5</td>\n",
       "      <td>Gray, Elijiah</td>\n",
       "      <td>White</td>\n",
       "      <td>2015-06-02</td>\n",
       "      <td>None</td>\n",
       "      <td>N/A - still employed</td>\n",
       "      <td>Active</td>\n",
       "      <td>Production</td>\n",
       "      <td>Production Manager</td>\n",
       "      <td>$54.00</td>\n",
       "      <td>Elisa Bramante</td>\n",
       "      <td>Fully Meets</td>\n",
       "      <td>0.0</td>\n",
       "      <td>0.0</td>\n",
       "      <td>0.0</td>\n",
       "      <td>0.0</td>\n",
       "    </tr>\n",
       "    <tr>\n",
       "      <th>...</th>\n",
       "      <td>...</td>\n",
       "      <td>...</td>\n",
       "      <td>...</td>\n",
       "      <td>...</td>\n",
       "      <td>...</td>\n",
       "      <td>...</td>\n",
       "      <td>...</td>\n",
       "      <td>...</td>\n",
       "      <td>...</td>\n",
       "      <td>...</td>\n",
       "      <td>...</td>\n",
       "      <td>...</td>\n",
       "      <td>...</td>\n",
       "      <td>...</td>\n",
       "      <td>...</td>\n",
       "      <td>...</td>\n",
       "    </tr>\n",
       "    <tr>\n",
       "      <th>251</th>\n",
       "      <td>252</td>\n",
       "      <td>None</td>\n",
       "      <td>None</td>\n",
       "      <td>None</td>\n",
       "      <td>None</td>\n",
       "      <td>None</td>\n",
       "      <td>None</td>\n",
       "      <td>None</td>\n",
       "      <td>None</td>\n",
       "      <td>None</td>\n",
       "      <td>None</td>\n",
       "      <td>None</td>\n",
       "      <td>NaN</td>\n",
       "      <td>NaN</td>\n",
       "      <td>NaN</td>\n",
       "      <td>NaN</td>\n",
       "    </tr>\n",
       "    <tr>\n",
       "      <th>252</th>\n",
       "      <td>253</td>\n",
       "      <td>None</td>\n",
       "      <td>None</td>\n",
       "      <td>None</td>\n",
       "      <td>None</td>\n",
       "      <td>None</td>\n",
       "      <td>None</td>\n",
       "      <td>None</td>\n",
       "      <td>None</td>\n",
       "      <td>None</td>\n",
       "      <td>None</td>\n",
       "      <td>None</td>\n",
       "      <td>NaN</td>\n",
       "      <td>NaN</td>\n",
       "      <td>NaN</td>\n",
       "      <td>NaN</td>\n",
       "    </tr>\n",
       "    <tr>\n",
       "      <th>253</th>\n",
       "      <td>254</td>\n",
       "      <td>None</td>\n",
       "      <td>None</td>\n",
       "      <td>None</td>\n",
       "      <td>None</td>\n",
       "      <td>None</td>\n",
       "      <td>None</td>\n",
       "      <td>None</td>\n",
       "      <td>None</td>\n",
       "      <td>None</td>\n",
       "      <td>None</td>\n",
       "      <td>None</td>\n",
       "      <td>NaN</td>\n",
       "      <td>NaN</td>\n",
       "      <td>NaN</td>\n",
       "      <td>NaN</td>\n",
       "    </tr>\n",
       "    <tr>\n",
       "      <th>254</th>\n",
       "      <td>255</td>\n",
       "      <td>None</td>\n",
       "      <td>None</td>\n",
       "      <td>None</td>\n",
       "      <td>None</td>\n",
       "      <td>None</td>\n",
       "      <td>None</td>\n",
       "      <td>None</td>\n",
       "      <td>None</td>\n",
       "      <td>None</td>\n",
       "      <td>None</td>\n",
       "      <td>None</td>\n",
       "      <td>NaN</td>\n",
       "      <td>NaN</td>\n",
       "      <td>NaN</td>\n",
       "      <td>NaN</td>\n",
       "    </tr>\n",
       "    <tr>\n",
       "      <th>255</th>\n",
       "      <td>256</td>\n",
       "      <td>None</td>\n",
       "      <td>None</td>\n",
       "      <td>None</td>\n",
       "      <td>None</td>\n",
       "      <td>None</td>\n",
       "      <td>None</td>\n",
       "      <td>None</td>\n",
       "      <td>None</td>\n",
       "      <td>None</td>\n",
       "      <td>None</td>\n",
       "      <td>None</td>\n",
       "      <td>NaN</td>\n",
       "      <td>NaN</td>\n",
       "      <td>NaN</td>\n",
       "      <td>NaN</td>\n",
       "    </tr>\n",
       "  </tbody>\n",
       "</table>\n",
       "<p>256 rows × 16 columns</p>\n",
       "</div>"
      ],
      "text/plain": [
       "      id       Employee Name Race Desc Date of Hire    TermDate  \\\n",
       "0      1   Albert, Michael       White   2011-08-01        None   \n",
       "1      2      Bozzi, Charles     Asian   2013-09-30  2014-08-07   \n",
       "2      3  Butler, Webster  L     White   2016-01-28        None   \n",
       "3      4         Dunn, Amy       White   2014-09-18        None   \n",
       "4      5     Gray, Elijiah       White   2015-06-02        None   \n",
       "..   ...                 ...       ...          ...         ...   \n",
       "251  252                None      None         None        None   \n",
       "252  253                None      None         None        None   \n",
       "253  254                None      None         None        None   \n",
       "254  255                None      None         None        None   \n",
       "255  256                None      None         None        None   \n",
       "\n",
       "          Reason for Term       Employment Status         Department  \\\n",
       "0    N/A - still employed                  Active  Production          \n",
       "1                retiring  Voluntarily Terminated  Production          \n",
       "2    N/A - still employed                  Active  Production          \n",
       "3    N/A - still employed                  Active  Production          \n",
       "4    N/A - still employed                  Active  Production          \n",
       "..                    ...                     ...                ...   \n",
       "251                  None                    None               None   \n",
       "252                  None                    None               None   \n",
       "253                  None                    None               None   \n",
       "254                  None                    None               None   \n",
       "255                  None                    None               None   \n",
       "\n",
       "               Position     Pay    Manager Name Performance Score  \\\n",
       "0    Production Manager  $54.50  Elisa Bramante       Fully Meets   \n",
       "1    Production Manager  $50.50  Elisa Bramante       Fully Meets   \n",
       "2    Production Manager  $55.00  Elisa Bramante           Exceeds   \n",
       "3    Production Manager  $51.00  Elisa Bramante       Fully Meets   \n",
       "4    Production Manager  $54.00  Elisa Bramante       Fully Meets   \n",
       "..                  ...     ...             ...               ...   \n",
       "251                None    None            None              None   \n",
       "252                None    None            None              None   \n",
       "253                None    None            None              None   \n",
       "254                None    None            None              None   \n",
       "255                None    None            None              None   \n",
       "\n",
       "     Abutments/Hour Wk 1  Abutments/Hour Wk 2  Daily Error Rate  \\\n",
       "0                    0.0                  0.0               0.0   \n",
       "1                    0.0                  0.0               0.0   \n",
       "2                    0.0                  0.0               0.0   \n",
       "3                    0.0                  0.0               0.0   \n",
       "4                    0.0                  0.0               0.0   \n",
       "..                   ...                  ...               ...   \n",
       "251                  NaN                  NaN               NaN   \n",
       "252                  NaN                  NaN               NaN   \n",
       "253                  NaN                  NaN               NaN   \n",
       "254                  NaN                  NaN               NaN   \n",
       "255                  NaN                  NaN               NaN   \n",
       "\n",
       "     90-day Complaints  \n",
       "0                  0.0  \n",
       "1                  0.0  \n",
       "2                  0.0  \n",
       "3                  0.0  \n",
       "4                  0.0  \n",
       "..                 ...  \n",
       "251                NaN  \n",
       "252                NaN  \n",
       "253                NaN  \n",
       "254                NaN  \n",
       "255                NaN  \n",
       "\n",
       "[256 rows x 16 columns]"
      ]
     },
     "execution_count": 5,
     "metadata": {},
     "output_type": "execute_result"
    }
   ],
   "source": [
    "# просмотр таблицы production_staff\n",
    "pd.read_sql_query('''SELECT * FROM production_staff''', conn)"
   ]
  },
  {
   "cell_type": "code",
   "execution_count": 6,
   "id": "d9845e40",
   "metadata": {},
   "outputs": [
    {
     "data": {
      "text/html": [
       "<div>\n",
       "<style scoped>\n",
       "    .dataframe tbody tr th:only-of-type {\n",
       "        vertical-align: middle;\n",
       "    }\n",
       "\n",
       "    .dataframe tbody tr th {\n",
       "        vertical-align: top;\n",
       "    }\n",
       "\n",
       "    .dataframe thead th {\n",
       "        text-align: right;\n",
       "    }\n",
       "</style>\n",
       "<table border=\"1\" class=\"dataframe\">\n",
       "  <thead>\n",
       "    <tr style=\"text-align: right;\">\n",
       "      <th></th>\n",
       "      <th>id</th>\n",
       "      <th>Employment Source</th>\n",
       "      <th>January</th>\n",
       "      <th>February</th>\n",
       "      <th>March</th>\n",
       "      <th>April</th>\n",
       "      <th>May</th>\n",
       "      <th>June</th>\n",
       "      <th>July</th>\n",
       "      <th>August</th>\n",
       "      <th>September</th>\n",
       "      <th>October</th>\n",
       "      <th>November</th>\n",
       "      <th>December</th>\n",
       "      <th>Total</th>\n",
       "    </tr>\n",
       "  </thead>\n",
       "  <tbody>\n",
       "    <tr>\n",
       "      <th>0</th>\n",
       "      <td>1</td>\n",
       "      <td>Billboard</td>\n",
       "      <td>520</td>\n",
       "      <td>520</td>\n",
       "      <td>520</td>\n",
       "      <td>520</td>\n",
       "      <td>0</td>\n",
       "      <td>0</td>\n",
       "      <td>612</td>\n",
       "      <td>612</td>\n",
       "      <td>729</td>\n",
       "      <td>749</td>\n",
       "      <td>910</td>\n",
       "      <td>500</td>\n",
       "      <td>6192</td>\n",
       "    </tr>\n",
       "    <tr>\n",
       "      <th>1</th>\n",
       "      <td>2</td>\n",
       "      <td>Careerbuilder</td>\n",
       "      <td>410</td>\n",
       "      <td>410</td>\n",
       "      <td>410</td>\n",
       "      <td>820</td>\n",
       "      <td>820</td>\n",
       "      <td>410</td>\n",
       "      <td>410</td>\n",
       "      <td>820</td>\n",
       "      <td>820</td>\n",
       "      <td>1230</td>\n",
       "      <td>820</td>\n",
       "      <td>410</td>\n",
       "      <td>7790</td>\n",
       "    </tr>\n",
       "    <tr>\n",
       "      <th>2</th>\n",
       "      <td>3</td>\n",
       "      <td>Company Intranet - Partner</td>\n",
       "      <td>0</td>\n",
       "      <td>0</td>\n",
       "      <td>0</td>\n",
       "      <td>0</td>\n",
       "      <td>0</td>\n",
       "      <td>0</td>\n",
       "      <td>0</td>\n",
       "      <td>0</td>\n",
       "      <td>0</td>\n",
       "      <td>0</td>\n",
       "      <td>0</td>\n",
       "      <td>0</td>\n",
       "      <td>0</td>\n",
       "    </tr>\n",
       "    <tr>\n",
       "      <th>3</th>\n",
       "      <td>4</td>\n",
       "      <td>Diversity Job Fair</td>\n",
       "      <td>0</td>\n",
       "      <td>5129</td>\n",
       "      <td>0</td>\n",
       "      <td>0</td>\n",
       "      <td>0</td>\n",
       "      <td>0</td>\n",
       "      <td>0</td>\n",
       "      <td>4892</td>\n",
       "      <td>0</td>\n",
       "      <td>0</td>\n",
       "      <td>0</td>\n",
       "      <td>0</td>\n",
       "      <td>10021</td>\n",
       "    </tr>\n",
       "    <tr>\n",
       "      <th>4</th>\n",
       "      <td>5</td>\n",
       "      <td>Employee Referral</td>\n",
       "      <td>0</td>\n",
       "      <td>0</td>\n",
       "      <td>0</td>\n",
       "      <td>0</td>\n",
       "      <td>0</td>\n",
       "      <td>0</td>\n",
       "      <td>0</td>\n",
       "      <td>0</td>\n",
       "      <td>0</td>\n",
       "      <td>0</td>\n",
       "      <td>0</td>\n",
       "      <td>0</td>\n",
       "      <td>0</td>\n",
       "    </tr>\n",
       "    <tr>\n",
       "      <th>5</th>\n",
       "      <td>6</td>\n",
       "      <td>Glassdoor</td>\n",
       "      <td>0</td>\n",
       "      <td>0</td>\n",
       "      <td>0</td>\n",
       "      <td>0</td>\n",
       "      <td>0</td>\n",
       "      <td>0</td>\n",
       "      <td>0</td>\n",
       "      <td>0</td>\n",
       "      <td>0</td>\n",
       "      <td>0</td>\n",
       "      <td>0</td>\n",
       "      <td>0</td>\n",
       "      <td>0</td>\n",
       "    </tr>\n",
       "    <tr>\n",
       "      <th>6</th>\n",
       "      <td>7</td>\n",
       "      <td>Information Session</td>\n",
       "      <td>0</td>\n",
       "      <td>0</td>\n",
       "      <td>0</td>\n",
       "      <td>0</td>\n",
       "      <td>0</td>\n",
       "      <td>0</td>\n",
       "      <td>0</td>\n",
       "      <td>0</td>\n",
       "      <td>0</td>\n",
       "      <td>0</td>\n",
       "      <td>0</td>\n",
       "      <td>0</td>\n",
       "      <td>0</td>\n",
       "    </tr>\n",
       "    <tr>\n",
       "      <th>7</th>\n",
       "      <td>8</td>\n",
       "      <td>Internet Search</td>\n",
       "      <td>0</td>\n",
       "      <td>0</td>\n",
       "      <td>0</td>\n",
       "      <td>0</td>\n",
       "      <td>0</td>\n",
       "      <td>0</td>\n",
       "      <td>0</td>\n",
       "      <td>0</td>\n",
       "      <td>0</td>\n",
       "      <td>0</td>\n",
       "      <td>0</td>\n",
       "      <td>0</td>\n",
       "      <td>0</td>\n",
       "    </tr>\n",
       "    <tr>\n",
       "      <th>8</th>\n",
       "      <td>9</td>\n",
       "      <td>MBTA ads</td>\n",
       "      <td>640</td>\n",
       "      <td>640</td>\n",
       "      <td>640</td>\n",
       "      <td>640</td>\n",
       "      <td>640</td>\n",
       "      <td>640</td>\n",
       "      <td>640</td>\n",
       "      <td>1300</td>\n",
       "      <td>1300</td>\n",
       "      <td>1300</td>\n",
       "      <td>1300</td>\n",
       "      <td>1300</td>\n",
       "      <td>10980</td>\n",
       "    </tr>\n",
       "    <tr>\n",
       "      <th>9</th>\n",
       "      <td>10</td>\n",
       "      <td>Monster.com</td>\n",
       "      <td>500</td>\n",
       "      <td>500</td>\n",
       "      <td>500</td>\n",
       "      <td>440</td>\n",
       "      <td>500</td>\n",
       "      <td>500</td>\n",
       "      <td>440</td>\n",
       "      <td>500</td>\n",
       "      <td>440</td>\n",
       "      <td>440</td>\n",
       "      <td>500</td>\n",
       "      <td>500</td>\n",
       "      <td>5760</td>\n",
       "    </tr>\n",
       "    <tr>\n",
       "      <th>10</th>\n",
       "      <td>11</td>\n",
       "      <td>Newspager/Magazine</td>\n",
       "      <td>629</td>\n",
       "      <td>510</td>\n",
       "      <td>293</td>\n",
       "      <td>810</td>\n",
       "      <td>642</td>\n",
       "      <td>675</td>\n",
       "      <td>707</td>\n",
       "      <td>740</td>\n",
       "      <td>772</td>\n",
       "      <td>805</td>\n",
       "      <td>838</td>\n",
       "      <td>870</td>\n",
       "      <td>8291</td>\n",
       "    </tr>\n",
       "    <tr>\n",
       "      <th>11</th>\n",
       "      <td>12</td>\n",
       "      <td>On-campus Recruiting</td>\n",
       "      <td>0</td>\n",
       "      <td>0</td>\n",
       "      <td>2500</td>\n",
       "      <td>0</td>\n",
       "      <td>0</td>\n",
       "      <td>2500</td>\n",
       "      <td>0</td>\n",
       "      <td>0</td>\n",
       "      <td>2500</td>\n",
       "      <td>0</td>\n",
       "      <td>0</td>\n",
       "      <td>0</td>\n",
       "      <td>7500</td>\n",
       "    </tr>\n",
       "    <tr>\n",
       "      <th>12</th>\n",
       "      <td>13</td>\n",
       "      <td>On-line Web application</td>\n",
       "      <td>0</td>\n",
       "      <td>0</td>\n",
       "      <td>0</td>\n",
       "      <td>0</td>\n",
       "      <td>0</td>\n",
       "      <td>0</td>\n",
       "      <td>0</td>\n",
       "      <td>0</td>\n",
       "      <td>0</td>\n",
       "      <td>0</td>\n",
       "      <td>0</td>\n",
       "      <td>0</td>\n",
       "      <td>0</td>\n",
       "    </tr>\n",
       "    <tr>\n",
       "      <th>13</th>\n",
       "      <td>14</td>\n",
       "      <td>Other</td>\n",
       "      <td>0</td>\n",
       "      <td>492</td>\n",
       "      <td>0</td>\n",
       "      <td>829</td>\n",
       "      <td>744</td>\n",
       "      <td>0</td>\n",
       "      <td>610</td>\n",
       "      <td>0</td>\n",
       "      <td>0</td>\n",
       "      <td>510</td>\n",
       "      <td>0</td>\n",
       "      <td>810</td>\n",
       "      <td>3995</td>\n",
       "    </tr>\n",
       "    <tr>\n",
       "      <th>14</th>\n",
       "      <td>15</td>\n",
       "      <td>Pay Per Click</td>\n",
       "      <td>110</td>\n",
       "      <td>110</td>\n",
       "      <td>60</td>\n",
       "      <td>121</td>\n",
       "      <td>110</td>\n",
       "      <td>109</td>\n",
       "      <td>130</td>\n",
       "      <td>146</td>\n",
       "      <td>105</td>\n",
       "      <td>109</td>\n",
       "      <td>105</td>\n",
       "      <td>110</td>\n",
       "      <td>1323</td>\n",
       "    </tr>\n",
       "    <tr>\n",
       "      <th>15</th>\n",
       "      <td>16</td>\n",
       "      <td>Pay Per Click - Google</td>\n",
       "      <td>330</td>\n",
       "      <td>330</td>\n",
       "      <td>180</td>\n",
       "      <td>362</td>\n",
       "      <td>197</td>\n",
       "      <td>152</td>\n",
       "      <td>389</td>\n",
       "      <td>437</td>\n",
       "      <td>315</td>\n",
       "      <td>327</td>\n",
       "      <td>315</td>\n",
       "      <td>176</td>\n",
       "      <td>3509</td>\n",
       "    </tr>\n",
       "    <tr>\n",
       "      <th>16</th>\n",
       "      <td>17</td>\n",
       "      <td>Professional Society</td>\n",
       "      <td>100</td>\n",
       "      <td>100</td>\n",
       "      <td>100</td>\n",
       "      <td>100</td>\n",
       "      <td>100</td>\n",
       "      <td>100</td>\n",
       "      <td>100</td>\n",
       "      <td>100</td>\n",
       "      <td>100</td>\n",
       "      <td>100</td>\n",
       "      <td>100</td>\n",
       "      <td>100</td>\n",
       "      <td>1200</td>\n",
       "    </tr>\n",
       "    <tr>\n",
       "      <th>17</th>\n",
       "      <td>18</td>\n",
       "      <td>Search Engine - Google Bing Yahoo</td>\n",
       "      <td>330</td>\n",
       "      <td>410</td>\n",
       "      <td>388</td>\n",
       "      <td>372</td>\n",
       "      <td>472</td>\n",
       "      <td>412</td>\n",
       "      <td>416</td>\n",
       "      <td>495</td>\n",
       "      <td>619</td>\n",
       "      <td>502</td>\n",
       "      <td>389</td>\n",
       "      <td>378</td>\n",
       "      <td>5183</td>\n",
       "    </tr>\n",
       "    <tr>\n",
       "      <th>18</th>\n",
       "      <td>19</td>\n",
       "      <td>Social Networks - Facebook Twitter etc</td>\n",
       "      <td>420</td>\n",
       "      <td>481</td>\n",
       "      <td>452</td>\n",
       "      <td>479</td>\n",
       "      <td>392</td>\n",
       "      <td>508</td>\n",
       "      <td>578</td>\n",
       "      <td>466</td>\n",
       "      <td>389</td>\n",
       "      <td>439</td>\n",
       "      <td>491</td>\n",
       "      <td>478</td>\n",
       "      <td>5573</td>\n",
       "    </tr>\n",
       "    <tr>\n",
       "      <th>19</th>\n",
       "      <td>20</td>\n",
       "      <td>Vendor Referral</td>\n",
       "      <td>0</td>\n",
       "      <td>0</td>\n",
       "      <td>0</td>\n",
       "      <td>0</td>\n",
       "      <td>0</td>\n",
       "      <td>0</td>\n",
       "      <td>0</td>\n",
       "      <td>0</td>\n",
       "      <td>0</td>\n",
       "      <td>0</td>\n",
       "      <td>0</td>\n",
       "      <td>0</td>\n",
       "      <td>0</td>\n",
       "    </tr>\n",
       "    <tr>\n",
       "      <th>20</th>\n",
       "      <td>21</td>\n",
       "      <td>Website Banner Ads</td>\n",
       "      <td>400</td>\n",
       "      <td>400</td>\n",
       "      <td>300</td>\n",
       "      <td>388</td>\n",
       "      <td>592</td>\n",
       "      <td>610</td>\n",
       "      <td>620</td>\n",
       "      <td>669</td>\n",
       "      <td>718</td>\n",
       "      <td>767</td>\n",
       "      <td>816</td>\n",
       "      <td>865</td>\n",
       "      <td>7143</td>\n",
       "    </tr>\n",
       "    <tr>\n",
       "      <th>21</th>\n",
       "      <td>22</td>\n",
       "      <td>Word of Mouth</td>\n",
       "      <td>0</td>\n",
       "      <td>0</td>\n",
       "      <td>0</td>\n",
       "      <td>0</td>\n",
       "      <td>0</td>\n",
       "      <td>0</td>\n",
       "      <td>0</td>\n",
       "      <td>0</td>\n",
       "      <td>0</td>\n",
       "      <td>0</td>\n",
       "      <td>0</td>\n",
       "      <td>0</td>\n",
       "      <td>0</td>\n",
       "    </tr>\n",
       "  </tbody>\n",
       "</table>\n",
       "</div>"
      ],
      "text/plain": [
       "    id                       Employment Source  January   February  March  \\\n",
       "0    1                               Billboard       520       520    520   \n",
       "1    2                           Careerbuilder       410       410    410   \n",
       "2    3              Company Intranet - Partner         0         0      0   \n",
       "3    4                      Diversity Job Fair         0      5129      0   \n",
       "4    5                       Employee Referral         0         0      0   \n",
       "5    6                               Glassdoor         0         0      0   \n",
       "6    7                     Information Session         0         0      0   \n",
       "7    8                         Internet Search         0         0      0   \n",
       "8    9                                MBTA ads       640       640    640   \n",
       "9   10                             Monster.com       500       500    500   \n",
       "10  11                      Newspager/Magazine       629       510    293   \n",
       "11  12                    On-campus Recruiting         0         0   2500   \n",
       "12  13                 On-line Web application         0         0      0   \n",
       "13  14                                   Other         0       492      0   \n",
       "14  15                           Pay Per Click       110       110     60   \n",
       "15  16                  Pay Per Click - Google       330       330    180   \n",
       "16  17                    Professional Society       100       100    100   \n",
       "17  18       Search Engine - Google Bing Yahoo       330       410    388   \n",
       "18  19  Social Networks - Facebook Twitter etc       420       481    452   \n",
       "19  20                         Vendor Referral         0         0      0   \n",
       "20  21                      Website Banner Ads       400       400    300   \n",
       "21  22                           Word of Mouth         0         0      0   \n",
       "\n",
       "    April  May  June  July  August  September  October  November  December  \\\n",
       "0     520    0     0   612     612        729      749       910       500   \n",
       "1     820  820   410   410     820        820     1230       820       410   \n",
       "2       0    0     0     0       0          0        0         0         0   \n",
       "3       0    0     0     0    4892          0        0         0         0   \n",
       "4       0    0     0     0       0          0        0         0         0   \n",
       "5       0    0     0     0       0          0        0         0         0   \n",
       "6       0    0     0     0       0          0        0         0         0   \n",
       "7       0    0     0     0       0          0        0         0         0   \n",
       "8     640  640   640   640    1300       1300     1300      1300      1300   \n",
       "9     440  500   500   440     500        440      440       500       500   \n",
       "10    810  642   675   707     740        772      805       838       870   \n",
       "11      0    0  2500     0       0       2500        0         0         0   \n",
       "12      0    0     0     0       0          0        0         0         0   \n",
       "13    829  744     0   610       0          0      510         0       810   \n",
       "14    121  110   109   130     146        105      109       105       110   \n",
       "15    362  197   152   389     437        315      327       315       176   \n",
       "16    100  100   100   100     100        100      100       100       100   \n",
       "17    372  472   412   416     495        619      502       389       378   \n",
       "18    479  392   508   578     466        389      439       491       478   \n",
       "19      0    0     0     0       0          0        0         0         0   \n",
       "20    388  592   610   620     669        718      767       816       865   \n",
       "21      0    0     0     0       0          0        0         0         0   \n",
       "\n",
       "    Total  \n",
       "0    6192  \n",
       "1    7790  \n",
       "2       0  \n",
       "3   10021  \n",
       "4       0  \n",
       "5       0  \n",
       "6       0  \n",
       "7       0  \n",
       "8   10980  \n",
       "9    5760  \n",
       "10   8291  \n",
       "11   7500  \n",
       "12      0  \n",
       "13   3995  \n",
       "14   1323  \n",
       "15   3509  \n",
       "16   1200  \n",
       "17   5183  \n",
       "18   5573  \n",
       "19      0  \n",
       "20   7143  \n",
       "21      0  "
      ]
     },
     "execution_count": 6,
     "metadata": {},
     "output_type": "execute_result"
    }
   ],
   "source": [
    "# просмотр таблицы recruiting_costs\n",
    "pd.read_sql_query('''SELECT * FROM recruiting_costs''', conn)"
   ]
  },
  {
   "cell_type": "code",
   "execution_count": 7,
   "id": "d3fc7139",
   "metadata": {},
   "outputs": [
    {
     "data": {
      "text/html": [
       "<div>\n",
       "<style scoped>\n",
       "    .dataframe tbody tr th:only-of-type {\n",
       "        vertical-align: middle;\n",
       "    }\n",
       "\n",
       "    .dataframe tbody tr th {\n",
       "        vertical-align: top;\n",
       "    }\n",
       "\n",
       "    .dataframe thead th {\n",
       "        text-align: right;\n",
       "    }\n",
       "</style>\n",
       "<table border=\"1\" class=\"dataframe\">\n",
       "  <thead>\n",
       "    <tr style=\"text-align: right;\">\n",
       "      <th></th>\n",
       "      <th>id</th>\n",
       "      <th>Position</th>\n",
       "      <th>Salary Min</th>\n",
       "      <th>Salary Mid</th>\n",
       "      <th>Salary Max</th>\n",
       "      <th>Hourly Min</th>\n",
       "      <th>Hourly Mid</th>\n",
       "      <th>Hourly Max</th>\n",
       "    </tr>\n",
       "  </thead>\n",
       "  <tbody>\n",
       "    <tr>\n",
       "      <th>0</th>\n",
       "      <td>1</td>\n",
       "      <td>Administrative Assistant</td>\n",
       "      <td>30000</td>\n",
       "      <td>40000</td>\n",
       "      <td>50000</td>\n",
       "      <td>14.42</td>\n",
       "      <td>19.23</td>\n",
       "      <td>24.04</td>\n",
       "    </tr>\n",
       "    <tr>\n",
       "      <th>1</th>\n",
       "      <td>2</td>\n",
       "      <td>Sr. Administrative Assistant</td>\n",
       "      <td>35000</td>\n",
       "      <td>45000</td>\n",
       "      <td>55000</td>\n",
       "      <td>16.83</td>\n",
       "      <td>21.63</td>\n",
       "      <td>26.44</td>\n",
       "    </tr>\n",
       "    <tr>\n",
       "      <th>2</th>\n",
       "      <td>3</td>\n",
       "      <td>Accountant I</td>\n",
       "      <td>42274</td>\n",
       "      <td>51425</td>\n",
       "      <td>62299</td>\n",
       "      <td>20.32</td>\n",
       "      <td>24.72</td>\n",
       "      <td>29.95</td>\n",
       "    </tr>\n",
       "    <tr>\n",
       "      <th>3</th>\n",
       "      <td>4</td>\n",
       "      <td>Accountant II</td>\n",
       "      <td>50490</td>\n",
       "      <td>62158</td>\n",
       "      <td>74658</td>\n",
       "      <td>24.27</td>\n",
       "      <td>29.88</td>\n",
       "      <td>35.89</td>\n",
       "    </tr>\n",
       "    <tr>\n",
       "      <th>4</th>\n",
       "      <td>5</td>\n",
       "      <td>Sr. Accountant</td>\n",
       "      <td>63264</td>\n",
       "      <td>76988</td>\n",
       "      <td>92454</td>\n",
       "      <td>30.42</td>\n",
       "      <td>37.01</td>\n",
       "      <td>44.45</td>\n",
       "    </tr>\n",
       "    <tr>\n",
       "      <th>5</th>\n",
       "      <td>6</td>\n",
       "      <td>Network Engineer</td>\n",
       "      <td>50845</td>\n",
       "      <td>66850</td>\n",
       "      <td>88279</td>\n",
       "      <td>24.44</td>\n",
       "      <td>32.14</td>\n",
       "      <td>42.44</td>\n",
       "    </tr>\n",
       "    <tr>\n",
       "      <th>6</th>\n",
       "      <td>7</td>\n",
       "      <td>Sr. Network Engineer</td>\n",
       "      <td>79428</td>\n",
       "      <td>99458</td>\n",
       "      <td>120451</td>\n",
       "      <td>38.19</td>\n",
       "      <td>47.82</td>\n",
       "      <td>57.91</td>\n",
       "    </tr>\n",
       "    <tr>\n",
       "      <th>7</th>\n",
       "      <td>8</td>\n",
       "      <td>Database Administrator</td>\n",
       "      <td>50569</td>\n",
       "      <td>68306</td>\n",
       "      <td>93312</td>\n",
       "      <td>24.31</td>\n",
       "      <td>32.84</td>\n",
       "      <td>44.86</td>\n",
       "    </tr>\n",
       "    <tr>\n",
       "      <th>8</th>\n",
       "      <td>9</td>\n",
       "      <td>Sr. DBA</td>\n",
       "      <td>92863</td>\n",
       "      <td>116007</td>\n",
       "      <td>139170</td>\n",
       "      <td>44.65</td>\n",
       "      <td>55.77</td>\n",
       "      <td>66.91</td>\n",
       "    </tr>\n",
       "    <tr>\n",
       "      <th>9</th>\n",
       "      <td>10</td>\n",
       "      <td>Production Technician I</td>\n",
       "      <td>30000</td>\n",
       "      <td>40000</td>\n",
       "      <td>50000</td>\n",
       "      <td>14.42</td>\n",
       "      <td>19.23</td>\n",
       "      <td>24.04</td>\n",
       "    </tr>\n",
       "    <tr>\n",
       "      <th>10</th>\n",
       "      <td>11</td>\n",
       "      <td>Production Technician II</td>\n",
       "      <td>38000</td>\n",
       "      <td>48000</td>\n",
       "      <td>58000</td>\n",
       "      <td>18.27</td>\n",
       "      <td>23.08</td>\n",
       "      <td>27.88</td>\n",
       "    </tr>\n",
       "    <tr>\n",
       "      <th>11</th>\n",
       "      <td>12</td>\n",
       "      <td>Lead Production Technician</td>\n",
       "      <td>45000</td>\n",
       "      <td>55000</td>\n",
       "      <td>65000</td>\n",
       "      <td>21.63</td>\n",
       "      <td>26.44</td>\n",
       "      <td>31.25</td>\n",
       "    </tr>\n",
       "  </tbody>\n",
       "</table>\n",
       "</div>"
      ],
      "text/plain": [
       "    id                      Position  Salary Min  Salary Mid  Salary Max  \\\n",
       "0    1      Administrative Assistant       30000       40000       50000   \n",
       "1    2  Sr. Administrative Assistant       35000       45000       55000   \n",
       "2    3                  Accountant I       42274       51425       62299   \n",
       "3    4                 Accountant II       50490       62158       74658   \n",
       "4    5                Sr. Accountant       63264       76988       92454   \n",
       "5    6              Network Engineer       50845       66850       88279   \n",
       "6    7          Sr. Network Engineer       79428       99458      120451   \n",
       "7    8        Database Administrator       50569       68306       93312   \n",
       "8    9                       Sr. DBA       92863      116007      139170   \n",
       "9   10       Production Technician I       30000       40000       50000   \n",
       "10  11      Production Technician II       38000       48000       58000   \n",
       "11  12    Lead Production Technician       45000       55000       65000   \n",
       "\n",
       "    Hourly Min  Hourly Mid  Hourly Max  \n",
       "0        14.42       19.23       24.04  \n",
       "1        16.83       21.63       26.44  \n",
       "2        20.32       24.72       29.95  \n",
       "3        24.27       29.88       35.89  \n",
       "4        30.42       37.01       44.45  \n",
       "5        24.44       32.14       42.44  \n",
       "6        38.19       47.82       57.91  \n",
       "7        24.31       32.84       44.86  \n",
       "8        44.65       55.77       66.91  \n",
       "9        14.42       19.23       24.04  \n",
       "10       18.27       23.08       27.88  \n",
       "11       21.63       26.44       31.25  "
      ]
     },
     "execution_count": 7,
     "metadata": {},
     "output_type": "execute_result"
    }
   ],
   "source": [
    "# просмотр таблицы salary_grid\n",
    "pd.read_sql_query('''SELECT * FROM salary_grid''', conn)"
   ]
  },
  {
   "cell_type": "markdown",
   "id": "b7c1012b",
   "metadata": {},
   "source": [
    "## 2. Исследование зависимостей метрик эффективности от возраста сотрудника"
   ]
  },
  {
   "cell_type": "markdown",
   "id": "ed53d354",
   "metadata": {},
   "source": [
    "### Выбранные метрики."
   ]
  },
  {
   "cell_type": "markdown",
   "id": "922a215c",
   "metadata": {},
   "source": [
    "В рамках исследования зависимостей метрик эффективности от возраста сотрудника мы можем рассмотреть следующие метрики:\n",
    "\n",
    "- Зависимость средней продолжительности работы от возраста.\n",
    "- Зависимость количества увольнений от возраста в процентах.\n",
    "- Зависимость количества увольнений по группам возрастов.\n",
    "- Зависимость причины увольнения от возраста.\n",
    "- Зависимость среднего рейтинга от возраста."
   ]
  },
  {
   "cell_type": "markdown",
   "id": "0dcf750e",
   "metadata": {},
   "source": [
    "#### Зависимость средней продолжительности работы от возраста."
   ]
  },
  {
   "cell_type": "code",
   "execution_count": 36,
   "id": "6f54465b",
   "metadata": {},
   "outputs": [
    {
     "data": {
      "text/html": [
       "<div>\n",
       "<style scoped>\n",
       "    .dataframe tbody tr th:only-of-type {\n",
       "        vertical-align: middle;\n",
       "    }\n",
       "\n",
       "    .dataframe tbody tr th {\n",
       "        vertical-align: top;\n",
       "    }\n",
       "\n",
       "    .dataframe thead th {\n",
       "        text-align: right;\n",
       "    }\n",
       "</style>\n",
       "<table border=\"1\" class=\"dataframe\">\n",
       "  <thead>\n",
       "    <tr style=\"text-align: right;\">\n",
       "      <th></th>\n",
       "      <th>0</th>\n",
       "      <th>1</th>\n",
       "      <th>2</th>\n",
       "      <th>3</th>\n",
       "      <th>4</th>\n",
       "      <th>5</th>\n",
       "      <th>6</th>\n",
       "      <th>7</th>\n",
       "      <th>8</th>\n",
       "      <th>9</th>\n",
       "      <th>10</th>\n",
       "      <th>11</th>\n",
       "      <th>12</th>\n",
       "      <th>13</th>\n",
       "      <th>14</th>\n",
       "      <th>15</th>\n",
       "      <th>16</th>\n",
       "      <th>17</th>\n",
       "      <th>18</th>\n",
       "      <th>19</th>\n",
       "      <th>20</th>\n",
       "      <th>21</th>\n",
       "      <th>22</th>\n",
       "      <th>23</th>\n",
       "      <th>24</th>\n",
       "      <th>25</th>\n",
       "      <th>26</th>\n",
       "      <th>27</th>\n",
       "      <th>28</th>\n",
       "      <th>29</th>\n",
       "      <th>30</th>\n",
       "      <th>31</th>\n",
       "      <th>32</th>\n",
       "      <th>33</th>\n",
       "      <th>34</th>\n",
       "      <th>35</th>\n",
       "      <th>36</th>\n",
       "      <th>37</th>\n",
       "      <th>38</th>\n",
       "    </tr>\n",
       "  </thead>\n",
       "  <tbody>\n",
       "    <tr>\n",
       "      <th>age</th>\n",
       "      <td>25.0</td>\n",
       "      <td>26.0</td>\n",
       "      <td>27.00</td>\n",
       "      <td>28.000000</td>\n",
       "      <td>29.000000</td>\n",
       "      <td>30.000000</td>\n",
       "      <td>31.000000</td>\n",
       "      <td>32.000000</td>\n",
       "      <td>33.000000</td>\n",
       "      <td>34.000000</td>\n",
       "      <td>35.000000</td>\n",
       "      <td>36.000000</td>\n",
       "      <td>37.000000</td>\n",
       "      <td>38.0</td>\n",
       "      <td>39.00</td>\n",
       "      <td>40.000000</td>\n",
       "      <td>41.000</td>\n",
       "      <td>42.000000</td>\n",
       "      <td>43.000000</td>\n",
       "      <td>44.000000</td>\n",
       "      <td>45.0</td>\n",
       "      <td>46.000000</td>\n",
       "      <td>47.000000</td>\n",
       "      <td>48.000</td>\n",
       "      <td>49.000000</td>\n",
       "      <td>50.0</td>\n",
       "      <td>51.00</td>\n",
       "      <td>52.00</td>\n",
       "      <td>53.00</td>\n",
       "      <td>54.0</td>\n",
       "      <td>55.0</td>\n",
       "      <td>56.0</td>\n",
       "      <td>58.0</td>\n",
       "      <td>59.0</td>\n",
       "      <td>62.0</td>\n",
       "      <td>63.000000</td>\n",
       "      <td>65.0</td>\n",
       "      <td>66.0</td>\n",
       "      <td>67.0</td>\n",
       "    </tr>\n",
       "    <tr>\n",
       "      <th>avg</th>\n",
       "      <td>1843.5</td>\n",
       "      <td>794.0</td>\n",
       "      <td>1690.75</td>\n",
       "      <td>1215.142857</td>\n",
       "      <td>1907.166667</td>\n",
       "      <td>1194.181818</td>\n",
       "      <td>1554.266667</td>\n",
       "      <td>1419.444444</td>\n",
       "      <td>1186.071429</td>\n",
       "      <td>1121.214286</td>\n",
       "      <td>1728.777778</td>\n",
       "      <td>1582.111111</td>\n",
       "      <td>1308.285714</td>\n",
       "      <td>1439.3</td>\n",
       "      <td>1475.75</td>\n",
       "      <td>1721.666667</td>\n",
       "      <td>1585.125</td>\n",
       "      <td>1535.857143</td>\n",
       "      <td>1251.222222</td>\n",
       "      <td>1579.666667</td>\n",
       "      <td>1352.2</td>\n",
       "      <td>299.333333</td>\n",
       "      <td>1384.500000</td>\n",
       "      <td>1454.000</td>\n",
       "      <td>2165.500000</td>\n",
       "      <td>2828.5</td>\n",
       "      <td>1743.75</td>\n",
       "      <td>1221.75</td>\n",
       "      <td>940.25</td>\n",
       "      <td>1465.0</td>\n",
       "      <td>1196.0</td>\n",
       "      <td>1420.0</td>\n",
       "      <td>1635.0</td>\n",
       "      <td>1350.0</td>\n",
       "      <td>98.0</td>\n",
       "      <td>1396.333333</td>\n",
       "      <td>927.5</td>\n",
       "      <td>1112.0</td>\n",
       "      <td>1414.5</td>\n",
       "    </tr>\n",
       "    <tr>\n",
       "      <th>perf</th>\n",
       "      <td>3.0</td>\n",
       "      <td>3.0</td>\n",
       "      <td>2.75</td>\n",
       "      <td>2.857143</td>\n",
       "      <td>3.333333</td>\n",
       "      <td>2.909091</td>\n",
       "      <td>2.933333</td>\n",
       "      <td>2.888889</td>\n",
       "      <td>3.142857</td>\n",
       "      <td>3.071429</td>\n",
       "      <td>3.333333</td>\n",
       "      <td>3.000000</td>\n",
       "      <td>3.000000</td>\n",
       "      <td>3.1</td>\n",
       "      <td>3.00</td>\n",
       "      <td>3.000000</td>\n",
       "      <td>3.250</td>\n",
       "      <td>2.714286</td>\n",
       "      <td>2.888889</td>\n",
       "      <td>2.833333</td>\n",
       "      <td>3.3</td>\n",
       "      <td>3.000000</td>\n",
       "      <td>3.166667</td>\n",
       "      <td>3.625</td>\n",
       "      <td>2.666667</td>\n",
       "      <td>3.5</td>\n",
       "      <td>2.75</td>\n",
       "      <td>3.25</td>\n",
       "      <td>2.50</td>\n",
       "      <td>3.2</td>\n",
       "      <td>3.0</td>\n",
       "      <td>3.0</td>\n",
       "      <td>4.0</td>\n",
       "      <td>3.5</td>\n",
       "      <td>3.0</td>\n",
       "      <td>3.000000</td>\n",
       "      <td>3.0</td>\n",
       "      <td>3.0</td>\n",
       "      <td>3.0</td>\n",
       "    </tr>\n",
       "  </tbody>\n",
       "</table>\n",
       "</div>"
      ],
      "text/plain": [
       "          0      1        2            3            4            5   \\\n",
       "age     25.0   26.0    27.00    28.000000    29.000000    30.000000   \n",
       "avg   1843.5  794.0  1690.75  1215.142857  1907.166667  1194.181818   \n",
       "perf     3.0    3.0     2.75     2.857143     3.333333     2.909091   \n",
       "\n",
       "               6            7            8            9            10  \\\n",
       "age     31.000000    32.000000    33.000000    34.000000    35.000000   \n",
       "avg   1554.266667  1419.444444  1186.071429  1121.214286  1728.777778   \n",
       "perf     2.933333     2.888889     3.142857     3.071429     3.333333   \n",
       "\n",
       "               11           12      13       14           15        16  \\\n",
       "age     36.000000    37.000000    38.0    39.00    40.000000    41.000   \n",
       "avg   1582.111111  1308.285714  1439.3  1475.75  1721.666667  1585.125   \n",
       "perf     3.000000     3.000000     3.1     3.00     3.000000     3.250   \n",
       "\n",
       "               17           18           19      20          21           22  \\\n",
       "age     42.000000    43.000000    44.000000    45.0   46.000000    47.000000   \n",
       "avg   1535.857143  1251.222222  1579.666667  1352.2  299.333333  1384.500000   \n",
       "perf     2.714286     2.888889     2.833333     3.3    3.000000     3.166667   \n",
       "\n",
       "            23           24      25       26       27      28      29      30  \\\n",
       "age     48.000    49.000000    50.0    51.00    52.00   53.00    54.0    55.0   \n",
       "avg   1454.000  2165.500000  2828.5  1743.75  1221.75  940.25  1465.0  1196.0   \n",
       "perf     3.625     2.666667     3.5     2.75     3.25    2.50     3.2     3.0   \n",
       "\n",
       "          31      32      33    34           35     36      37      38  \n",
       "age     56.0    58.0    59.0  62.0    63.000000   65.0    66.0    67.0  \n",
       "avg   1420.0  1635.0  1350.0  98.0  1396.333333  927.5  1112.0  1414.5  \n",
       "perf     3.0     4.0     3.5   3.0     3.000000    3.0     3.0     3.0  "
      ]
     },
     "execution_count": 36,
     "metadata": {},
     "output_type": "execute_result"
    }
   ],
   "source": [
    "age_avg_days = pd.read_sql_query('''\n",
    "    SELECT age, AVG(\"Days Employed\"), AVG(perf_scoreid) AS perf \n",
    "    FROM hr_dataset \n",
    "    WHERE perf_scoreid != 0 AND perf_scoreid != 9\n",
    "    GROUP BY age\n",
    "    ORDER BY age\n",
    "''', conn)\n",
    "\n",
    "age_avg_days.transpose()"
   ]
  },
  {
   "cell_type": "code",
   "execution_count": 59,
   "id": "3e5ca2b5",
   "metadata": {
    "scrolled": true
   },
   "outputs": [
    {
     "data": {
      "application/vnd.plotly.v1+json": {
       "config": {
        "plotlyServerURL": "https://plot.ly"
       },
       "data": [
        {
         "hovertemplate": "Возраст, лет=%{x}<br>Среднее количество дней=%{y}<br>Производительность=%{marker.color}<extra></extra>",
         "legendgroup": "",
         "marker": {
          "color": [
           3,
           3,
           2.75,
           2.857142857142857,
           3.3333333333333335,
           2.909090909090909,
           2.933333333333333,
           2.888888888888889,
           3.142857142857143,
           3.0714285714285716,
           3.3333333333333335,
           3,
           3,
           3.1,
           3,
           3,
           3.25,
           2.7142857142857144,
           2.888888888888889,
           2.8333333333333335,
           3.3,
           3,
           3.1666666666666665,
           3.625,
           2.6666666666666665,
           3.5,
           2.75,
           3.25,
           2.5,
           3.2,
           3,
           3,
           4,
           3.5,
           3,
           3,
           3,
           3,
           3
          ],
          "coloraxis": "coloraxis",
          "symbol": "circle"
         },
         "mode": "markers",
         "name": "",
         "orientation": "v",
         "showlegend": false,
         "type": "scatter",
         "x": [
          25,
          26,
          27,
          28,
          29,
          30,
          31,
          32,
          33,
          34,
          35,
          36,
          37,
          38,
          39,
          40,
          41,
          42,
          43,
          44,
          45,
          46,
          47,
          48,
          49,
          50,
          51,
          52,
          53,
          54,
          55,
          56,
          58,
          59,
          62,
          63,
          65,
          66,
          67
         ],
         "xaxis": "x",
         "y": [
          1843.5,
          794,
          1690.75,
          1215.142857142857,
          1907.1666666666667,
          1194.1818181818182,
          1554.2666666666667,
          1419.4444444444443,
          1186.0714285714287,
          1121.2142857142858,
          1728.7777777777778,
          1582.111111111111,
          1308.2857142857142,
          1439.3,
          1475.75,
          1721.6666666666667,
          1585.125,
          1535.857142857143,
          1251.2222222222222,
          1579.6666666666667,
          1352.2,
          299.3333333333333,
          1384.5,
          1454,
          2165.5,
          2828.5,
          1743.75,
          1221.75,
          940.25,
          1465,
          1196,
          1420,
          1635,
          1350,
          98,
          1396.3333333333333,
          927.5,
          1112,
          1414.5
         ],
         "yaxis": "y"
        },
        {
         "hovertemplate": "<b>Rolling median trendline</b><br><br>Возраст, лет=%{x}<br>Среднее количество дней=%{y} <b>(trend)</b><extra></extra>",
         "legendgroup": "",
         "marker": {
          "symbol": "circle"
         },
         "mode": "lines",
         "name": "",
         "showlegend": false,
         "type": "scatter",
         "x": [
          25,
          26,
          27,
          28,
          29,
          30,
          31,
          32,
          33,
          34,
          35,
          36,
          37,
          38,
          39,
          40,
          41,
          42,
          43,
          44,
          45,
          46,
          47,
          48,
          49,
          50,
          51,
          52,
          53,
          54,
          55,
          56,
          58,
          59,
          62,
          63,
          65,
          66,
          67
         ],
         "xaxis": "x",
         "y": [
          null,
          1318.75,
          1242.375,
          1452.9464285714284,
          1561.154761904762,
          1550.6742424242425,
          1374.2242424242424,
          1486.8555555555554,
          1302.7579365079364,
          1153.6428571428573,
          1424.9960317460318,
          1655.4444444444443,
          1445.1984126984125,
          1373.792857142857,
          1457.525,
          1598.7083333333335,
          1653.3958333333335,
          1560.4910714285716,
          1393.5396825396824,
          1415.4444444444443,
          1465.9333333333334,
          825.7666666666667,
          841.9166666666666,
          1419.25,
          1809.75,
          2497,
          2286.125,
          1482.75,
          1081,
          1202.625,
          1330.5,
          1308,
          1527.5,
          1492.5,
          724,
          747.1666666666666,
          1161.9166666666665,
          1019.75,
          1263.25
         ],
         "yaxis": "y"
        }
       ],
       "layout": {
        "coloraxis": {
         "colorbar": {
          "title": {
           "text": "Производительность"
          }
         },
         "colorscale": [
          [
           0,
           "#0d0887"
          ],
          [
           0.1111111111111111,
           "#46039f"
          ],
          [
           0.2222222222222222,
           "#7201a8"
          ],
          [
           0.3333333333333333,
           "#9c179e"
          ],
          [
           0.4444444444444444,
           "#bd3786"
          ],
          [
           0.5555555555555556,
           "#d8576b"
          ],
          [
           0.6666666666666666,
           "#ed7953"
          ],
          [
           0.7777777777777778,
           "#fb9f3a"
          ],
          [
           0.8888888888888888,
           "#fdca26"
          ],
          [
           1,
           "#f0f921"
          ]
         ]
        },
        "legend": {
         "tracegroupgap": 0
        },
        "template": {
         "data": {
          "bar": [
           {
            "error_x": {
             "color": "#2a3f5f"
            },
            "error_y": {
             "color": "#2a3f5f"
            },
            "marker": {
             "line": {
              "color": "#E5ECF6",
              "width": 0.5
             },
             "pattern": {
              "fillmode": "overlay",
              "size": 10,
              "solidity": 0.2
             }
            },
            "type": "bar"
           }
          ],
          "barpolar": [
           {
            "marker": {
             "line": {
              "color": "#E5ECF6",
              "width": 0.5
             },
             "pattern": {
              "fillmode": "overlay",
              "size": 10,
              "solidity": 0.2
             }
            },
            "type": "barpolar"
           }
          ],
          "carpet": [
           {
            "aaxis": {
             "endlinecolor": "#2a3f5f",
             "gridcolor": "white",
             "linecolor": "white",
             "minorgridcolor": "white",
             "startlinecolor": "#2a3f5f"
            },
            "baxis": {
             "endlinecolor": "#2a3f5f",
             "gridcolor": "white",
             "linecolor": "white",
             "minorgridcolor": "white",
             "startlinecolor": "#2a3f5f"
            },
            "type": "carpet"
           }
          ],
          "choropleth": [
           {
            "colorbar": {
             "outlinewidth": 0,
             "ticks": ""
            },
            "type": "choropleth"
           }
          ],
          "contour": [
           {
            "colorbar": {
             "outlinewidth": 0,
             "ticks": ""
            },
            "colorscale": [
             [
              0,
              "#0d0887"
             ],
             [
              0.1111111111111111,
              "#46039f"
             ],
             [
              0.2222222222222222,
              "#7201a8"
             ],
             [
              0.3333333333333333,
              "#9c179e"
             ],
             [
              0.4444444444444444,
              "#bd3786"
             ],
             [
              0.5555555555555556,
              "#d8576b"
             ],
             [
              0.6666666666666666,
              "#ed7953"
             ],
             [
              0.7777777777777778,
              "#fb9f3a"
             ],
             [
              0.8888888888888888,
              "#fdca26"
             ],
             [
              1,
              "#f0f921"
             ]
            ],
            "type": "contour"
           }
          ],
          "contourcarpet": [
           {
            "colorbar": {
             "outlinewidth": 0,
             "ticks": ""
            },
            "type": "contourcarpet"
           }
          ],
          "heatmap": [
           {
            "colorbar": {
             "outlinewidth": 0,
             "ticks": ""
            },
            "colorscale": [
             [
              0,
              "#0d0887"
             ],
             [
              0.1111111111111111,
              "#46039f"
             ],
             [
              0.2222222222222222,
              "#7201a8"
             ],
             [
              0.3333333333333333,
              "#9c179e"
             ],
             [
              0.4444444444444444,
              "#bd3786"
             ],
             [
              0.5555555555555556,
              "#d8576b"
             ],
             [
              0.6666666666666666,
              "#ed7953"
             ],
             [
              0.7777777777777778,
              "#fb9f3a"
             ],
             [
              0.8888888888888888,
              "#fdca26"
             ],
             [
              1,
              "#f0f921"
             ]
            ],
            "type": "heatmap"
           }
          ],
          "heatmapgl": [
           {
            "colorbar": {
             "outlinewidth": 0,
             "ticks": ""
            },
            "colorscale": [
             [
              0,
              "#0d0887"
             ],
             [
              0.1111111111111111,
              "#46039f"
             ],
             [
              0.2222222222222222,
              "#7201a8"
             ],
             [
              0.3333333333333333,
              "#9c179e"
             ],
             [
              0.4444444444444444,
              "#bd3786"
             ],
             [
              0.5555555555555556,
              "#d8576b"
             ],
             [
              0.6666666666666666,
              "#ed7953"
             ],
             [
              0.7777777777777778,
              "#fb9f3a"
             ],
             [
              0.8888888888888888,
              "#fdca26"
             ],
             [
              1,
              "#f0f921"
             ]
            ],
            "type": "heatmapgl"
           }
          ],
          "histogram": [
           {
            "marker": {
             "pattern": {
              "fillmode": "overlay",
              "size": 10,
              "solidity": 0.2
             }
            },
            "type": "histogram"
           }
          ],
          "histogram2d": [
           {
            "colorbar": {
             "outlinewidth": 0,
             "ticks": ""
            },
            "colorscale": [
             [
              0,
              "#0d0887"
             ],
             [
              0.1111111111111111,
              "#46039f"
             ],
             [
              0.2222222222222222,
              "#7201a8"
             ],
             [
              0.3333333333333333,
              "#9c179e"
             ],
             [
              0.4444444444444444,
              "#bd3786"
             ],
             [
              0.5555555555555556,
              "#d8576b"
             ],
             [
              0.6666666666666666,
              "#ed7953"
             ],
             [
              0.7777777777777778,
              "#fb9f3a"
             ],
             [
              0.8888888888888888,
              "#fdca26"
             ],
             [
              1,
              "#f0f921"
             ]
            ],
            "type": "histogram2d"
           }
          ],
          "histogram2dcontour": [
           {
            "colorbar": {
             "outlinewidth": 0,
             "ticks": ""
            },
            "colorscale": [
             [
              0,
              "#0d0887"
             ],
             [
              0.1111111111111111,
              "#46039f"
             ],
             [
              0.2222222222222222,
              "#7201a8"
             ],
             [
              0.3333333333333333,
              "#9c179e"
             ],
             [
              0.4444444444444444,
              "#bd3786"
             ],
             [
              0.5555555555555556,
              "#d8576b"
             ],
             [
              0.6666666666666666,
              "#ed7953"
             ],
             [
              0.7777777777777778,
              "#fb9f3a"
             ],
             [
              0.8888888888888888,
              "#fdca26"
             ],
             [
              1,
              "#f0f921"
             ]
            ],
            "type": "histogram2dcontour"
           }
          ],
          "mesh3d": [
           {
            "colorbar": {
             "outlinewidth": 0,
             "ticks": ""
            },
            "type": "mesh3d"
           }
          ],
          "parcoords": [
           {
            "line": {
             "colorbar": {
              "outlinewidth": 0,
              "ticks": ""
             }
            },
            "type": "parcoords"
           }
          ],
          "pie": [
           {
            "automargin": true,
            "type": "pie"
           }
          ],
          "scatter": [
           {
            "fillpattern": {
             "fillmode": "overlay",
             "size": 10,
             "solidity": 0.2
            },
            "type": "scatter"
           }
          ],
          "scatter3d": [
           {
            "line": {
             "colorbar": {
              "outlinewidth": 0,
              "ticks": ""
             }
            },
            "marker": {
             "colorbar": {
              "outlinewidth": 0,
              "ticks": ""
             }
            },
            "type": "scatter3d"
           }
          ],
          "scattercarpet": [
           {
            "marker": {
             "colorbar": {
              "outlinewidth": 0,
              "ticks": ""
             }
            },
            "type": "scattercarpet"
           }
          ],
          "scattergeo": [
           {
            "marker": {
             "colorbar": {
              "outlinewidth": 0,
              "ticks": ""
             }
            },
            "type": "scattergeo"
           }
          ],
          "scattergl": [
           {
            "marker": {
             "colorbar": {
              "outlinewidth": 0,
              "ticks": ""
             }
            },
            "type": "scattergl"
           }
          ],
          "scattermapbox": [
           {
            "marker": {
             "colorbar": {
              "outlinewidth": 0,
              "ticks": ""
             }
            },
            "type": "scattermapbox"
           }
          ],
          "scatterpolar": [
           {
            "marker": {
             "colorbar": {
              "outlinewidth": 0,
              "ticks": ""
             }
            },
            "type": "scatterpolar"
           }
          ],
          "scatterpolargl": [
           {
            "marker": {
             "colorbar": {
              "outlinewidth": 0,
              "ticks": ""
             }
            },
            "type": "scatterpolargl"
           }
          ],
          "scatterternary": [
           {
            "marker": {
             "colorbar": {
              "outlinewidth": 0,
              "ticks": ""
             }
            },
            "type": "scatterternary"
           }
          ],
          "surface": [
           {
            "colorbar": {
             "outlinewidth": 0,
             "ticks": ""
            },
            "colorscale": [
             [
              0,
              "#0d0887"
             ],
             [
              0.1111111111111111,
              "#46039f"
             ],
             [
              0.2222222222222222,
              "#7201a8"
             ],
             [
              0.3333333333333333,
              "#9c179e"
             ],
             [
              0.4444444444444444,
              "#bd3786"
             ],
             [
              0.5555555555555556,
              "#d8576b"
             ],
             [
              0.6666666666666666,
              "#ed7953"
             ],
             [
              0.7777777777777778,
              "#fb9f3a"
             ],
             [
              0.8888888888888888,
              "#fdca26"
             ],
             [
              1,
              "#f0f921"
             ]
            ],
            "type": "surface"
           }
          ],
          "table": [
           {
            "cells": {
             "fill": {
              "color": "#EBF0F8"
             },
             "line": {
              "color": "white"
             }
            },
            "header": {
             "fill": {
              "color": "#C8D4E3"
             },
             "line": {
              "color": "white"
             }
            },
            "type": "table"
           }
          ]
         },
         "layout": {
          "annotationdefaults": {
           "arrowcolor": "#2a3f5f",
           "arrowhead": 0,
           "arrowwidth": 1
          },
          "autotypenumbers": "strict",
          "coloraxis": {
           "colorbar": {
            "outlinewidth": 0,
            "ticks": ""
           }
          },
          "colorscale": {
           "diverging": [
            [
             0,
             "#8e0152"
            ],
            [
             0.1,
             "#c51b7d"
            ],
            [
             0.2,
             "#de77ae"
            ],
            [
             0.3,
             "#f1b6da"
            ],
            [
             0.4,
             "#fde0ef"
            ],
            [
             0.5,
             "#f7f7f7"
            ],
            [
             0.6,
             "#e6f5d0"
            ],
            [
             0.7,
             "#b8e186"
            ],
            [
             0.8,
             "#7fbc41"
            ],
            [
             0.9,
             "#4d9221"
            ],
            [
             1,
             "#276419"
            ]
           ],
           "sequential": [
            [
             0,
             "#0d0887"
            ],
            [
             0.1111111111111111,
             "#46039f"
            ],
            [
             0.2222222222222222,
             "#7201a8"
            ],
            [
             0.3333333333333333,
             "#9c179e"
            ],
            [
             0.4444444444444444,
             "#bd3786"
            ],
            [
             0.5555555555555556,
             "#d8576b"
            ],
            [
             0.6666666666666666,
             "#ed7953"
            ],
            [
             0.7777777777777778,
             "#fb9f3a"
            ],
            [
             0.8888888888888888,
             "#fdca26"
            ],
            [
             1,
             "#f0f921"
            ]
           ],
           "sequentialminus": [
            [
             0,
             "#0d0887"
            ],
            [
             0.1111111111111111,
             "#46039f"
            ],
            [
             0.2222222222222222,
             "#7201a8"
            ],
            [
             0.3333333333333333,
             "#9c179e"
            ],
            [
             0.4444444444444444,
             "#bd3786"
            ],
            [
             0.5555555555555556,
             "#d8576b"
            ],
            [
             0.6666666666666666,
             "#ed7953"
            ],
            [
             0.7777777777777778,
             "#fb9f3a"
            ],
            [
             0.8888888888888888,
             "#fdca26"
            ],
            [
             1,
             "#f0f921"
            ]
           ]
          },
          "colorway": [
           "#636efa",
           "#EF553B",
           "#00cc96",
           "#ab63fa",
           "#FFA15A",
           "#19d3f3",
           "#FF6692",
           "#B6E880",
           "#FF97FF",
           "#FECB52"
          ],
          "font": {
           "color": "#2a3f5f"
          },
          "geo": {
           "bgcolor": "white",
           "lakecolor": "white",
           "landcolor": "#E5ECF6",
           "showlakes": true,
           "showland": true,
           "subunitcolor": "white"
          },
          "hoverlabel": {
           "align": "left"
          },
          "hovermode": "closest",
          "mapbox": {
           "style": "light"
          },
          "paper_bgcolor": "white",
          "plot_bgcolor": "#E5ECF6",
          "polar": {
           "angularaxis": {
            "gridcolor": "white",
            "linecolor": "white",
            "ticks": ""
           },
           "bgcolor": "#E5ECF6",
           "radialaxis": {
            "gridcolor": "white",
            "linecolor": "white",
            "ticks": ""
           }
          },
          "scene": {
           "xaxis": {
            "backgroundcolor": "#E5ECF6",
            "gridcolor": "white",
            "gridwidth": 2,
            "linecolor": "white",
            "showbackground": true,
            "ticks": "",
            "zerolinecolor": "white"
           },
           "yaxis": {
            "backgroundcolor": "#E5ECF6",
            "gridcolor": "white",
            "gridwidth": 2,
            "linecolor": "white",
            "showbackground": true,
            "ticks": "",
            "zerolinecolor": "white"
           },
           "zaxis": {
            "backgroundcolor": "#E5ECF6",
            "gridcolor": "white",
            "gridwidth": 2,
            "linecolor": "white",
            "showbackground": true,
            "ticks": "",
            "zerolinecolor": "white"
           }
          },
          "shapedefaults": {
           "line": {
            "color": "#2a3f5f"
           }
          },
          "ternary": {
           "aaxis": {
            "gridcolor": "white",
            "linecolor": "white",
            "ticks": ""
           },
           "baxis": {
            "gridcolor": "white",
            "linecolor": "white",
            "ticks": ""
           },
           "bgcolor": "#E5ECF6",
           "caxis": {
            "gridcolor": "white",
            "linecolor": "white",
            "ticks": ""
           }
          },
          "title": {
           "x": 0.05
          },
          "xaxis": {
           "automargin": true,
           "gridcolor": "white",
           "linecolor": "white",
           "ticks": "",
           "title": {
            "standoff": 15
           },
           "zerolinecolor": "white",
           "zerolinewidth": 2
          },
          "yaxis": {
           "automargin": true,
           "gridcolor": "white",
           "linecolor": "white",
           "ticks": "",
           "title": {
            "standoff": 15
           },
           "zerolinecolor": "white",
           "zerolinewidth": 2
          }
         }
        },
        "title": {
         "text": "Зависимость средней продолжительности работы от возраста"
        },
        "xaxis": {
         "anchor": "y",
         "domain": [
          0,
          1
         ],
         "title": {
          "text": "Возраст, лет"
         }
        },
        "yaxis": {
         "anchor": "x",
         "domain": [
          0,
          1
         ],
         "title": {
          "text": "Среднее количество дней"
         }
        }
       }
      },
      "text/html": [
       "<div>                            <div id=\"72636703-ca8e-443f-87aa-bc25b305b810\" class=\"plotly-graph-div\" style=\"height:525px; width:100%;\"></div>            <script type=\"text/javascript\">                require([\"plotly\"], function(Plotly) {                    window.PLOTLYENV=window.PLOTLYENV || {};                                    if (document.getElementById(\"72636703-ca8e-443f-87aa-bc25b305b810\")) {                    Plotly.newPlot(                        \"72636703-ca8e-443f-87aa-bc25b305b810\",                        [{\"hovertemplate\":\"\\u0412\\u043e\\u0437\\u0440\\u0430\\u0441\\u0442, \\u043b\\u0435\\u0442=%{x}<br>\\u0421\\u0440\\u0435\\u0434\\u043d\\u0435\\u0435 \\u043a\\u043e\\u043b\\u0438\\u0447\\u0435\\u0441\\u0442\\u0432\\u043e \\u0434\\u043d\\u0435\\u0439=%{y}<br>\\u041f\\u0440\\u043e\\u0438\\u0437\\u0432\\u043e\\u0434\\u0438\\u0442\\u0435\\u043b\\u044c\\u043d\\u043e\\u0441\\u0442\\u044c=%{marker.color}<extra></extra>\",\"legendgroup\":\"\",\"marker\":{\"color\":[3.0,3.0,2.75,2.857142857142857,3.3333333333333335,2.909090909090909,2.933333333333333,2.888888888888889,3.142857142857143,3.0714285714285716,3.3333333333333335,3.0,3.0,3.1,3.0,3.0,3.25,2.7142857142857144,2.888888888888889,2.8333333333333335,3.3,3.0,3.1666666666666665,3.625,2.6666666666666665,3.5,2.75,3.25,2.5,3.2,3.0,3.0,4.0,3.5,3.0,3.0,3.0,3.0,3.0],\"coloraxis\":\"coloraxis\",\"symbol\":\"circle\"},\"mode\":\"markers\",\"name\":\"\",\"orientation\":\"v\",\"showlegend\":false,\"x\":[25,26,27,28,29,30,31,32,33,34,35,36,37,38,39,40,41,42,43,44,45,46,47,48,49,50,51,52,53,54,55,56,58,59,62,63,65,66,67],\"xaxis\":\"x\",\"y\":[1843.5,794.0,1690.75,1215.142857142857,1907.1666666666667,1194.1818181818182,1554.2666666666667,1419.4444444444443,1186.0714285714287,1121.2142857142858,1728.7777777777778,1582.111111111111,1308.2857142857142,1439.3,1475.75,1721.6666666666667,1585.125,1535.857142857143,1251.2222222222222,1579.6666666666667,1352.2,299.3333333333333,1384.5,1454.0,2165.5,2828.5,1743.75,1221.75,940.25,1465.0,1196.0,1420.0,1635.0,1350.0,98.0,1396.3333333333333,927.5,1112.0,1414.5],\"yaxis\":\"y\",\"type\":\"scatter\"},{\"hovertemplate\":\"<b>Rolling median trendline</b><br><br>\\u0412\\u043e\\u0437\\u0440\\u0430\\u0441\\u0442, \\u043b\\u0435\\u0442=%{x}<br>\\u0421\\u0440\\u0435\\u0434\\u043d\\u0435\\u0435 \\u043a\\u043e\\u043b\\u0438\\u0447\\u0435\\u0441\\u0442\\u0432\\u043e \\u0434\\u043d\\u0435\\u0439=%{y} <b>(trend)</b><extra></extra>\",\"legendgroup\":\"\",\"marker\":{\"symbol\":\"circle\"},\"mode\":\"lines\",\"name\":\"\",\"showlegend\":false,\"x\":[25,26,27,28,29,30,31,32,33,34,35,36,37,38,39,40,41,42,43,44,45,46,47,48,49,50,51,52,53,54,55,56,58,59,62,63,65,66,67],\"xaxis\":\"x\",\"y\":[null,1318.75,1242.375,1452.9464285714284,1561.154761904762,1550.6742424242425,1374.2242424242424,1486.8555555555554,1302.7579365079364,1153.6428571428573,1424.9960317460318,1655.4444444444443,1445.1984126984125,1373.792857142857,1457.525,1598.7083333333335,1653.3958333333335,1560.4910714285716,1393.5396825396824,1415.4444444444443,1465.9333333333334,825.7666666666667,841.9166666666666,1419.25,1809.75,2497.0,2286.125,1482.75,1081.0,1202.625,1330.5,1308.0,1527.5,1492.5,724.0,747.1666666666666,1161.9166666666665,1019.75,1263.25],\"yaxis\":\"y\",\"type\":\"scatter\"}],                        {\"template\":{\"data\":{\"histogram2dcontour\":[{\"type\":\"histogram2dcontour\",\"colorbar\":{\"outlinewidth\":0,\"ticks\":\"\"},\"colorscale\":[[0.0,\"#0d0887\"],[0.1111111111111111,\"#46039f\"],[0.2222222222222222,\"#7201a8\"],[0.3333333333333333,\"#9c179e\"],[0.4444444444444444,\"#bd3786\"],[0.5555555555555556,\"#d8576b\"],[0.6666666666666666,\"#ed7953\"],[0.7777777777777778,\"#fb9f3a\"],[0.8888888888888888,\"#fdca26\"],[1.0,\"#f0f921\"]]}],\"choropleth\":[{\"type\":\"choropleth\",\"colorbar\":{\"outlinewidth\":0,\"ticks\":\"\"}}],\"histogram2d\":[{\"type\":\"histogram2d\",\"colorbar\":{\"outlinewidth\":0,\"ticks\":\"\"},\"colorscale\":[[0.0,\"#0d0887\"],[0.1111111111111111,\"#46039f\"],[0.2222222222222222,\"#7201a8\"],[0.3333333333333333,\"#9c179e\"],[0.4444444444444444,\"#bd3786\"],[0.5555555555555556,\"#d8576b\"],[0.6666666666666666,\"#ed7953\"],[0.7777777777777778,\"#fb9f3a\"],[0.8888888888888888,\"#fdca26\"],[1.0,\"#f0f921\"]]}],\"heatmap\":[{\"type\":\"heatmap\",\"colorbar\":{\"outlinewidth\":0,\"ticks\":\"\"},\"colorscale\":[[0.0,\"#0d0887\"],[0.1111111111111111,\"#46039f\"],[0.2222222222222222,\"#7201a8\"],[0.3333333333333333,\"#9c179e\"],[0.4444444444444444,\"#bd3786\"],[0.5555555555555556,\"#d8576b\"],[0.6666666666666666,\"#ed7953\"],[0.7777777777777778,\"#fb9f3a\"],[0.8888888888888888,\"#fdca26\"],[1.0,\"#f0f921\"]]}],\"heatmapgl\":[{\"type\":\"heatmapgl\",\"colorbar\":{\"outlinewidth\":0,\"ticks\":\"\"},\"colorscale\":[[0.0,\"#0d0887\"],[0.1111111111111111,\"#46039f\"],[0.2222222222222222,\"#7201a8\"],[0.3333333333333333,\"#9c179e\"],[0.4444444444444444,\"#bd3786\"],[0.5555555555555556,\"#d8576b\"],[0.6666666666666666,\"#ed7953\"],[0.7777777777777778,\"#fb9f3a\"],[0.8888888888888888,\"#fdca26\"],[1.0,\"#f0f921\"]]}],\"contourcarpet\":[{\"type\":\"contourcarpet\",\"colorbar\":{\"outlinewidth\":0,\"ticks\":\"\"}}],\"contour\":[{\"type\":\"contour\",\"colorbar\":{\"outlinewidth\":0,\"ticks\":\"\"},\"colorscale\":[[0.0,\"#0d0887\"],[0.1111111111111111,\"#46039f\"],[0.2222222222222222,\"#7201a8\"],[0.3333333333333333,\"#9c179e\"],[0.4444444444444444,\"#bd3786\"],[0.5555555555555556,\"#d8576b\"],[0.6666666666666666,\"#ed7953\"],[0.7777777777777778,\"#fb9f3a\"],[0.8888888888888888,\"#fdca26\"],[1.0,\"#f0f921\"]]}],\"surface\":[{\"type\":\"surface\",\"colorbar\":{\"outlinewidth\":0,\"ticks\":\"\"},\"colorscale\":[[0.0,\"#0d0887\"],[0.1111111111111111,\"#46039f\"],[0.2222222222222222,\"#7201a8\"],[0.3333333333333333,\"#9c179e\"],[0.4444444444444444,\"#bd3786\"],[0.5555555555555556,\"#d8576b\"],[0.6666666666666666,\"#ed7953\"],[0.7777777777777778,\"#fb9f3a\"],[0.8888888888888888,\"#fdca26\"],[1.0,\"#f0f921\"]]}],\"mesh3d\":[{\"type\":\"mesh3d\",\"colorbar\":{\"outlinewidth\":0,\"ticks\":\"\"}}],\"scatter\":[{\"fillpattern\":{\"fillmode\":\"overlay\",\"size\":10,\"solidity\":0.2},\"type\":\"scatter\"}],\"parcoords\":[{\"type\":\"parcoords\",\"line\":{\"colorbar\":{\"outlinewidth\":0,\"ticks\":\"\"}}}],\"scatterpolargl\":[{\"type\":\"scatterpolargl\",\"marker\":{\"colorbar\":{\"outlinewidth\":0,\"ticks\":\"\"}}}],\"bar\":[{\"error_x\":{\"color\":\"#2a3f5f\"},\"error_y\":{\"color\":\"#2a3f5f\"},\"marker\":{\"line\":{\"color\":\"#E5ECF6\",\"width\":0.5},\"pattern\":{\"fillmode\":\"overlay\",\"size\":10,\"solidity\":0.2}},\"type\":\"bar\"}],\"scattergeo\":[{\"type\":\"scattergeo\",\"marker\":{\"colorbar\":{\"outlinewidth\":0,\"ticks\":\"\"}}}],\"scatterpolar\":[{\"type\":\"scatterpolar\",\"marker\":{\"colorbar\":{\"outlinewidth\":0,\"ticks\":\"\"}}}],\"histogram\":[{\"marker\":{\"pattern\":{\"fillmode\":\"overlay\",\"size\":10,\"solidity\":0.2}},\"type\":\"histogram\"}],\"scattergl\":[{\"type\":\"scattergl\",\"marker\":{\"colorbar\":{\"outlinewidth\":0,\"ticks\":\"\"}}}],\"scatter3d\":[{\"type\":\"scatter3d\",\"line\":{\"colorbar\":{\"outlinewidth\":0,\"ticks\":\"\"}},\"marker\":{\"colorbar\":{\"outlinewidth\":0,\"ticks\":\"\"}}}],\"scattermapbox\":[{\"type\":\"scattermapbox\",\"marker\":{\"colorbar\":{\"outlinewidth\":0,\"ticks\":\"\"}}}],\"scatterternary\":[{\"type\":\"scatterternary\",\"marker\":{\"colorbar\":{\"outlinewidth\":0,\"ticks\":\"\"}}}],\"scattercarpet\":[{\"type\":\"scattercarpet\",\"marker\":{\"colorbar\":{\"outlinewidth\":0,\"ticks\":\"\"}}}],\"carpet\":[{\"aaxis\":{\"endlinecolor\":\"#2a3f5f\",\"gridcolor\":\"white\",\"linecolor\":\"white\",\"minorgridcolor\":\"white\",\"startlinecolor\":\"#2a3f5f\"},\"baxis\":{\"endlinecolor\":\"#2a3f5f\",\"gridcolor\":\"white\",\"linecolor\":\"white\",\"minorgridcolor\":\"white\",\"startlinecolor\":\"#2a3f5f\"},\"type\":\"carpet\"}],\"table\":[{\"cells\":{\"fill\":{\"color\":\"#EBF0F8\"},\"line\":{\"color\":\"white\"}},\"header\":{\"fill\":{\"color\":\"#C8D4E3\"},\"line\":{\"color\":\"white\"}},\"type\":\"table\"}],\"barpolar\":[{\"marker\":{\"line\":{\"color\":\"#E5ECF6\",\"width\":0.5},\"pattern\":{\"fillmode\":\"overlay\",\"size\":10,\"solidity\":0.2}},\"type\":\"barpolar\"}],\"pie\":[{\"automargin\":true,\"type\":\"pie\"}]},\"layout\":{\"autotypenumbers\":\"strict\",\"colorway\":[\"#636efa\",\"#EF553B\",\"#00cc96\",\"#ab63fa\",\"#FFA15A\",\"#19d3f3\",\"#FF6692\",\"#B6E880\",\"#FF97FF\",\"#FECB52\"],\"font\":{\"color\":\"#2a3f5f\"},\"hovermode\":\"closest\",\"hoverlabel\":{\"align\":\"left\"},\"paper_bgcolor\":\"white\",\"plot_bgcolor\":\"#E5ECF6\",\"polar\":{\"bgcolor\":\"#E5ECF6\",\"angularaxis\":{\"gridcolor\":\"white\",\"linecolor\":\"white\",\"ticks\":\"\"},\"radialaxis\":{\"gridcolor\":\"white\",\"linecolor\":\"white\",\"ticks\":\"\"}},\"ternary\":{\"bgcolor\":\"#E5ECF6\",\"aaxis\":{\"gridcolor\":\"white\",\"linecolor\":\"white\",\"ticks\":\"\"},\"baxis\":{\"gridcolor\":\"white\",\"linecolor\":\"white\",\"ticks\":\"\"},\"caxis\":{\"gridcolor\":\"white\",\"linecolor\":\"white\",\"ticks\":\"\"}},\"coloraxis\":{\"colorbar\":{\"outlinewidth\":0,\"ticks\":\"\"}},\"colorscale\":{\"sequential\":[[0.0,\"#0d0887\"],[0.1111111111111111,\"#46039f\"],[0.2222222222222222,\"#7201a8\"],[0.3333333333333333,\"#9c179e\"],[0.4444444444444444,\"#bd3786\"],[0.5555555555555556,\"#d8576b\"],[0.6666666666666666,\"#ed7953\"],[0.7777777777777778,\"#fb9f3a\"],[0.8888888888888888,\"#fdca26\"],[1.0,\"#f0f921\"]],\"sequentialminus\":[[0.0,\"#0d0887\"],[0.1111111111111111,\"#46039f\"],[0.2222222222222222,\"#7201a8\"],[0.3333333333333333,\"#9c179e\"],[0.4444444444444444,\"#bd3786\"],[0.5555555555555556,\"#d8576b\"],[0.6666666666666666,\"#ed7953\"],[0.7777777777777778,\"#fb9f3a\"],[0.8888888888888888,\"#fdca26\"],[1.0,\"#f0f921\"]],\"diverging\":[[0,\"#8e0152\"],[0.1,\"#c51b7d\"],[0.2,\"#de77ae\"],[0.3,\"#f1b6da\"],[0.4,\"#fde0ef\"],[0.5,\"#f7f7f7\"],[0.6,\"#e6f5d0\"],[0.7,\"#b8e186\"],[0.8,\"#7fbc41\"],[0.9,\"#4d9221\"],[1,\"#276419\"]]},\"xaxis\":{\"gridcolor\":\"white\",\"linecolor\":\"white\",\"ticks\":\"\",\"title\":{\"standoff\":15},\"zerolinecolor\":\"white\",\"automargin\":true,\"zerolinewidth\":2},\"yaxis\":{\"gridcolor\":\"white\",\"linecolor\":\"white\",\"ticks\":\"\",\"title\":{\"standoff\":15},\"zerolinecolor\":\"white\",\"automargin\":true,\"zerolinewidth\":2},\"scene\":{\"xaxis\":{\"backgroundcolor\":\"#E5ECF6\",\"gridcolor\":\"white\",\"linecolor\":\"white\",\"showbackground\":true,\"ticks\":\"\",\"zerolinecolor\":\"white\",\"gridwidth\":2},\"yaxis\":{\"backgroundcolor\":\"#E5ECF6\",\"gridcolor\":\"white\",\"linecolor\":\"white\",\"showbackground\":true,\"ticks\":\"\",\"zerolinecolor\":\"white\",\"gridwidth\":2},\"zaxis\":{\"backgroundcolor\":\"#E5ECF6\",\"gridcolor\":\"white\",\"linecolor\":\"white\",\"showbackground\":true,\"ticks\":\"\",\"zerolinecolor\":\"white\",\"gridwidth\":2}},\"shapedefaults\":{\"line\":{\"color\":\"#2a3f5f\"}},\"annotationdefaults\":{\"arrowcolor\":\"#2a3f5f\",\"arrowhead\":0,\"arrowwidth\":1},\"geo\":{\"bgcolor\":\"white\",\"landcolor\":\"#E5ECF6\",\"subunitcolor\":\"white\",\"showland\":true,\"showlakes\":true,\"lakecolor\":\"white\"},\"title\":{\"x\":0.05},\"mapbox\":{\"style\":\"light\"}}},\"xaxis\":{\"anchor\":\"y\",\"domain\":[0.0,1.0],\"title\":{\"text\":\"\\u0412\\u043e\\u0437\\u0440\\u0430\\u0441\\u0442, \\u043b\\u0435\\u0442\"}},\"yaxis\":{\"anchor\":\"x\",\"domain\":[0.0,1.0],\"title\":{\"text\":\"\\u0421\\u0440\\u0435\\u0434\\u043d\\u0435\\u0435 \\u043a\\u043e\\u043b\\u0438\\u0447\\u0435\\u0441\\u0442\\u0432\\u043e \\u0434\\u043d\\u0435\\u0439\"}},\"coloraxis\":{\"colorbar\":{\"title\":{\"text\":\"\\u041f\\u0440\\u043e\\u0438\\u0437\\u0432\\u043e\\u0434\\u0438\\u0442\\u0435\\u043b\\u044c\\u043d\\u043e\\u0441\\u0442\\u044c\"}},\"colorscale\":[[0.0,\"#0d0887\"],[0.1111111111111111,\"#46039f\"],[0.2222222222222222,\"#7201a8\"],[0.3333333333333333,\"#9c179e\"],[0.4444444444444444,\"#bd3786\"],[0.5555555555555556,\"#d8576b\"],[0.6666666666666666,\"#ed7953\"],[0.7777777777777778,\"#fb9f3a\"],[0.8888888888888888,\"#fdca26\"],[1.0,\"#f0f921\"]]},\"legend\":{\"tracegroupgap\":0},\"title\":{\"text\":\"\\u0417\\u0430\\u0432\\u0438\\u0441\\u0438\\u043c\\u043e\\u0441\\u0442\\u044c \\u0441\\u0440\\u0435\\u0434\\u043d\\u0435\\u0439 \\u043f\\u0440\\u043e\\u0434\\u043e\\u043b\\u0436\\u0438\\u0442\\u0435\\u043b\\u044c\\u043d\\u043e\\u0441\\u0442\\u0438 \\u0440\\u0430\\u0431\\u043e\\u0442\\u044b \\u043e\\u0442 \\u0432\\u043e\\u0437\\u0440\\u0430\\u0441\\u0442\\u0430\"}},                        {\"responsive\": true}                    ).then(function(){\n",
       "                            \n",
       "var gd = document.getElementById('72636703-ca8e-443f-87aa-bc25b305b810');\n",
       "var x = new MutationObserver(function (mutations, observer) {{\n",
       "        var display = window.getComputedStyle(gd).display;\n",
       "        if (!display || display === 'none') {{\n",
       "            console.log([gd, 'removed!']);\n",
       "            Plotly.purge(gd);\n",
       "            observer.disconnect();\n",
       "        }}\n",
       "}});\n",
       "\n",
       "// Listen for the removal of the full notebook cells\n",
       "var notebookContainer = gd.closest('#notebook-container');\n",
       "if (notebookContainer) {{\n",
       "    x.observe(notebookContainer, {childList: true});\n",
       "}}\n",
       "\n",
       "// Listen for the clearing of the current output cell\n",
       "var outputEl = gd.closest('.output');\n",
       "if (outputEl) {{\n",
       "    x.observe(outputEl, {childList: true});\n",
       "}}\n",
       "\n",
       "                        })                };                });            </script>        </div>"
      ]
     },
     "metadata": {},
     "output_type": "display_data"
    }
   ],
   "source": [
    "fig = px.scatter(\n",
    "    age_avg_days,\n",
    "    x=\"age\",\n",
    "    y=\"avg\",\n",
    "    color=\"perf\",\n",
    "    trendline=\"rolling\",\n",
    "    trendline_options=dict(function=\"median\", window=2),\n",
    "    title=\"Зависимость средней продолжительности работы от возраста\",\n",
    "    labels={\"age\": \"Возраст, лет\",\n",
    "            \"avg\": \"Среднее кол-во дней\",\n",
    "            \"perf\": \"Производительность\"}\n",
    ")\n",
    "fig.show()"
   ]
  },
  {
   "cell_type": "markdown",
   "id": "7087640d",
   "metadata": {},
   "source": [
    "- Возраст сотрудников оказывает влияние на их среднюю продолжительность работы. Наблюдается общая тенденция: с увеличением возраста средняя продолжительность работы также увеличивается. Например, сотрудники в возрасте 25 лет имеют среднюю продолжительность работы около 1843.5 дней, в то время как сотрудники в возрасте 50 лет имеют среднюю продолжительность работы около 2828.5 дней. Это может быть связано с тем, что сотрудники, находящиеся в старшем возрасте, обладают большим опытом и стабильностью, что способствует более длительному трудоустройству.<br><br>\n",
    "\n",
    "- Средняя оценка производительности также имеет зависимость от возраста. Наблюдается некоторое изменение средней оценки производительности с увеличением возраста. Например, сотрудники в возрасте 25 лет имеют среднюю оценку производительности около 3.0, в то время как сотрудники в возрасте 50 лет имеют среднюю оценку производительности около 3.5. Это может указывать на то, что сотрудники старшего возраста могут обладать более высоким уровнем опыта и квалификации, что отражается в их производительности."
   ]
  },
  {
   "cell_type": "markdown",
   "id": "1d53e14e",
   "metadata": {},
   "source": [
    "#### Зависимость количества увольнений от возраста в процентах."
   ]
  },
  {
   "cell_type": "code",
   "execution_count": 14,
   "id": "c419a712",
   "metadata": {},
   "outputs": [
    {
     "data": {
      "text/html": [
       "<div>\n",
       "<style scoped>\n",
       "    .dataframe tbody tr th:only-of-type {\n",
       "        vertical-align: middle;\n",
       "    }\n",
       "\n",
       "    .dataframe tbody tr th {\n",
       "        vertical-align: top;\n",
       "    }\n",
       "\n",
       "    .dataframe thead th {\n",
       "        text-align: right;\n",
       "    }\n",
       "</style>\n",
       "<table border=\"1\" class=\"dataframe\">\n",
       "  <thead>\n",
       "    <tr style=\"text-align: right;\">\n",
       "      <th></th>\n",
       "      <th>0</th>\n",
       "      <th>1</th>\n",
       "      <th>2</th>\n",
       "      <th>3</th>\n",
       "      <th>4</th>\n",
       "      <th>5</th>\n",
       "      <th>6</th>\n",
       "      <th>7</th>\n",
       "      <th>8</th>\n",
       "      <th>9</th>\n",
       "      <th>10</th>\n",
       "      <th>11</th>\n",
       "      <th>12</th>\n",
       "      <th>13</th>\n",
       "      <th>14</th>\n",
       "      <th>15</th>\n",
       "      <th>16</th>\n",
       "      <th>17</th>\n",
       "      <th>18</th>\n",
       "      <th>19</th>\n",
       "      <th>20</th>\n",
       "      <th>21</th>\n",
       "      <th>22</th>\n",
       "      <th>23</th>\n",
       "      <th>24</th>\n",
       "      <th>25</th>\n",
       "      <th>26</th>\n",
       "      <th>27</th>\n",
       "      <th>28</th>\n",
       "      <th>29</th>\n",
       "      <th>30</th>\n",
       "      <th>31</th>\n",
       "      <th>32</th>\n",
       "      <th>33</th>\n",
       "      <th>34</th>\n",
       "      <th>35</th>\n",
       "      <th>36</th>\n",
       "      <th>37</th>\n",
       "      <th>38</th>\n",
       "    </tr>\n",
       "  </thead>\n",
       "  <tbody>\n",
       "    <tr>\n",
       "      <th>age</th>\n",
       "      <td>25.0</td>\n",
       "      <td>26.0</td>\n",
       "      <td>27.0</td>\n",
       "      <td>28.0</td>\n",
       "      <td>29.0</td>\n",
       "      <td>30.0</td>\n",
       "      <td>31.0</td>\n",
       "      <td>32.000000</td>\n",
       "      <td>33.000000</td>\n",
       "      <td>34.000000</td>\n",
       "      <td>35.000000</td>\n",
       "      <td>36.000000</td>\n",
       "      <td>37.0</td>\n",
       "      <td>38.000000</td>\n",
       "      <td>39.000000</td>\n",
       "      <td>40.0</td>\n",
       "      <td>41.000000</td>\n",
       "      <td>42.0</td>\n",
       "      <td>43.000000</td>\n",
       "      <td>44.000000</td>\n",
       "      <td>45.000000</td>\n",
       "      <td>46.000000</td>\n",
       "      <td>47.000000</td>\n",
       "      <td>48.0</td>\n",
       "      <td>49.000000</td>\n",
       "      <td>50.000000</td>\n",
       "      <td>51.0</td>\n",
       "      <td>52.0</td>\n",
       "      <td>53.0</td>\n",
       "      <td>54.0</td>\n",
       "      <td>55.0</td>\n",
       "      <td>56.0</td>\n",
       "      <td>58.0</td>\n",
       "      <td>59.0</td>\n",
       "      <td>62.0</td>\n",
       "      <td>63.000000</td>\n",
       "      <td>65.0</td>\n",
       "      <td>66.0</td>\n",
       "      <td>67.0</td>\n",
       "    </tr>\n",
       "    <tr>\n",
       "      <th>percents</th>\n",
       "      <td>0.0</td>\n",
       "      <td>50.0</td>\n",
       "      <td>20.0</td>\n",
       "      <td>25.0</td>\n",
       "      <td>20.0</td>\n",
       "      <td>40.0</td>\n",
       "      <td>32.0</td>\n",
       "      <td>41.666667</td>\n",
       "      <td>35.294118</td>\n",
       "      <td>36.842105</td>\n",
       "      <td>23.076923</td>\n",
       "      <td>38.461538</td>\n",
       "      <td>37.5</td>\n",
       "      <td>16.666667</td>\n",
       "      <td>22.222222</td>\n",
       "      <td>25.0</td>\n",
       "      <td>33.333333</td>\n",
       "      <td>12.5</td>\n",
       "      <td>44.444444</td>\n",
       "      <td>44.444444</td>\n",
       "      <td>58.333333</td>\n",
       "      <td>66.666667</td>\n",
       "      <td>33.333333</td>\n",
       "      <td>30.0</td>\n",
       "      <td>14.285714</td>\n",
       "      <td>33.333333</td>\n",
       "      <td>20.0</td>\n",
       "      <td>20.0</td>\n",
       "      <td>60.0</td>\n",
       "      <td>40.0</td>\n",
       "      <td>0.0</td>\n",
       "      <td>0.0</td>\n",
       "      <td>100.0</td>\n",
       "      <td>50.0</td>\n",
       "      <td>100.0</td>\n",
       "      <td>33.333333</td>\n",
       "      <td>100.0</td>\n",
       "      <td>50.0</td>\n",
       "      <td>50.0</td>\n",
       "    </tr>\n",
       "    <tr>\n",
       "      <th>count</th>\n",
       "      <td>2.0</td>\n",
       "      <td>2.0</td>\n",
       "      <td>5.0</td>\n",
       "      <td>12.0</td>\n",
       "      <td>15.0</td>\n",
       "      <td>15.0</td>\n",
       "      <td>25.0</td>\n",
       "      <td>12.000000</td>\n",
       "      <td>17.000000</td>\n",
       "      <td>19.000000</td>\n",
       "      <td>13.000000</td>\n",
       "      <td>13.000000</td>\n",
       "      <td>8.0</td>\n",
       "      <td>12.000000</td>\n",
       "      <td>18.000000</td>\n",
       "      <td>8.0</td>\n",
       "      <td>12.000000</td>\n",
       "      <td>8.0</td>\n",
       "      <td>9.000000</td>\n",
       "      <td>9.000000</td>\n",
       "      <td>12.000000</td>\n",
       "      <td>3.000000</td>\n",
       "      <td>6.000000</td>\n",
       "      <td>10.0</td>\n",
       "      <td>7.000000</td>\n",
       "      <td>3.000000</td>\n",
       "      <td>5.0</td>\n",
       "      <td>5.0</td>\n",
       "      <td>5.0</td>\n",
       "      <td>5.0</td>\n",
       "      <td>1.0</td>\n",
       "      <td>1.0</td>\n",
       "      <td>1.0</td>\n",
       "      <td>2.0</td>\n",
       "      <td>1.0</td>\n",
       "      <td>3.000000</td>\n",
       "      <td>2.0</td>\n",
       "      <td>2.0</td>\n",
       "      <td>2.0</td>\n",
       "    </tr>\n",
       "  </tbody>\n",
       "</table>\n",
       "</div>"
      ],
      "text/plain": [
       "            0     1     2     3     4     5     6          7          8   \\\n",
       "age       25.0  26.0  27.0  28.0  29.0  30.0  31.0  32.000000  33.000000   \n",
       "percents   0.0  50.0  20.0  25.0  20.0  40.0  32.0  41.666667  35.294118   \n",
       "count      2.0   2.0   5.0  12.0  15.0  15.0  25.0  12.000000  17.000000   \n",
       "\n",
       "                 9          10         11    12         13         14    15  \\\n",
       "age       34.000000  35.000000  36.000000  37.0  38.000000  39.000000  40.0   \n",
       "percents  36.842105  23.076923  38.461538  37.5  16.666667  22.222222  25.0   \n",
       "count     19.000000  13.000000  13.000000   8.0  12.000000  18.000000   8.0   \n",
       "\n",
       "                 16    17         18         19         20         21  \\\n",
       "age       41.000000  42.0  43.000000  44.000000  45.000000  46.000000   \n",
       "percents  33.333333  12.5  44.444444  44.444444  58.333333  66.666667   \n",
       "count     12.000000   8.0   9.000000   9.000000  12.000000   3.000000   \n",
       "\n",
       "                 22    23         24         25    26    27    28    29    30  \\\n",
       "age       47.000000  48.0  49.000000  50.000000  51.0  52.0  53.0  54.0  55.0   \n",
       "percents  33.333333  30.0  14.285714  33.333333  20.0  20.0  60.0  40.0   0.0   \n",
       "count      6.000000  10.0   7.000000   3.000000   5.0   5.0   5.0   5.0   1.0   \n",
       "\n",
       "            31     32    33     34         35     36    37    38  \n",
       "age       56.0   58.0  59.0   62.0  63.000000   65.0  66.0  67.0  \n",
       "percents   0.0  100.0  50.0  100.0  33.333333  100.0  50.0  50.0  \n",
       "count      1.0    1.0   2.0    1.0   3.000000    2.0   2.0   2.0  "
      ]
     },
     "execution_count": 14,
     "metadata": {},
     "output_type": "execute_result"
    }
   ],
   "source": [
    "age_term = pd.read_sql_query('''\n",
    "    SELECT age, COUNT(\"Date of Termination\") / (COUNT(\"Employee Number\") * 1.0) * 100 AS percents, \n",
    "    COUNT(\"Employee Number\")\n",
    "    FROM hr_dataset \n",
    "    GROUP BY age\n",
    "    ORDER BY age\n",
    "''', conn)\n",
    "\n",
    "age_term.transpose()"
   ]
  },
  {
   "cell_type": "code",
   "execution_count": 60,
   "id": "d5e74f37",
   "metadata": {},
   "outputs": [
    {
     "data": {
      "application/vnd.plotly.v1+json": {
       "config": {
        "plotlyServerURL": "https://plot.ly"
       },
       "data": [
        {
         "hovertemplate": "Возраст, лет=%{x}<br>Процент=%{y}<br>Кол-во=%{marker.size}<extra></extra>",
         "legendgroup": "",
         "marker": {
          "color": "#636efa",
          "size": [
           2,
           2,
           5,
           12,
           15,
           15,
           25,
           12,
           17,
           19,
           13,
           13,
           8,
           12,
           18,
           8,
           12,
           8,
           9,
           9,
           12,
           3,
           6,
           10,
           7,
           3,
           5,
           5,
           5,
           5,
           1,
           1,
           1,
           2,
           1,
           3,
           2,
           2,
           2
          ],
          "sizemode": "area",
          "sizeref": 0.0625,
          "symbol": "circle"
         },
         "mode": "markers",
         "name": "",
         "orientation": "v",
         "showlegend": false,
         "type": "scatter",
         "x": [
          25,
          26,
          27,
          28,
          29,
          30,
          31,
          32,
          33,
          34,
          35,
          36,
          37,
          38,
          39,
          40,
          41,
          42,
          43,
          44,
          45,
          46,
          47,
          48,
          49,
          50,
          51,
          52,
          53,
          54,
          55,
          56,
          58,
          59,
          62,
          63,
          65,
          66,
          67
         ],
         "xaxis": "x",
         "y": [
          0,
          50,
          20,
          25,
          20,
          40,
          32,
          41.666666666666664,
          35.294117647058826,
          36.8421052631579,
          23.076923076923077,
          38.46153846153846,
          37.5,
          16.666666666666668,
          22.22222222222222,
          25,
          33.333333333333336,
          12.5,
          44.44444444444444,
          44.44444444444444,
          58.333333333333336,
          66.66666666666667,
          33.333333333333336,
          30,
          14.285714285714286,
          33.333333333333336,
          20,
          20,
          60,
          40,
          0,
          0,
          100,
          50,
          100,
          33.333333333333336,
          100,
          50,
          50
         ],
         "yaxis": "y"
        },
        {
         "hovertemplate": "<b>Rolling median trendline</b><br><br>Возраст, лет=%{x}<br>Процент=%{y} <b>(trend)</b><extra></extra>",
         "legendgroup": "",
         "marker": {
          "color": "#636efa",
          "symbol": "circle"
         },
         "mode": "lines",
         "name": "",
         "showlegend": false,
         "type": "scatter",
         "x": [
          25,
          26,
          27,
          28,
          29,
          30,
          31,
          32,
          33,
          34,
          35,
          36,
          37,
          38,
          39,
          40,
          41,
          42,
          43,
          44,
          45,
          46,
          47,
          48,
          49,
          50,
          51,
          52,
          53,
          54,
          55,
          56,
          58,
          59,
          62,
          63,
          65,
          66,
          67
         ],
         "xaxis": "x",
         "y": [
          null,
          25,
          35,
          22.5,
          22.5,
          30,
          36,
          36.83333333333333,
          38.48039215686275,
          36.068111455108365,
          29.959514170040485,
          30.769230769230766,
          37.980769230769226,
          27.083333333333336,
          19.444444444444443,
          23.61111111111111,
          29.166666666666668,
          22.916666666666668,
          28.47222222222222,
          44.44444444444444,
          51.388888888888886,
          62.5,
          50,
          31.666666666666668,
          22.142857142857142,
          23.80952380952381,
          26.666666666666668,
          20,
          40,
          50,
          20,
          0,
          50,
          75,
          75,
          66.66666666666667,
          66.66666666666667,
          75,
          50
         ],
         "yaxis": "y"
        }
       ],
       "layout": {
        "legend": {
         "itemsizing": "constant",
         "tracegroupgap": 0
        },
        "template": {
         "data": {
          "bar": [
           {
            "error_x": {
             "color": "#2a3f5f"
            },
            "error_y": {
             "color": "#2a3f5f"
            },
            "marker": {
             "line": {
              "color": "#E5ECF6",
              "width": 0.5
             },
             "pattern": {
              "fillmode": "overlay",
              "size": 10,
              "solidity": 0.2
             }
            },
            "type": "bar"
           }
          ],
          "barpolar": [
           {
            "marker": {
             "line": {
              "color": "#E5ECF6",
              "width": 0.5
             },
             "pattern": {
              "fillmode": "overlay",
              "size": 10,
              "solidity": 0.2
             }
            },
            "type": "barpolar"
           }
          ],
          "carpet": [
           {
            "aaxis": {
             "endlinecolor": "#2a3f5f",
             "gridcolor": "white",
             "linecolor": "white",
             "minorgridcolor": "white",
             "startlinecolor": "#2a3f5f"
            },
            "baxis": {
             "endlinecolor": "#2a3f5f",
             "gridcolor": "white",
             "linecolor": "white",
             "minorgridcolor": "white",
             "startlinecolor": "#2a3f5f"
            },
            "type": "carpet"
           }
          ],
          "choropleth": [
           {
            "colorbar": {
             "outlinewidth": 0,
             "ticks": ""
            },
            "type": "choropleth"
           }
          ],
          "contour": [
           {
            "colorbar": {
             "outlinewidth": 0,
             "ticks": ""
            },
            "colorscale": [
             [
              0,
              "#0d0887"
             ],
             [
              0.1111111111111111,
              "#46039f"
             ],
             [
              0.2222222222222222,
              "#7201a8"
             ],
             [
              0.3333333333333333,
              "#9c179e"
             ],
             [
              0.4444444444444444,
              "#bd3786"
             ],
             [
              0.5555555555555556,
              "#d8576b"
             ],
             [
              0.6666666666666666,
              "#ed7953"
             ],
             [
              0.7777777777777778,
              "#fb9f3a"
             ],
             [
              0.8888888888888888,
              "#fdca26"
             ],
             [
              1,
              "#f0f921"
             ]
            ],
            "type": "contour"
           }
          ],
          "contourcarpet": [
           {
            "colorbar": {
             "outlinewidth": 0,
             "ticks": ""
            },
            "type": "contourcarpet"
           }
          ],
          "heatmap": [
           {
            "colorbar": {
             "outlinewidth": 0,
             "ticks": ""
            },
            "colorscale": [
             [
              0,
              "#0d0887"
             ],
             [
              0.1111111111111111,
              "#46039f"
             ],
             [
              0.2222222222222222,
              "#7201a8"
             ],
             [
              0.3333333333333333,
              "#9c179e"
             ],
             [
              0.4444444444444444,
              "#bd3786"
             ],
             [
              0.5555555555555556,
              "#d8576b"
             ],
             [
              0.6666666666666666,
              "#ed7953"
             ],
             [
              0.7777777777777778,
              "#fb9f3a"
             ],
             [
              0.8888888888888888,
              "#fdca26"
             ],
             [
              1,
              "#f0f921"
             ]
            ],
            "type": "heatmap"
           }
          ],
          "heatmapgl": [
           {
            "colorbar": {
             "outlinewidth": 0,
             "ticks": ""
            },
            "colorscale": [
             [
              0,
              "#0d0887"
             ],
             [
              0.1111111111111111,
              "#46039f"
             ],
             [
              0.2222222222222222,
              "#7201a8"
             ],
             [
              0.3333333333333333,
              "#9c179e"
             ],
             [
              0.4444444444444444,
              "#bd3786"
             ],
             [
              0.5555555555555556,
              "#d8576b"
             ],
             [
              0.6666666666666666,
              "#ed7953"
             ],
             [
              0.7777777777777778,
              "#fb9f3a"
             ],
             [
              0.8888888888888888,
              "#fdca26"
             ],
             [
              1,
              "#f0f921"
             ]
            ],
            "type": "heatmapgl"
           }
          ],
          "histogram": [
           {
            "marker": {
             "pattern": {
              "fillmode": "overlay",
              "size": 10,
              "solidity": 0.2
             }
            },
            "type": "histogram"
           }
          ],
          "histogram2d": [
           {
            "colorbar": {
             "outlinewidth": 0,
             "ticks": ""
            },
            "colorscale": [
             [
              0,
              "#0d0887"
             ],
             [
              0.1111111111111111,
              "#46039f"
             ],
             [
              0.2222222222222222,
              "#7201a8"
             ],
             [
              0.3333333333333333,
              "#9c179e"
             ],
             [
              0.4444444444444444,
              "#bd3786"
             ],
             [
              0.5555555555555556,
              "#d8576b"
             ],
             [
              0.6666666666666666,
              "#ed7953"
             ],
             [
              0.7777777777777778,
              "#fb9f3a"
             ],
             [
              0.8888888888888888,
              "#fdca26"
             ],
             [
              1,
              "#f0f921"
             ]
            ],
            "type": "histogram2d"
           }
          ],
          "histogram2dcontour": [
           {
            "colorbar": {
             "outlinewidth": 0,
             "ticks": ""
            },
            "colorscale": [
             [
              0,
              "#0d0887"
             ],
             [
              0.1111111111111111,
              "#46039f"
             ],
             [
              0.2222222222222222,
              "#7201a8"
             ],
             [
              0.3333333333333333,
              "#9c179e"
             ],
             [
              0.4444444444444444,
              "#bd3786"
             ],
             [
              0.5555555555555556,
              "#d8576b"
             ],
             [
              0.6666666666666666,
              "#ed7953"
             ],
             [
              0.7777777777777778,
              "#fb9f3a"
             ],
             [
              0.8888888888888888,
              "#fdca26"
             ],
             [
              1,
              "#f0f921"
             ]
            ],
            "type": "histogram2dcontour"
           }
          ],
          "mesh3d": [
           {
            "colorbar": {
             "outlinewidth": 0,
             "ticks": ""
            },
            "type": "mesh3d"
           }
          ],
          "parcoords": [
           {
            "line": {
             "colorbar": {
              "outlinewidth": 0,
              "ticks": ""
             }
            },
            "type": "parcoords"
           }
          ],
          "pie": [
           {
            "automargin": true,
            "type": "pie"
           }
          ],
          "scatter": [
           {
            "fillpattern": {
             "fillmode": "overlay",
             "size": 10,
             "solidity": 0.2
            },
            "type": "scatter"
           }
          ],
          "scatter3d": [
           {
            "line": {
             "colorbar": {
              "outlinewidth": 0,
              "ticks": ""
             }
            },
            "marker": {
             "colorbar": {
              "outlinewidth": 0,
              "ticks": ""
             }
            },
            "type": "scatter3d"
           }
          ],
          "scattercarpet": [
           {
            "marker": {
             "colorbar": {
              "outlinewidth": 0,
              "ticks": ""
             }
            },
            "type": "scattercarpet"
           }
          ],
          "scattergeo": [
           {
            "marker": {
             "colorbar": {
              "outlinewidth": 0,
              "ticks": ""
             }
            },
            "type": "scattergeo"
           }
          ],
          "scattergl": [
           {
            "marker": {
             "colorbar": {
              "outlinewidth": 0,
              "ticks": ""
             }
            },
            "type": "scattergl"
           }
          ],
          "scattermapbox": [
           {
            "marker": {
             "colorbar": {
              "outlinewidth": 0,
              "ticks": ""
             }
            },
            "type": "scattermapbox"
           }
          ],
          "scatterpolar": [
           {
            "marker": {
             "colorbar": {
              "outlinewidth": 0,
              "ticks": ""
             }
            },
            "type": "scatterpolar"
           }
          ],
          "scatterpolargl": [
           {
            "marker": {
             "colorbar": {
              "outlinewidth": 0,
              "ticks": ""
             }
            },
            "type": "scatterpolargl"
           }
          ],
          "scatterternary": [
           {
            "marker": {
             "colorbar": {
              "outlinewidth": 0,
              "ticks": ""
             }
            },
            "type": "scatterternary"
           }
          ],
          "surface": [
           {
            "colorbar": {
             "outlinewidth": 0,
             "ticks": ""
            },
            "colorscale": [
             [
              0,
              "#0d0887"
             ],
             [
              0.1111111111111111,
              "#46039f"
             ],
             [
              0.2222222222222222,
              "#7201a8"
             ],
             [
              0.3333333333333333,
              "#9c179e"
             ],
             [
              0.4444444444444444,
              "#bd3786"
             ],
             [
              0.5555555555555556,
              "#d8576b"
             ],
             [
              0.6666666666666666,
              "#ed7953"
             ],
             [
              0.7777777777777778,
              "#fb9f3a"
             ],
             [
              0.8888888888888888,
              "#fdca26"
             ],
             [
              1,
              "#f0f921"
             ]
            ],
            "type": "surface"
           }
          ],
          "table": [
           {
            "cells": {
             "fill": {
              "color": "#EBF0F8"
             },
             "line": {
              "color": "white"
             }
            },
            "header": {
             "fill": {
              "color": "#C8D4E3"
             },
             "line": {
              "color": "white"
             }
            },
            "type": "table"
           }
          ]
         },
         "layout": {
          "annotationdefaults": {
           "arrowcolor": "#2a3f5f",
           "arrowhead": 0,
           "arrowwidth": 1
          },
          "autotypenumbers": "strict",
          "coloraxis": {
           "colorbar": {
            "outlinewidth": 0,
            "ticks": ""
           }
          },
          "colorscale": {
           "diverging": [
            [
             0,
             "#8e0152"
            ],
            [
             0.1,
             "#c51b7d"
            ],
            [
             0.2,
             "#de77ae"
            ],
            [
             0.3,
             "#f1b6da"
            ],
            [
             0.4,
             "#fde0ef"
            ],
            [
             0.5,
             "#f7f7f7"
            ],
            [
             0.6,
             "#e6f5d0"
            ],
            [
             0.7,
             "#b8e186"
            ],
            [
             0.8,
             "#7fbc41"
            ],
            [
             0.9,
             "#4d9221"
            ],
            [
             1,
             "#276419"
            ]
           ],
           "sequential": [
            [
             0,
             "#0d0887"
            ],
            [
             0.1111111111111111,
             "#46039f"
            ],
            [
             0.2222222222222222,
             "#7201a8"
            ],
            [
             0.3333333333333333,
             "#9c179e"
            ],
            [
             0.4444444444444444,
             "#bd3786"
            ],
            [
             0.5555555555555556,
             "#d8576b"
            ],
            [
             0.6666666666666666,
             "#ed7953"
            ],
            [
             0.7777777777777778,
             "#fb9f3a"
            ],
            [
             0.8888888888888888,
             "#fdca26"
            ],
            [
             1,
             "#f0f921"
            ]
           ],
           "sequentialminus": [
            [
             0,
             "#0d0887"
            ],
            [
             0.1111111111111111,
             "#46039f"
            ],
            [
             0.2222222222222222,
             "#7201a8"
            ],
            [
             0.3333333333333333,
             "#9c179e"
            ],
            [
             0.4444444444444444,
             "#bd3786"
            ],
            [
             0.5555555555555556,
             "#d8576b"
            ],
            [
             0.6666666666666666,
             "#ed7953"
            ],
            [
             0.7777777777777778,
             "#fb9f3a"
            ],
            [
             0.8888888888888888,
             "#fdca26"
            ],
            [
             1,
             "#f0f921"
            ]
           ]
          },
          "colorway": [
           "#636efa",
           "#EF553B",
           "#00cc96",
           "#ab63fa",
           "#FFA15A",
           "#19d3f3",
           "#FF6692",
           "#B6E880",
           "#FF97FF",
           "#FECB52"
          ],
          "font": {
           "color": "#2a3f5f"
          },
          "geo": {
           "bgcolor": "white",
           "lakecolor": "white",
           "landcolor": "#E5ECF6",
           "showlakes": true,
           "showland": true,
           "subunitcolor": "white"
          },
          "hoverlabel": {
           "align": "left"
          },
          "hovermode": "closest",
          "mapbox": {
           "style": "light"
          },
          "paper_bgcolor": "white",
          "plot_bgcolor": "#E5ECF6",
          "polar": {
           "angularaxis": {
            "gridcolor": "white",
            "linecolor": "white",
            "ticks": ""
           },
           "bgcolor": "#E5ECF6",
           "radialaxis": {
            "gridcolor": "white",
            "linecolor": "white",
            "ticks": ""
           }
          },
          "scene": {
           "xaxis": {
            "backgroundcolor": "#E5ECF6",
            "gridcolor": "white",
            "gridwidth": 2,
            "linecolor": "white",
            "showbackground": true,
            "ticks": "",
            "zerolinecolor": "white"
           },
           "yaxis": {
            "backgroundcolor": "#E5ECF6",
            "gridcolor": "white",
            "gridwidth": 2,
            "linecolor": "white",
            "showbackground": true,
            "ticks": "",
            "zerolinecolor": "white"
           },
           "zaxis": {
            "backgroundcolor": "#E5ECF6",
            "gridcolor": "white",
            "gridwidth": 2,
            "linecolor": "white",
            "showbackground": true,
            "ticks": "",
            "zerolinecolor": "white"
           }
          },
          "shapedefaults": {
           "line": {
            "color": "#2a3f5f"
           }
          },
          "ternary": {
           "aaxis": {
            "gridcolor": "white",
            "linecolor": "white",
            "ticks": ""
           },
           "baxis": {
            "gridcolor": "white",
            "linecolor": "white",
            "ticks": ""
           },
           "bgcolor": "#E5ECF6",
           "caxis": {
            "gridcolor": "white",
            "linecolor": "white",
            "ticks": ""
           }
          },
          "title": {
           "x": 0.05
          },
          "xaxis": {
           "automargin": true,
           "gridcolor": "white",
           "linecolor": "white",
           "ticks": "",
           "title": {
            "standoff": 15
           },
           "zerolinecolor": "white",
           "zerolinewidth": 2
          },
          "yaxis": {
           "automargin": true,
           "gridcolor": "white",
           "linecolor": "white",
           "ticks": "",
           "title": {
            "standoff": 15
           },
           "zerolinecolor": "white",
           "zerolinewidth": 2
          }
         }
        },
        "title": {
         "text": "Зависимость кол-ва увольнений от возраста в процентах"
        },
        "xaxis": {
         "anchor": "y",
         "domain": [
          0,
          1
         ],
         "title": {
          "text": "Возраст, лет"
         }
        },
        "yaxis": {
         "anchor": "x",
         "domain": [
          0,
          1
         ],
         "title": {
          "text": "Процент"
         }
        }
       }
      },
      "text/html": [
       "<div>                            <div id=\"e7fbaa58-798a-4a5b-a8e4-4a09c231ebc7\" class=\"plotly-graph-div\" style=\"height:525px; width:100%;\"></div>            <script type=\"text/javascript\">                require([\"plotly\"], function(Plotly) {                    window.PLOTLYENV=window.PLOTLYENV || {};                                    if (document.getElementById(\"e7fbaa58-798a-4a5b-a8e4-4a09c231ebc7\")) {                    Plotly.newPlot(                        \"e7fbaa58-798a-4a5b-a8e4-4a09c231ebc7\",                        [{\"hovertemplate\":\"\\u0412\\u043e\\u0437\\u0440\\u0430\\u0441\\u0442, \\u043b\\u0435\\u0442=%{x}<br>\\u041f\\u0440\\u043e\\u0446\\u0435\\u043d\\u0442=%{y}<br>\\u041a\\u043e\\u043b-\\u0432\\u043e=%{marker.size}<extra></extra>\",\"legendgroup\":\"\",\"marker\":{\"color\":\"#636efa\",\"size\":[2,2,5,12,15,15,25,12,17,19,13,13,8,12,18,8,12,8,9,9,12,3,6,10,7,3,5,5,5,5,1,1,1,2,1,3,2,2,2],\"sizemode\":\"area\",\"sizeref\":0.0625,\"symbol\":\"circle\"},\"mode\":\"markers\",\"name\":\"\",\"orientation\":\"v\",\"showlegend\":false,\"x\":[25,26,27,28,29,30,31,32,33,34,35,36,37,38,39,40,41,42,43,44,45,46,47,48,49,50,51,52,53,54,55,56,58,59,62,63,65,66,67],\"xaxis\":\"x\",\"y\":[0.0,50.0,20.0,25.0,20.0,40.0,32.0,41.666666666666664,35.294117647058826,36.8421052631579,23.076923076923077,38.46153846153846,37.5,16.666666666666668,22.22222222222222,25.0,33.333333333333336,12.5,44.44444444444444,44.44444444444444,58.333333333333336,66.66666666666667,33.333333333333336,30.0,14.285714285714286,33.333333333333336,20.0,20.0,60.0,40.0,0.0,0.0,100.0,50.0,100.0,33.333333333333336,100.0,50.0,50.0],\"yaxis\":\"y\",\"type\":\"scatter\"},{\"hovertemplate\":\"<b>Rolling median trendline</b><br><br>\\u0412\\u043e\\u0437\\u0440\\u0430\\u0441\\u0442, \\u043b\\u0435\\u0442=%{x}<br>\\u041f\\u0440\\u043e\\u0446\\u0435\\u043d\\u0442=%{y} <b>(trend)</b><extra></extra>\",\"legendgroup\":\"\",\"marker\":{\"color\":\"#636efa\",\"symbol\":\"circle\"},\"mode\":\"lines\",\"name\":\"\",\"showlegend\":false,\"x\":[25,26,27,28,29,30,31,32,33,34,35,36,37,38,39,40,41,42,43,44,45,46,47,48,49,50,51,52,53,54,55,56,58,59,62,63,65,66,67],\"xaxis\":\"x\",\"y\":[null,25.0,35.0,22.5,22.5,30.0,36.0,36.83333333333333,38.48039215686275,36.068111455108365,29.959514170040485,30.769230769230766,37.980769230769226,27.083333333333336,19.444444444444443,23.61111111111111,29.166666666666668,22.916666666666668,28.47222222222222,44.44444444444444,51.388888888888886,62.5,50.0,31.666666666666668,22.142857142857142,23.80952380952381,26.666666666666668,20.0,40.0,50.0,20.0,0.0,50.0,75.0,75.0,66.66666666666667,66.66666666666667,75.0,50.0],\"yaxis\":\"y\",\"type\":\"scatter\"}],                        {\"template\":{\"data\":{\"histogram2dcontour\":[{\"type\":\"histogram2dcontour\",\"colorbar\":{\"outlinewidth\":0,\"ticks\":\"\"},\"colorscale\":[[0.0,\"#0d0887\"],[0.1111111111111111,\"#46039f\"],[0.2222222222222222,\"#7201a8\"],[0.3333333333333333,\"#9c179e\"],[0.4444444444444444,\"#bd3786\"],[0.5555555555555556,\"#d8576b\"],[0.6666666666666666,\"#ed7953\"],[0.7777777777777778,\"#fb9f3a\"],[0.8888888888888888,\"#fdca26\"],[1.0,\"#f0f921\"]]}],\"choropleth\":[{\"type\":\"choropleth\",\"colorbar\":{\"outlinewidth\":0,\"ticks\":\"\"}}],\"histogram2d\":[{\"type\":\"histogram2d\",\"colorbar\":{\"outlinewidth\":0,\"ticks\":\"\"},\"colorscale\":[[0.0,\"#0d0887\"],[0.1111111111111111,\"#46039f\"],[0.2222222222222222,\"#7201a8\"],[0.3333333333333333,\"#9c179e\"],[0.4444444444444444,\"#bd3786\"],[0.5555555555555556,\"#d8576b\"],[0.6666666666666666,\"#ed7953\"],[0.7777777777777778,\"#fb9f3a\"],[0.8888888888888888,\"#fdca26\"],[1.0,\"#f0f921\"]]}],\"heatmap\":[{\"type\":\"heatmap\",\"colorbar\":{\"outlinewidth\":0,\"ticks\":\"\"},\"colorscale\":[[0.0,\"#0d0887\"],[0.1111111111111111,\"#46039f\"],[0.2222222222222222,\"#7201a8\"],[0.3333333333333333,\"#9c179e\"],[0.4444444444444444,\"#bd3786\"],[0.5555555555555556,\"#d8576b\"],[0.6666666666666666,\"#ed7953\"],[0.7777777777777778,\"#fb9f3a\"],[0.8888888888888888,\"#fdca26\"],[1.0,\"#f0f921\"]]}],\"heatmapgl\":[{\"type\":\"heatmapgl\",\"colorbar\":{\"outlinewidth\":0,\"ticks\":\"\"},\"colorscale\":[[0.0,\"#0d0887\"],[0.1111111111111111,\"#46039f\"],[0.2222222222222222,\"#7201a8\"],[0.3333333333333333,\"#9c179e\"],[0.4444444444444444,\"#bd3786\"],[0.5555555555555556,\"#d8576b\"],[0.6666666666666666,\"#ed7953\"],[0.7777777777777778,\"#fb9f3a\"],[0.8888888888888888,\"#fdca26\"],[1.0,\"#f0f921\"]]}],\"contourcarpet\":[{\"type\":\"contourcarpet\",\"colorbar\":{\"outlinewidth\":0,\"ticks\":\"\"}}],\"contour\":[{\"type\":\"contour\",\"colorbar\":{\"outlinewidth\":0,\"ticks\":\"\"},\"colorscale\":[[0.0,\"#0d0887\"],[0.1111111111111111,\"#46039f\"],[0.2222222222222222,\"#7201a8\"],[0.3333333333333333,\"#9c179e\"],[0.4444444444444444,\"#bd3786\"],[0.5555555555555556,\"#d8576b\"],[0.6666666666666666,\"#ed7953\"],[0.7777777777777778,\"#fb9f3a\"],[0.8888888888888888,\"#fdca26\"],[1.0,\"#f0f921\"]]}],\"surface\":[{\"type\":\"surface\",\"colorbar\":{\"outlinewidth\":0,\"ticks\":\"\"},\"colorscale\":[[0.0,\"#0d0887\"],[0.1111111111111111,\"#46039f\"],[0.2222222222222222,\"#7201a8\"],[0.3333333333333333,\"#9c179e\"],[0.4444444444444444,\"#bd3786\"],[0.5555555555555556,\"#d8576b\"],[0.6666666666666666,\"#ed7953\"],[0.7777777777777778,\"#fb9f3a\"],[0.8888888888888888,\"#fdca26\"],[1.0,\"#f0f921\"]]}],\"mesh3d\":[{\"type\":\"mesh3d\",\"colorbar\":{\"outlinewidth\":0,\"ticks\":\"\"}}],\"scatter\":[{\"fillpattern\":{\"fillmode\":\"overlay\",\"size\":10,\"solidity\":0.2},\"type\":\"scatter\"}],\"parcoords\":[{\"type\":\"parcoords\",\"line\":{\"colorbar\":{\"outlinewidth\":0,\"ticks\":\"\"}}}],\"scatterpolargl\":[{\"type\":\"scatterpolargl\",\"marker\":{\"colorbar\":{\"outlinewidth\":0,\"ticks\":\"\"}}}],\"bar\":[{\"error_x\":{\"color\":\"#2a3f5f\"},\"error_y\":{\"color\":\"#2a3f5f\"},\"marker\":{\"line\":{\"color\":\"#E5ECF6\",\"width\":0.5},\"pattern\":{\"fillmode\":\"overlay\",\"size\":10,\"solidity\":0.2}},\"type\":\"bar\"}],\"scattergeo\":[{\"type\":\"scattergeo\",\"marker\":{\"colorbar\":{\"outlinewidth\":0,\"ticks\":\"\"}}}],\"scatterpolar\":[{\"type\":\"scatterpolar\",\"marker\":{\"colorbar\":{\"outlinewidth\":0,\"ticks\":\"\"}}}],\"histogram\":[{\"marker\":{\"pattern\":{\"fillmode\":\"overlay\",\"size\":10,\"solidity\":0.2}},\"type\":\"histogram\"}],\"scattergl\":[{\"type\":\"scattergl\",\"marker\":{\"colorbar\":{\"outlinewidth\":0,\"ticks\":\"\"}}}],\"scatter3d\":[{\"type\":\"scatter3d\",\"line\":{\"colorbar\":{\"outlinewidth\":0,\"ticks\":\"\"}},\"marker\":{\"colorbar\":{\"outlinewidth\":0,\"ticks\":\"\"}}}],\"scattermapbox\":[{\"type\":\"scattermapbox\",\"marker\":{\"colorbar\":{\"outlinewidth\":0,\"ticks\":\"\"}}}],\"scatterternary\":[{\"type\":\"scatterternary\",\"marker\":{\"colorbar\":{\"outlinewidth\":0,\"ticks\":\"\"}}}],\"scattercarpet\":[{\"type\":\"scattercarpet\",\"marker\":{\"colorbar\":{\"outlinewidth\":0,\"ticks\":\"\"}}}],\"carpet\":[{\"aaxis\":{\"endlinecolor\":\"#2a3f5f\",\"gridcolor\":\"white\",\"linecolor\":\"white\",\"minorgridcolor\":\"white\",\"startlinecolor\":\"#2a3f5f\"},\"baxis\":{\"endlinecolor\":\"#2a3f5f\",\"gridcolor\":\"white\",\"linecolor\":\"white\",\"minorgridcolor\":\"white\",\"startlinecolor\":\"#2a3f5f\"},\"type\":\"carpet\"}],\"table\":[{\"cells\":{\"fill\":{\"color\":\"#EBF0F8\"},\"line\":{\"color\":\"white\"}},\"header\":{\"fill\":{\"color\":\"#C8D4E3\"},\"line\":{\"color\":\"white\"}},\"type\":\"table\"}],\"barpolar\":[{\"marker\":{\"line\":{\"color\":\"#E5ECF6\",\"width\":0.5},\"pattern\":{\"fillmode\":\"overlay\",\"size\":10,\"solidity\":0.2}},\"type\":\"barpolar\"}],\"pie\":[{\"automargin\":true,\"type\":\"pie\"}]},\"layout\":{\"autotypenumbers\":\"strict\",\"colorway\":[\"#636efa\",\"#EF553B\",\"#00cc96\",\"#ab63fa\",\"#FFA15A\",\"#19d3f3\",\"#FF6692\",\"#B6E880\",\"#FF97FF\",\"#FECB52\"],\"font\":{\"color\":\"#2a3f5f\"},\"hovermode\":\"closest\",\"hoverlabel\":{\"align\":\"left\"},\"paper_bgcolor\":\"white\",\"plot_bgcolor\":\"#E5ECF6\",\"polar\":{\"bgcolor\":\"#E5ECF6\",\"angularaxis\":{\"gridcolor\":\"white\",\"linecolor\":\"white\",\"ticks\":\"\"},\"radialaxis\":{\"gridcolor\":\"white\",\"linecolor\":\"white\",\"ticks\":\"\"}},\"ternary\":{\"bgcolor\":\"#E5ECF6\",\"aaxis\":{\"gridcolor\":\"white\",\"linecolor\":\"white\",\"ticks\":\"\"},\"baxis\":{\"gridcolor\":\"white\",\"linecolor\":\"white\",\"ticks\":\"\"},\"caxis\":{\"gridcolor\":\"white\",\"linecolor\":\"white\",\"ticks\":\"\"}},\"coloraxis\":{\"colorbar\":{\"outlinewidth\":0,\"ticks\":\"\"}},\"colorscale\":{\"sequential\":[[0.0,\"#0d0887\"],[0.1111111111111111,\"#46039f\"],[0.2222222222222222,\"#7201a8\"],[0.3333333333333333,\"#9c179e\"],[0.4444444444444444,\"#bd3786\"],[0.5555555555555556,\"#d8576b\"],[0.6666666666666666,\"#ed7953\"],[0.7777777777777778,\"#fb9f3a\"],[0.8888888888888888,\"#fdca26\"],[1.0,\"#f0f921\"]],\"sequentialminus\":[[0.0,\"#0d0887\"],[0.1111111111111111,\"#46039f\"],[0.2222222222222222,\"#7201a8\"],[0.3333333333333333,\"#9c179e\"],[0.4444444444444444,\"#bd3786\"],[0.5555555555555556,\"#d8576b\"],[0.6666666666666666,\"#ed7953\"],[0.7777777777777778,\"#fb9f3a\"],[0.8888888888888888,\"#fdca26\"],[1.0,\"#f0f921\"]],\"diverging\":[[0,\"#8e0152\"],[0.1,\"#c51b7d\"],[0.2,\"#de77ae\"],[0.3,\"#f1b6da\"],[0.4,\"#fde0ef\"],[0.5,\"#f7f7f7\"],[0.6,\"#e6f5d0\"],[0.7,\"#b8e186\"],[0.8,\"#7fbc41\"],[0.9,\"#4d9221\"],[1,\"#276419\"]]},\"xaxis\":{\"gridcolor\":\"white\",\"linecolor\":\"white\",\"ticks\":\"\",\"title\":{\"standoff\":15},\"zerolinecolor\":\"white\",\"automargin\":true,\"zerolinewidth\":2},\"yaxis\":{\"gridcolor\":\"white\",\"linecolor\":\"white\",\"ticks\":\"\",\"title\":{\"standoff\":15},\"zerolinecolor\":\"white\",\"automargin\":true,\"zerolinewidth\":2},\"scene\":{\"xaxis\":{\"backgroundcolor\":\"#E5ECF6\",\"gridcolor\":\"white\",\"linecolor\":\"white\",\"showbackground\":true,\"ticks\":\"\",\"zerolinecolor\":\"white\",\"gridwidth\":2},\"yaxis\":{\"backgroundcolor\":\"#E5ECF6\",\"gridcolor\":\"white\",\"linecolor\":\"white\",\"showbackground\":true,\"ticks\":\"\",\"zerolinecolor\":\"white\",\"gridwidth\":2},\"zaxis\":{\"backgroundcolor\":\"#E5ECF6\",\"gridcolor\":\"white\",\"linecolor\":\"white\",\"showbackground\":true,\"ticks\":\"\",\"zerolinecolor\":\"white\",\"gridwidth\":2}},\"shapedefaults\":{\"line\":{\"color\":\"#2a3f5f\"}},\"annotationdefaults\":{\"arrowcolor\":\"#2a3f5f\",\"arrowhead\":0,\"arrowwidth\":1},\"geo\":{\"bgcolor\":\"white\",\"landcolor\":\"#E5ECF6\",\"subunitcolor\":\"white\",\"showland\":true,\"showlakes\":true,\"lakecolor\":\"white\"},\"title\":{\"x\":0.05},\"mapbox\":{\"style\":\"light\"}}},\"xaxis\":{\"anchor\":\"y\",\"domain\":[0.0,1.0],\"title\":{\"text\":\"\\u0412\\u043e\\u0437\\u0440\\u0430\\u0441\\u0442, \\u043b\\u0435\\u0442\"}},\"yaxis\":{\"anchor\":\"x\",\"domain\":[0.0,1.0],\"title\":{\"text\":\"\\u041f\\u0440\\u043e\\u0446\\u0435\\u043d\\u0442\"}},\"legend\":{\"tracegroupgap\":0,\"itemsizing\":\"constant\"},\"title\":{\"text\":\"\\u0417\\u0430\\u0432\\u0438\\u0441\\u0438\\u043c\\u043e\\u0441\\u0442\\u044c \\u043a\\u043e\\u043b-\\u0432\\u0430 \\u0443\\u0432\\u043e\\u043b\\u044c\\u043d\\u0435\\u043d\\u0438\\u0439 \\u043e\\u0442 \\u0432\\u043e\\u0437\\u0440\\u0430\\u0441\\u0442\\u0430 \\u0432 \\u043f\\u0440\\u043e\\u0446\\u0435\\u043d\\u0442\\u0430\\u0445\"}},                        {\"responsive\": true}                    ).then(function(){\n",
       "                            \n",
       "var gd = document.getElementById('e7fbaa58-798a-4a5b-a8e4-4a09c231ebc7');\n",
       "var x = new MutationObserver(function (mutations, observer) {{\n",
       "        var display = window.getComputedStyle(gd).display;\n",
       "        if (!display || display === 'none') {{\n",
       "            console.log([gd, 'removed!']);\n",
       "            Plotly.purge(gd);\n",
       "            observer.disconnect();\n",
       "        }}\n",
       "}});\n",
       "\n",
       "// Listen for the removal of the full notebook cells\n",
       "var notebookContainer = gd.closest('#notebook-container');\n",
       "if (notebookContainer) {{\n",
       "    x.observe(notebookContainer, {childList: true});\n",
       "}}\n",
       "\n",
       "// Listen for the clearing of the current output cell\n",
       "var outputEl = gd.closest('.output');\n",
       "if (outputEl) {{\n",
       "    x.observe(outputEl, {childList: true});\n",
       "}}\n",
       "\n",
       "                        })                };                });            </script>        </div>"
      ]
     },
     "metadata": {},
     "output_type": "display_data"
    }
   ],
   "source": [
    "fig = px.scatter(\n",
    "    age_term,\n",
    "    x=\"age\",\n",
    "    y=\"percents\",\n",
    "    size=\"count\",\n",
    "    trendline=\"rolling\",\n",
    "    trendline_options=dict(function=\"median\", window=2),\n",
    "    title=\"Зависимость кол-ва увольнений от возраста в процентах\",\n",
    "    labels={\"age\": \"Возраст, лет\",\n",
    "            \"percents\": \"Процент\",\n",
    "            \"count\": \"Кол-во\"}\n",
    ")\n",
    "fig.show()"
   ]
  },
  {
   "cell_type": "markdown",
   "id": "44e4fadc",
   "metadata": {},
   "source": [
    "- Процент увольнений варьируется в зависимости от возраста сотрудников. Общая тенденция показывает, что сотрудники молодого и пожилого возраста имеют более низкий процент увольнений, в то время как процент увольнений достигает пиковой точки для некоторых возрастных групп.<br><br>\n",
    "\n",
    "- Сотрудники в возрасте 25, 55 и 56 лет не имеют увольнений (процент увольнений равен 0%). Это может указывать на то, что эти возрастные группы имеют высокую стабильность в работе и склонность к долгосрочному трудоустройству.<br><br>\n",
    "\n",
    "- Существуют некоторые возрастные группы с высоким процентом увольнений. Например, сотрудники в возрасте 26 лет - 50% увольнений, сотрудники в возрасте 45-46 лет имеют 58.33-66.67%, и сотрудники в возрасте 53 лет - 60%. Это может указывать на наличие факторов, таких как изменение карьерных планов, поиск новых возможностей или несоответствие между ожиданиями сотрудников и условиями работы.<br><br>\n",
    "\n",
    "- У сотрудников в возрасте 58, 62 и 65 лет наблюдается 100% увольнений, это может указывать на определенные особенности или причины, связанные с этими возрастными группами. Пенсионирование, социальные факторы или здоровье и способности."
   ]
  },
  {
   "cell_type": "markdown",
   "id": "0626da3a",
   "metadata": {},
   "source": [
    "#### Количество увольнений по группам возрастов.\n",
    "\n",
    "Создадим условные группы возрастов для мужчин и женщин и посчитаем количество увольнений в каждой из них."
   ]
  },
  {
   "cell_type": "code",
   "execution_count": 38,
   "id": "ffb7fa1f",
   "metadata": {},
   "outputs": [
    {
     "data": {
      "text/html": [
       "<div>\n",
       "<style scoped>\n",
       "    .dataframe tbody tr th:only-of-type {\n",
       "        vertical-align: middle;\n",
       "    }\n",
       "\n",
       "    .dataframe tbody tr th {\n",
       "        vertical-align: top;\n",
       "    }\n",
       "\n",
       "    .dataframe thead th {\n",
       "        text-align: right;\n",
       "    }\n",
       "</style>\n",
       "<table border=\"1\" class=\"dataframe\">\n",
       "  <thead>\n",
       "    <tr style=\"text-align: right;\">\n",
       "      <th></th>\n",
       "      <th>group_age</th>\n",
       "      <th>percents</th>\n",
       "    </tr>\n",
       "  </thead>\n",
       "  <tbody>\n",
       "    <tr>\n",
       "      <th>0</th>\n",
       "      <td>25-34</td>\n",
       "      <td>32.000000</td>\n",
       "    </tr>\n",
       "    <tr>\n",
       "      <th>1</th>\n",
       "      <td>35-44</td>\n",
       "      <td>30.188679</td>\n",
       "    </tr>\n",
       "    <tr>\n",
       "      <th>2</th>\n",
       "      <td>45-54</td>\n",
       "      <td>34.615385</td>\n",
       "    </tr>\n",
       "    <tr>\n",
       "      <th>3</th>\n",
       "      <td>55-64</td>\n",
       "      <td>50.000000</td>\n",
       "    </tr>\n",
       "  </tbody>\n",
       "</table>\n",
       "</div>"
      ],
      "text/plain": [
       "  group_age   percents\n",
       "0     25-34  32.000000\n",
       "1     35-44  30.188679\n",
       "2     45-54  34.615385\n",
       "3     55-64  50.000000"
      ]
     },
     "execution_count": 38,
     "metadata": {},
     "output_type": "execute_result"
    }
   ],
   "source": [
    "data_group_age_male = pd.read_sql_query('''\n",
    "    SELECT \n",
    "        CASE \n",
    "            WHEN age < 35 THEN '25-34'\n",
    "            WHEN age >= 35 AND age < 45 THEN '35-44'\n",
    "            WHEN age >= 45 AND age < 55 THEN '45-54'\n",
    "            WHEN age >= 55 AND age < 65 THEN '55-64'\n",
    "            ELSE '65 и выше' \n",
    "        END AS group_age, \n",
    "        COUNT(\"Date of Termination\") / (COUNT(\"Employee Number\") * 1.0) * 100 AS percents\n",
    "    FROM hr_dataset\n",
    "    WHERE genderid = 1\n",
    "    GROUP BY group_age\n",
    "    ORDER BY group_age\n",
    "''', conn)\n",
    "\n",
    "data_group_age_male"
   ]
  },
  {
   "cell_type": "code",
   "execution_count": 37,
   "id": "51867cbc",
   "metadata": {},
   "outputs": [
    {
     "data": {
      "text/html": [
       "<div>\n",
       "<style scoped>\n",
       "    .dataframe tbody tr th:only-of-type {\n",
       "        vertical-align: middle;\n",
       "    }\n",
       "\n",
       "    .dataframe tbody tr th {\n",
       "        vertical-align: top;\n",
       "    }\n",
       "\n",
       "    .dataframe thead th {\n",
       "        text-align: right;\n",
       "    }\n",
       "</style>\n",
       "<table border=\"1\" class=\"dataframe\">\n",
       "  <thead>\n",
       "    <tr style=\"text-align: right;\">\n",
       "      <th></th>\n",
       "      <th>group_age</th>\n",
       "      <th>percents</th>\n",
       "    </tr>\n",
       "  </thead>\n",
       "  <tbody>\n",
       "    <tr>\n",
       "      <th>0</th>\n",
       "      <td>25-34</td>\n",
       "      <td>32.432432</td>\n",
       "    </tr>\n",
       "    <tr>\n",
       "      <th>1</th>\n",
       "      <td>35-44</td>\n",
       "      <td>28.070175</td>\n",
       "    </tr>\n",
       "    <tr>\n",
       "      <th>2</th>\n",
       "      <td>45-54</td>\n",
       "      <td>40.000000</td>\n",
       "    </tr>\n",
       "    <tr>\n",
       "      <th>3</th>\n",
       "      <td>55-64</td>\n",
       "      <td>40.000000</td>\n",
       "    </tr>\n",
       "    <tr>\n",
       "      <th>4</th>\n",
       "      <td>65 и выше</td>\n",
       "      <td>66.666667</td>\n",
       "    </tr>\n",
       "  </tbody>\n",
       "</table>\n",
       "</div>"
      ],
      "text/plain": [
       "   group_age   percents\n",
       "0      25-34  32.432432\n",
       "1      35-44  28.070175\n",
       "2      45-54  40.000000\n",
       "3      55-64  40.000000\n",
       "4  65 и выше  66.666667"
      ]
     },
     "execution_count": 37,
     "metadata": {},
     "output_type": "execute_result"
    }
   ],
   "source": [
    "data_group_age_female = pd.read_sql_query('''\n",
    "    SELECT \n",
    "        CASE \n",
    "            WHEN age < 35 THEN '25-34'\n",
    "            WHEN age >= 35 AND age < 45 THEN '35-44'\n",
    "            WHEN age >= 45 AND age < 55 THEN '45-54'\n",
    "            WHEN age >= 55 AND age < 65 THEN '55-64'\n",
    "            ELSE '65 и выше' \n",
    "        END AS group_age, \n",
    "        COUNT(\"Date of Termination\") / (COUNT(\"Employee Number\") * 1.0) * 100 AS percents\n",
    "    FROM hr_dataset\n",
    "    WHERE genderid = 0\n",
    "    GROUP BY group_age\n",
    "    ORDER BY group_age\n",
    "''', conn)\n",
    "\n",
    "data_group_age_female"
   ]
  },
  {
   "cell_type": "code",
   "execution_count": 61,
   "id": "22930e2c",
   "metadata": {},
   "outputs": [
    {
     "data": {
      "application/vnd.plotly.v1+json": {
       "config": {
        "plotlyServerURL": "https://plot.ly"
       },
       "data": [
        {
         "name": "male",
         "type": "bar",
         "x": [
          "25-34",
          "35-44",
          "45-54",
          "55-64"
         ],
         "y": [
          32,
          30.18867924528302,
          34.61538461538461,
          50
         ]
        },
        {
         "name": "female",
         "type": "bar",
         "x": [
          "25-34",
          "35-44",
          "45-54",
          "55-64",
          "65 и выше"
         ],
         "y": [
          32.432432432432435,
          28.07017543859649,
          40,
          40,
          66.66666666666667
         ]
        }
       ],
       "layout": {
        "template": {
         "data": {
          "bar": [
           {
            "error_x": {
             "color": "#2a3f5f"
            },
            "error_y": {
             "color": "#2a3f5f"
            },
            "marker": {
             "line": {
              "color": "#E5ECF6",
              "width": 0.5
             },
             "pattern": {
              "fillmode": "overlay",
              "size": 10,
              "solidity": 0.2
             }
            },
            "type": "bar"
           }
          ],
          "barpolar": [
           {
            "marker": {
             "line": {
              "color": "#E5ECF6",
              "width": 0.5
             },
             "pattern": {
              "fillmode": "overlay",
              "size": 10,
              "solidity": 0.2
             }
            },
            "type": "barpolar"
           }
          ],
          "carpet": [
           {
            "aaxis": {
             "endlinecolor": "#2a3f5f",
             "gridcolor": "white",
             "linecolor": "white",
             "minorgridcolor": "white",
             "startlinecolor": "#2a3f5f"
            },
            "baxis": {
             "endlinecolor": "#2a3f5f",
             "gridcolor": "white",
             "linecolor": "white",
             "minorgridcolor": "white",
             "startlinecolor": "#2a3f5f"
            },
            "type": "carpet"
           }
          ],
          "choropleth": [
           {
            "colorbar": {
             "outlinewidth": 0,
             "ticks": ""
            },
            "type": "choropleth"
           }
          ],
          "contour": [
           {
            "colorbar": {
             "outlinewidth": 0,
             "ticks": ""
            },
            "colorscale": [
             [
              0,
              "#0d0887"
             ],
             [
              0.1111111111111111,
              "#46039f"
             ],
             [
              0.2222222222222222,
              "#7201a8"
             ],
             [
              0.3333333333333333,
              "#9c179e"
             ],
             [
              0.4444444444444444,
              "#bd3786"
             ],
             [
              0.5555555555555556,
              "#d8576b"
             ],
             [
              0.6666666666666666,
              "#ed7953"
             ],
             [
              0.7777777777777778,
              "#fb9f3a"
             ],
             [
              0.8888888888888888,
              "#fdca26"
             ],
             [
              1,
              "#f0f921"
             ]
            ],
            "type": "contour"
           }
          ],
          "contourcarpet": [
           {
            "colorbar": {
             "outlinewidth": 0,
             "ticks": ""
            },
            "type": "contourcarpet"
           }
          ],
          "heatmap": [
           {
            "colorbar": {
             "outlinewidth": 0,
             "ticks": ""
            },
            "colorscale": [
             [
              0,
              "#0d0887"
             ],
             [
              0.1111111111111111,
              "#46039f"
             ],
             [
              0.2222222222222222,
              "#7201a8"
             ],
             [
              0.3333333333333333,
              "#9c179e"
             ],
             [
              0.4444444444444444,
              "#bd3786"
             ],
             [
              0.5555555555555556,
              "#d8576b"
             ],
             [
              0.6666666666666666,
              "#ed7953"
             ],
             [
              0.7777777777777778,
              "#fb9f3a"
             ],
             [
              0.8888888888888888,
              "#fdca26"
             ],
             [
              1,
              "#f0f921"
             ]
            ],
            "type": "heatmap"
           }
          ],
          "heatmapgl": [
           {
            "colorbar": {
             "outlinewidth": 0,
             "ticks": ""
            },
            "colorscale": [
             [
              0,
              "#0d0887"
             ],
             [
              0.1111111111111111,
              "#46039f"
             ],
             [
              0.2222222222222222,
              "#7201a8"
             ],
             [
              0.3333333333333333,
              "#9c179e"
             ],
             [
              0.4444444444444444,
              "#bd3786"
             ],
             [
              0.5555555555555556,
              "#d8576b"
             ],
             [
              0.6666666666666666,
              "#ed7953"
             ],
             [
              0.7777777777777778,
              "#fb9f3a"
             ],
             [
              0.8888888888888888,
              "#fdca26"
             ],
             [
              1,
              "#f0f921"
             ]
            ],
            "type": "heatmapgl"
           }
          ],
          "histogram": [
           {
            "marker": {
             "pattern": {
              "fillmode": "overlay",
              "size": 10,
              "solidity": 0.2
             }
            },
            "type": "histogram"
           }
          ],
          "histogram2d": [
           {
            "colorbar": {
             "outlinewidth": 0,
             "ticks": ""
            },
            "colorscale": [
             [
              0,
              "#0d0887"
             ],
             [
              0.1111111111111111,
              "#46039f"
             ],
             [
              0.2222222222222222,
              "#7201a8"
             ],
             [
              0.3333333333333333,
              "#9c179e"
             ],
             [
              0.4444444444444444,
              "#bd3786"
             ],
             [
              0.5555555555555556,
              "#d8576b"
             ],
             [
              0.6666666666666666,
              "#ed7953"
             ],
             [
              0.7777777777777778,
              "#fb9f3a"
             ],
             [
              0.8888888888888888,
              "#fdca26"
             ],
             [
              1,
              "#f0f921"
             ]
            ],
            "type": "histogram2d"
           }
          ],
          "histogram2dcontour": [
           {
            "colorbar": {
             "outlinewidth": 0,
             "ticks": ""
            },
            "colorscale": [
             [
              0,
              "#0d0887"
             ],
             [
              0.1111111111111111,
              "#46039f"
             ],
             [
              0.2222222222222222,
              "#7201a8"
             ],
             [
              0.3333333333333333,
              "#9c179e"
             ],
             [
              0.4444444444444444,
              "#bd3786"
             ],
             [
              0.5555555555555556,
              "#d8576b"
             ],
             [
              0.6666666666666666,
              "#ed7953"
             ],
             [
              0.7777777777777778,
              "#fb9f3a"
             ],
             [
              0.8888888888888888,
              "#fdca26"
             ],
             [
              1,
              "#f0f921"
             ]
            ],
            "type": "histogram2dcontour"
           }
          ],
          "mesh3d": [
           {
            "colorbar": {
             "outlinewidth": 0,
             "ticks": ""
            },
            "type": "mesh3d"
           }
          ],
          "parcoords": [
           {
            "line": {
             "colorbar": {
              "outlinewidth": 0,
              "ticks": ""
             }
            },
            "type": "parcoords"
           }
          ],
          "pie": [
           {
            "automargin": true,
            "type": "pie"
           }
          ],
          "scatter": [
           {
            "fillpattern": {
             "fillmode": "overlay",
             "size": 10,
             "solidity": 0.2
            },
            "type": "scatter"
           }
          ],
          "scatter3d": [
           {
            "line": {
             "colorbar": {
              "outlinewidth": 0,
              "ticks": ""
             }
            },
            "marker": {
             "colorbar": {
              "outlinewidth": 0,
              "ticks": ""
             }
            },
            "type": "scatter3d"
           }
          ],
          "scattercarpet": [
           {
            "marker": {
             "colorbar": {
              "outlinewidth": 0,
              "ticks": ""
             }
            },
            "type": "scattercarpet"
           }
          ],
          "scattergeo": [
           {
            "marker": {
             "colorbar": {
              "outlinewidth": 0,
              "ticks": ""
             }
            },
            "type": "scattergeo"
           }
          ],
          "scattergl": [
           {
            "marker": {
             "colorbar": {
              "outlinewidth": 0,
              "ticks": ""
             }
            },
            "type": "scattergl"
           }
          ],
          "scattermapbox": [
           {
            "marker": {
             "colorbar": {
              "outlinewidth": 0,
              "ticks": ""
             }
            },
            "type": "scattermapbox"
           }
          ],
          "scatterpolar": [
           {
            "marker": {
             "colorbar": {
              "outlinewidth": 0,
              "ticks": ""
             }
            },
            "type": "scatterpolar"
           }
          ],
          "scatterpolargl": [
           {
            "marker": {
             "colorbar": {
              "outlinewidth": 0,
              "ticks": ""
             }
            },
            "type": "scatterpolargl"
           }
          ],
          "scatterternary": [
           {
            "marker": {
             "colorbar": {
              "outlinewidth": 0,
              "ticks": ""
             }
            },
            "type": "scatterternary"
           }
          ],
          "surface": [
           {
            "colorbar": {
             "outlinewidth": 0,
             "ticks": ""
            },
            "colorscale": [
             [
              0,
              "#0d0887"
             ],
             [
              0.1111111111111111,
              "#46039f"
             ],
             [
              0.2222222222222222,
              "#7201a8"
             ],
             [
              0.3333333333333333,
              "#9c179e"
             ],
             [
              0.4444444444444444,
              "#bd3786"
             ],
             [
              0.5555555555555556,
              "#d8576b"
             ],
             [
              0.6666666666666666,
              "#ed7953"
             ],
             [
              0.7777777777777778,
              "#fb9f3a"
             ],
             [
              0.8888888888888888,
              "#fdca26"
             ],
             [
              1,
              "#f0f921"
             ]
            ],
            "type": "surface"
           }
          ],
          "table": [
           {
            "cells": {
             "fill": {
              "color": "#EBF0F8"
             },
             "line": {
              "color": "white"
             }
            },
            "header": {
             "fill": {
              "color": "#C8D4E3"
             },
             "line": {
              "color": "white"
             }
            },
            "type": "table"
           }
          ]
         },
         "layout": {
          "annotationdefaults": {
           "arrowcolor": "#2a3f5f",
           "arrowhead": 0,
           "arrowwidth": 1
          },
          "autotypenumbers": "strict",
          "coloraxis": {
           "colorbar": {
            "outlinewidth": 0,
            "ticks": ""
           }
          },
          "colorscale": {
           "diverging": [
            [
             0,
             "#8e0152"
            ],
            [
             0.1,
             "#c51b7d"
            ],
            [
             0.2,
             "#de77ae"
            ],
            [
             0.3,
             "#f1b6da"
            ],
            [
             0.4,
             "#fde0ef"
            ],
            [
             0.5,
             "#f7f7f7"
            ],
            [
             0.6,
             "#e6f5d0"
            ],
            [
             0.7,
             "#b8e186"
            ],
            [
             0.8,
             "#7fbc41"
            ],
            [
             0.9,
             "#4d9221"
            ],
            [
             1,
             "#276419"
            ]
           ],
           "sequential": [
            [
             0,
             "#0d0887"
            ],
            [
             0.1111111111111111,
             "#46039f"
            ],
            [
             0.2222222222222222,
             "#7201a8"
            ],
            [
             0.3333333333333333,
             "#9c179e"
            ],
            [
             0.4444444444444444,
             "#bd3786"
            ],
            [
             0.5555555555555556,
             "#d8576b"
            ],
            [
             0.6666666666666666,
             "#ed7953"
            ],
            [
             0.7777777777777778,
             "#fb9f3a"
            ],
            [
             0.8888888888888888,
             "#fdca26"
            ],
            [
             1,
             "#f0f921"
            ]
           ],
           "sequentialminus": [
            [
             0,
             "#0d0887"
            ],
            [
             0.1111111111111111,
             "#46039f"
            ],
            [
             0.2222222222222222,
             "#7201a8"
            ],
            [
             0.3333333333333333,
             "#9c179e"
            ],
            [
             0.4444444444444444,
             "#bd3786"
            ],
            [
             0.5555555555555556,
             "#d8576b"
            ],
            [
             0.6666666666666666,
             "#ed7953"
            ],
            [
             0.7777777777777778,
             "#fb9f3a"
            ],
            [
             0.8888888888888888,
             "#fdca26"
            ],
            [
             1,
             "#f0f921"
            ]
           ]
          },
          "colorway": [
           "#636efa",
           "#EF553B",
           "#00cc96",
           "#ab63fa",
           "#FFA15A",
           "#19d3f3",
           "#FF6692",
           "#B6E880",
           "#FF97FF",
           "#FECB52"
          ],
          "font": {
           "color": "#2a3f5f"
          },
          "geo": {
           "bgcolor": "white",
           "lakecolor": "white",
           "landcolor": "#E5ECF6",
           "showlakes": true,
           "showland": true,
           "subunitcolor": "white"
          },
          "hoverlabel": {
           "align": "left"
          },
          "hovermode": "closest",
          "mapbox": {
           "style": "light"
          },
          "paper_bgcolor": "white",
          "plot_bgcolor": "#E5ECF6",
          "polar": {
           "angularaxis": {
            "gridcolor": "white",
            "linecolor": "white",
            "ticks": ""
           },
           "bgcolor": "#E5ECF6",
           "radialaxis": {
            "gridcolor": "white",
            "linecolor": "white",
            "ticks": ""
           }
          },
          "scene": {
           "xaxis": {
            "backgroundcolor": "#E5ECF6",
            "gridcolor": "white",
            "gridwidth": 2,
            "linecolor": "white",
            "showbackground": true,
            "ticks": "",
            "zerolinecolor": "white"
           },
           "yaxis": {
            "backgroundcolor": "#E5ECF6",
            "gridcolor": "white",
            "gridwidth": 2,
            "linecolor": "white",
            "showbackground": true,
            "ticks": "",
            "zerolinecolor": "white"
           },
           "zaxis": {
            "backgroundcolor": "#E5ECF6",
            "gridcolor": "white",
            "gridwidth": 2,
            "linecolor": "white",
            "showbackground": true,
            "ticks": "",
            "zerolinecolor": "white"
           }
          },
          "shapedefaults": {
           "line": {
            "color": "#2a3f5f"
           }
          },
          "ternary": {
           "aaxis": {
            "gridcolor": "white",
            "linecolor": "white",
            "ticks": ""
           },
           "baxis": {
            "gridcolor": "white",
            "linecolor": "white",
            "ticks": ""
           },
           "bgcolor": "#E5ECF6",
           "caxis": {
            "gridcolor": "white",
            "linecolor": "white",
            "ticks": ""
           }
          },
          "title": {
           "x": 0.05
          },
          "xaxis": {
           "automargin": true,
           "gridcolor": "white",
           "linecolor": "white",
           "ticks": "",
           "title": {
            "standoff": 15
           },
           "zerolinecolor": "white",
           "zerolinewidth": 2
          },
          "yaxis": {
           "automargin": true,
           "gridcolor": "white",
           "linecolor": "white",
           "ticks": "",
           "title": {
            "standoff": 15
           },
           "zerolinecolor": "white",
           "zerolinewidth": 2
          }
         }
        },
        "title": {
         "text": "Количество увольнений по группам возрастов и полу"
        },
        "xaxis": {
         "title": {
          "text": "Группы возрастов"
         }
        },
        "yaxis": {
         "title": {
          "text": "Количество увольнений в процента"
         }
        }
       }
      },
      "text/html": [
       "<div>                            <div id=\"f1b9a25b-3019-4a6b-8f47-33b9555a9855\" class=\"plotly-graph-div\" style=\"height:525px; width:100%;\"></div>            <script type=\"text/javascript\">                require([\"plotly\"], function(Plotly) {                    window.PLOTLYENV=window.PLOTLYENV || {};                                    if (document.getElementById(\"f1b9a25b-3019-4a6b-8f47-33b9555a9855\")) {                    Plotly.newPlot(                        \"f1b9a25b-3019-4a6b-8f47-33b9555a9855\",                        [{\"name\":\"male\",\"x\":[\"25-34\",\"35-44\",\"45-54\",\"55-64\"],\"y\":[32.0,30.18867924528302,34.61538461538461,50.0],\"type\":\"bar\"},{\"name\":\"female\",\"x\":[\"25-34\",\"35-44\",\"45-54\",\"55-64\",\"65 \\u0438 \\u0432\\u044b\\u0448\\u0435\"],\"y\":[32.432432432432435,28.07017543859649,40.0,40.0,66.66666666666667],\"type\":\"bar\"}],                        {\"title\":{\"text\":\"\\u041a\\u043e\\u043b\\u0438\\u0447\\u0435\\u0441\\u0442\\u0432\\u043e \\u0443\\u0432\\u043e\\u043b\\u044c\\u043d\\u0435\\u043d\\u0438\\u0439 \\u043f\\u043e \\u0433\\u0440\\u0443\\u043f\\u043f\\u0430\\u043c \\u0432\\u043e\\u0437\\u0440\\u0430\\u0441\\u0442\\u043e\\u0432 \\u0438 \\u043f\\u043e\\u043b\\u0443\"},\"xaxis\":{\"title\":{\"text\":\"\\u0413\\u0440\\u0443\\u043f\\u043f\\u044b \\u0432\\u043e\\u0437\\u0440\\u0430\\u0441\\u0442\\u043e\\u0432\"}},\"yaxis\":{\"title\":{\"text\":\"\\u041a\\u043e\\u043b\\u0438\\u0447\\u0435\\u0441\\u0442\\u0432\\u043e \\u0443\\u0432\\u043e\\u043b\\u044c\\u043d\\u0435\\u043d\\u0438\\u0439 \\u0432 \\u043f\\u0440\\u043e\\u0446\\u0435\\u043d\\u0442\\u0430\"}},\"template\":{\"data\":{\"histogram2dcontour\":[{\"type\":\"histogram2dcontour\",\"colorbar\":{\"outlinewidth\":0,\"ticks\":\"\"},\"colorscale\":[[0.0,\"#0d0887\"],[0.1111111111111111,\"#46039f\"],[0.2222222222222222,\"#7201a8\"],[0.3333333333333333,\"#9c179e\"],[0.4444444444444444,\"#bd3786\"],[0.5555555555555556,\"#d8576b\"],[0.6666666666666666,\"#ed7953\"],[0.7777777777777778,\"#fb9f3a\"],[0.8888888888888888,\"#fdca26\"],[1.0,\"#f0f921\"]]}],\"choropleth\":[{\"type\":\"choropleth\",\"colorbar\":{\"outlinewidth\":0,\"ticks\":\"\"}}],\"histogram2d\":[{\"type\":\"histogram2d\",\"colorbar\":{\"outlinewidth\":0,\"ticks\":\"\"},\"colorscale\":[[0.0,\"#0d0887\"],[0.1111111111111111,\"#46039f\"],[0.2222222222222222,\"#7201a8\"],[0.3333333333333333,\"#9c179e\"],[0.4444444444444444,\"#bd3786\"],[0.5555555555555556,\"#d8576b\"],[0.6666666666666666,\"#ed7953\"],[0.7777777777777778,\"#fb9f3a\"],[0.8888888888888888,\"#fdca26\"],[1.0,\"#f0f921\"]]}],\"heatmap\":[{\"type\":\"heatmap\",\"colorbar\":{\"outlinewidth\":0,\"ticks\":\"\"},\"colorscale\":[[0.0,\"#0d0887\"],[0.1111111111111111,\"#46039f\"],[0.2222222222222222,\"#7201a8\"],[0.3333333333333333,\"#9c179e\"],[0.4444444444444444,\"#bd3786\"],[0.5555555555555556,\"#d8576b\"],[0.6666666666666666,\"#ed7953\"],[0.7777777777777778,\"#fb9f3a\"],[0.8888888888888888,\"#fdca26\"],[1.0,\"#f0f921\"]]}],\"heatmapgl\":[{\"type\":\"heatmapgl\",\"colorbar\":{\"outlinewidth\":0,\"ticks\":\"\"},\"colorscale\":[[0.0,\"#0d0887\"],[0.1111111111111111,\"#46039f\"],[0.2222222222222222,\"#7201a8\"],[0.3333333333333333,\"#9c179e\"],[0.4444444444444444,\"#bd3786\"],[0.5555555555555556,\"#d8576b\"],[0.6666666666666666,\"#ed7953\"],[0.7777777777777778,\"#fb9f3a\"],[0.8888888888888888,\"#fdca26\"],[1.0,\"#f0f921\"]]}],\"contourcarpet\":[{\"type\":\"contourcarpet\",\"colorbar\":{\"outlinewidth\":0,\"ticks\":\"\"}}],\"contour\":[{\"type\":\"contour\",\"colorbar\":{\"outlinewidth\":0,\"ticks\":\"\"},\"colorscale\":[[0.0,\"#0d0887\"],[0.1111111111111111,\"#46039f\"],[0.2222222222222222,\"#7201a8\"],[0.3333333333333333,\"#9c179e\"],[0.4444444444444444,\"#bd3786\"],[0.5555555555555556,\"#d8576b\"],[0.6666666666666666,\"#ed7953\"],[0.7777777777777778,\"#fb9f3a\"],[0.8888888888888888,\"#fdca26\"],[1.0,\"#f0f921\"]]}],\"surface\":[{\"type\":\"surface\",\"colorbar\":{\"outlinewidth\":0,\"ticks\":\"\"},\"colorscale\":[[0.0,\"#0d0887\"],[0.1111111111111111,\"#46039f\"],[0.2222222222222222,\"#7201a8\"],[0.3333333333333333,\"#9c179e\"],[0.4444444444444444,\"#bd3786\"],[0.5555555555555556,\"#d8576b\"],[0.6666666666666666,\"#ed7953\"],[0.7777777777777778,\"#fb9f3a\"],[0.8888888888888888,\"#fdca26\"],[1.0,\"#f0f921\"]]}],\"mesh3d\":[{\"type\":\"mesh3d\",\"colorbar\":{\"outlinewidth\":0,\"ticks\":\"\"}}],\"scatter\":[{\"fillpattern\":{\"fillmode\":\"overlay\",\"size\":10,\"solidity\":0.2},\"type\":\"scatter\"}],\"parcoords\":[{\"type\":\"parcoords\",\"line\":{\"colorbar\":{\"outlinewidth\":0,\"ticks\":\"\"}}}],\"scatterpolargl\":[{\"type\":\"scatterpolargl\",\"marker\":{\"colorbar\":{\"outlinewidth\":0,\"ticks\":\"\"}}}],\"bar\":[{\"error_x\":{\"color\":\"#2a3f5f\"},\"error_y\":{\"color\":\"#2a3f5f\"},\"marker\":{\"line\":{\"color\":\"#E5ECF6\",\"width\":0.5},\"pattern\":{\"fillmode\":\"overlay\",\"size\":10,\"solidity\":0.2}},\"type\":\"bar\"}],\"scattergeo\":[{\"type\":\"scattergeo\",\"marker\":{\"colorbar\":{\"outlinewidth\":0,\"ticks\":\"\"}}}],\"scatterpolar\":[{\"type\":\"scatterpolar\",\"marker\":{\"colorbar\":{\"outlinewidth\":0,\"ticks\":\"\"}}}],\"histogram\":[{\"marker\":{\"pattern\":{\"fillmode\":\"overlay\",\"size\":10,\"solidity\":0.2}},\"type\":\"histogram\"}],\"scattergl\":[{\"type\":\"scattergl\",\"marker\":{\"colorbar\":{\"outlinewidth\":0,\"ticks\":\"\"}}}],\"scatter3d\":[{\"type\":\"scatter3d\",\"line\":{\"colorbar\":{\"outlinewidth\":0,\"ticks\":\"\"}},\"marker\":{\"colorbar\":{\"outlinewidth\":0,\"ticks\":\"\"}}}],\"scattermapbox\":[{\"type\":\"scattermapbox\",\"marker\":{\"colorbar\":{\"outlinewidth\":0,\"ticks\":\"\"}}}],\"scatterternary\":[{\"type\":\"scatterternary\",\"marker\":{\"colorbar\":{\"outlinewidth\":0,\"ticks\":\"\"}}}],\"scattercarpet\":[{\"type\":\"scattercarpet\",\"marker\":{\"colorbar\":{\"outlinewidth\":0,\"ticks\":\"\"}}}],\"carpet\":[{\"aaxis\":{\"endlinecolor\":\"#2a3f5f\",\"gridcolor\":\"white\",\"linecolor\":\"white\",\"minorgridcolor\":\"white\",\"startlinecolor\":\"#2a3f5f\"},\"baxis\":{\"endlinecolor\":\"#2a3f5f\",\"gridcolor\":\"white\",\"linecolor\":\"white\",\"minorgridcolor\":\"white\",\"startlinecolor\":\"#2a3f5f\"},\"type\":\"carpet\"}],\"table\":[{\"cells\":{\"fill\":{\"color\":\"#EBF0F8\"},\"line\":{\"color\":\"white\"}},\"header\":{\"fill\":{\"color\":\"#C8D4E3\"},\"line\":{\"color\":\"white\"}},\"type\":\"table\"}],\"barpolar\":[{\"marker\":{\"line\":{\"color\":\"#E5ECF6\",\"width\":0.5},\"pattern\":{\"fillmode\":\"overlay\",\"size\":10,\"solidity\":0.2}},\"type\":\"barpolar\"}],\"pie\":[{\"automargin\":true,\"type\":\"pie\"}]},\"layout\":{\"autotypenumbers\":\"strict\",\"colorway\":[\"#636efa\",\"#EF553B\",\"#00cc96\",\"#ab63fa\",\"#FFA15A\",\"#19d3f3\",\"#FF6692\",\"#B6E880\",\"#FF97FF\",\"#FECB52\"],\"font\":{\"color\":\"#2a3f5f\"},\"hovermode\":\"closest\",\"hoverlabel\":{\"align\":\"left\"},\"paper_bgcolor\":\"white\",\"plot_bgcolor\":\"#E5ECF6\",\"polar\":{\"bgcolor\":\"#E5ECF6\",\"angularaxis\":{\"gridcolor\":\"white\",\"linecolor\":\"white\",\"ticks\":\"\"},\"radialaxis\":{\"gridcolor\":\"white\",\"linecolor\":\"white\",\"ticks\":\"\"}},\"ternary\":{\"bgcolor\":\"#E5ECF6\",\"aaxis\":{\"gridcolor\":\"white\",\"linecolor\":\"white\",\"ticks\":\"\"},\"baxis\":{\"gridcolor\":\"white\",\"linecolor\":\"white\",\"ticks\":\"\"},\"caxis\":{\"gridcolor\":\"white\",\"linecolor\":\"white\",\"ticks\":\"\"}},\"coloraxis\":{\"colorbar\":{\"outlinewidth\":0,\"ticks\":\"\"}},\"colorscale\":{\"sequential\":[[0.0,\"#0d0887\"],[0.1111111111111111,\"#46039f\"],[0.2222222222222222,\"#7201a8\"],[0.3333333333333333,\"#9c179e\"],[0.4444444444444444,\"#bd3786\"],[0.5555555555555556,\"#d8576b\"],[0.6666666666666666,\"#ed7953\"],[0.7777777777777778,\"#fb9f3a\"],[0.8888888888888888,\"#fdca26\"],[1.0,\"#f0f921\"]],\"sequentialminus\":[[0.0,\"#0d0887\"],[0.1111111111111111,\"#46039f\"],[0.2222222222222222,\"#7201a8\"],[0.3333333333333333,\"#9c179e\"],[0.4444444444444444,\"#bd3786\"],[0.5555555555555556,\"#d8576b\"],[0.6666666666666666,\"#ed7953\"],[0.7777777777777778,\"#fb9f3a\"],[0.8888888888888888,\"#fdca26\"],[1.0,\"#f0f921\"]],\"diverging\":[[0,\"#8e0152\"],[0.1,\"#c51b7d\"],[0.2,\"#de77ae\"],[0.3,\"#f1b6da\"],[0.4,\"#fde0ef\"],[0.5,\"#f7f7f7\"],[0.6,\"#e6f5d0\"],[0.7,\"#b8e186\"],[0.8,\"#7fbc41\"],[0.9,\"#4d9221\"],[1,\"#276419\"]]},\"xaxis\":{\"gridcolor\":\"white\",\"linecolor\":\"white\",\"ticks\":\"\",\"title\":{\"standoff\":15},\"zerolinecolor\":\"white\",\"automargin\":true,\"zerolinewidth\":2},\"yaxis\":{\"gridcolor\":\"white\",\"linecolor\":\"white\",\"ticks\":\"\",\"title\":{\"standoff\":15},\"zerolinecolor\":\"white\",\"automargin\":true,\"zerolinewidth\":2},\"scene\":{\"xaxis\":{\"backgroundcolor\":\"#E5ECF6\",\"gridcolor\":\"white\",\"linecolor\":\"white\",\"showbackground\":true,\"ticks\":\"\",\"zerolinecolor\":\"white\",\"gridwidth\":2},\"yaxis\":{\"backgroundcolor\":\"#E5ECF6\",\"gridcolor\":\"white\",\"linecolor\":\"white\",\"showbackground\":true,\"ticks\":\"\",\"zerolinecolor\":\"white\",\"gridwidth\":2},\"zaxis\":{\"backgroundcolor\":\"#E5ECF6\",\"gridcolor\":\"white\",\"linecolor\":\"white\",\"showbackground\":true,\"ticks\":\"\",\"zerolinecolor\":\"white\",\"gridwidth\":2}},\"shapedefaults\":{\"line\":{\"color\":\"#2a3f5f\"}},\"annotationdefaults\":{\"arrowcolor\":\"#2a3f5f\",\"arrowhead\":0,\"arrowwidth\":1},\"geo\":{\"bgcolor\":\"white\",\"landcolor\":\"#E5ECF6\",\"subunitcolor\":\"white\",\"showland\":true,\"showlakes\":true,\"lakecolor\":\"white\"},\"title\":{\"x\":0.05},\"mapbox\":{\"style\":\"light\"}}}},                        {\"responsive\": true}                    ).then(function(){\n",
       "                            \n",
       "var gd = document.getElementById('f1b9a25b-3019-4a6b-8f47-33b9555a9855');\n",
       "var x = new MutationObserver(function (mutations, observer) {{\n",
       "        var display = window.getComputedStyle(gd).display;\n",
       "        if (!display || display === 'none') {{\n",
       "            console.log([gd, 'removed!']);\n",
       "            Plotly.purge(gd);\n",
       "            observer.disconnect();\n",
       "        }}\n",
       "}});\n",
       "\n",
       "// Listen for the removal of the full notebook cells\n",
       "var notebookContainer = gd.closest('#notebook-container');\n",
       "if (notebookContainer) {{\n",
       "    x.observe(notebookContainer, {childList: true});\n",
       "}}\n",
       "\n",
       "// Listen for the clearing of the current output cell\n",
       "var outputEl = gd.closest('.output');\n",
       "if (outputEl) {{\n",
       "    x.observe(outputEl, {childList: true});\n",
       "}}\n",
       "\n",
       "                        })                };                });            </script>        </div>"
      ]
     },
     "metadata": {},
     "output_type": "display_data"
    }
   ],
   "source": [
    "trace_male = go.Bar(\n",
    "    x=data_group_age_male.group_age,\n",
    "    y=data_group_age_male.percents,\n",
    "    name=\"male\"\n",
    ")\n",
    "\n",
    "trace_female = go.Bar(\n",
    "    x=data_group_age_female.group_age,\n",
    "    y=data_group_age_female.percents,\n",
    "    name=\"female\"\n",
    ")\n",
    "\n",
    "data = [trace_male, trace_female]\n",
    "\n",
    "layout = go.Layout(\n",
    "    title=\"Количество увольнений по группам возрастов и полу\",\n",
    "    xaxis=dict(title=\"Группы возрастов\"),\n",
    "    yaxis=dict(title=\"Количество увольнений в процента\")\n",
    ")\n",
    "\n",
    "fig = go.Figure(data=data, layout=layout)\n",
    "fig.show()"
   ]
  },
  {
   "cell_type": "markdown",
   "id": "0efec7a0",
   "metadata": {},
   "source": [
    "- Распределение увольнений по группам возрастов у мужчин и женщин схоже: Обе группы имеют наибольшее количество увольнений в возрастных группах 45-54 и 55-64 лет. Это может указывать на некоторую схожесть факторов, влияющих на прекращение трудовых отношений в этих возрастных диапазонах независимо от пола.<br><br>\n",
    "\n",
    "- Молодые возрастные группы имеют сравнимое количество увольнений: Группы возрастов 25-34 лет у мужчин и женщин имеют примерно одинаковый процент увольнений (около 32%). Это может указывать на общие вызовы или факторы, связанные с ранней карьерой и стабильностью занятости в этой возрастной группе.<br><br>\n",
    "\n",
    "- Возрастная группа 65 и выше имеет высокий процент увольнений у женщин: Возрастная группа 65 и выше у женщин имеет наивысший процент увольнений (66.7%) по сравнению с другими возрастными группами. Это может быть связано с факторами, такими как пенсионирование или ограничения, связанные с возрастом, которые влияют на продолжительность работы женщин в этой возрастной группе.<br><br>\n",
    "\n",
    "- Группы возрастов 35-44 и 45-54 имеют средний процент увольнений: Обе группы возрастов показывают средний процент увольнений (около 30-40%). Это может отражать ситуации, связанные с изменениями в карьерных планах, потребностями семьи, профессиональным развитием или другими факторами, влияющими на увольнение в этом возрастном диапазоне."
   ]
  },
  {
   "cell_type": "markdown",
   "id": "6332eeff",
   "metadata": {},
   "source": [
    "#### Зависимость причины увольнения от возраста.\n",
    "\n",
    "Отсеем причины увольнений независящие от сотрудников:\n",
    "- retiring - уход на пенсию\n",
    "- medical issues - состояние здоровья\n",
    "- military - военный призыв"
   ]
  },
  {
   "cell_type": "code",
   "execution_count": 39,
   "id": "cdfe0a3e",
   "metadata": {},
   "outputs": [
    {
     "data": {
      "text/html": [
       "<div>\n",
       "<style scoped>\n",
       "    .dataframe tbody tr th:only-of-type {\n",
       "        vertical-align: middle;\n",
       "    }\n",
       "\n",
       "    .dataframe tbody tr th {\n",
       "        vertical-align: top;\n",
       "    }\n",
       "\n",
       "    .dataframe thead th {\n",
       "        text-align: right;\n",
       "    }\n",
       "</style>\n",
       "<table border=\"1\" class=\"dataframe\">\n",
       "  <thead>\n",
       "    <tr style=\"text-align: right;\">\n",
       "      <th></th>\n",
       "      <th>Reason For Term</th>\n",
       "      <th>avg</th>\n",
       "      <th>count</th>\n",
       "    </tr>\n",
       "  </thead>\n",
       "  <tbody>\n",
       "    <tr>\n",
       "      <th>0</th>\n",
       "      <td>Another position</td>\n",
       "      <td>42.100000</td>\n",
       "      <td>6.451613</td>\n",
       "    </tr>\n",
       "    <tr>\n",
       "      <th>1</th>\n",
       "      <td>unhappy</td>\n",
       "      <td>41.000000</td>\n",
       "      <td>4.516129</td>\n",
       "    </tr>\n",
       "    <tr>\n",
       "      <th>2</th>\n",
       "      <td>more money</td>\n",
       "      <td>41.363636</td>\n",
       "      <td>3.548387</td>\n",
       "    </tr>\n",
       "    <tr>\n",
       "      <th>3</th>\n",
       "      <td>career change</td>\n",
       "      <td>38.888889</td>\n",
       "      <td>2.903226</td>\n",
       "    </tr>\n",
       "    <tr>\n",
       "      <th>4</th>\n",
       "      <td>hours</td>\n",
       "      <td>41.222222</td>\n",
       "      <td>2.903226</td>\n",
       "    </tr>\n",
       "    <tr>\n",
       "      <th>5</th>\n",
       "      <td>attendance</td>\n",
       "      <td>38.428571</td>\n",
       "      <td>2.258065</td>\n",
       "    </tr>\n",
       "    <tr>\n",
       "      <th>6</th>\n",
       "      <td>return to school</td>\n",
       "      <td>37.000000</td>\n",
       "      <td>1.612903</td>\n",
       "    </tr>\n",
       "    <tr>\n",
       "      <th>7</th>\n",
       "      <td>relocation out of area</td>\n",
       "      <td>41.600000</td>\n",
       "      <td>1.612903</td>\n",
       "    </tr>\n",
       "    <tr>\n",
       "      <th>8</th>\n",
       "      <td>performance</td>\n",
       "      <td>35.000000</td>\n",
       "      <td>1.290323</td>\n",
       "    </tr>\n",
       "    <tr>\n",
       "      <th>9</th>\n",
       "      <td>no-call, no-show</td>\n",
       "      <td>35.333333</td>\n",
       "      <td>0.967742</td>\n",
       "    </tr>\n",
       "    <tr>\n",
       "      <th>10</th>\n",
       "      <td>maternity leave - did not return</td>\n",
       "      <td>29.666667</td>\n",
       "      <td>0.967742</td>\n",
       "    </tr>\n",
       "    <tr>\n",
       "      <th>11</th>\n",
       "      <td>gross misconduct</td>\n",
       "      <td>32.000000</td>\n",
       "      <td>0.322581</td>\n",
       "    </tr>\n",
       "  </tbody>\n",
       "</table>\n",
       "</div>"
      ],
      "text/plain": [
       "                     Reason For Term        avg     count\n",
       "0                   Another position  42.100000  6.451613\n",
       "1                            unhappy  41.000000  4.516129\n",
       "2                         more money  41.363636  3.548387\n",
       "3                      career change  38.888889  2.903226\n",
       "4                              hours  41.222222  2.903226\n",
       "5                         attendance  38.428571  2.258065\n",
       "6                   return to school  37.000000  1.612903\n",
       "7             relocation out of area  41.600000  1.612903\n",
       "8                        performance  35.000000  1.290323\n",
       "9                   no-call, no-show  35.333333  0.967742\n",
       "10  maternity leave - did not return  29.666667  0.967742\n",
       "11                  gross misconduct  32.000000  0.322581"
      ]
     },
     "execution_count": 39,
     "metadata": {},
     "output_type": "execute_result"
    }
   ],
   "source": [
    "age_term_reason = pd.read_sql_query('''\n",
    "    SELECT \n",
    "        \"Reason For Term\",\n",
    "        AVG(\"age\") AS avg,\n",
    "        COUNT(\"Employee Number\") * 100.0 / (SELECT COUNT(\"Employee Number\") FROM hr_dataset) AS count \n",
    "    FROM hr_dataset\n",
    "    WHERE \"Reason For Term\" NOT IN ('N/A - still employed',\n",
    "                                    'N/A - Has not started yet',\n",
    "                                    'retiring',\n",
    "                                    'medical issues',\n",
    "                                    'military')\n",
    "    GROUP BY \"Reason For Term\" \n",
    "    ORDER BY count DESC \n",
    "''', conn)\n",
    "\n",
    "age_term_reason"
   ]
  },
  {
   "cell_type": "code",
   "execution_count": 57,
   "id": "e2006a35",
   "metadata": {},
   "outputs": [
    {
     "data": {
      "application/vnd.plotly.v1+json": {
       "config": {
        "plotlyServerURL": "https://plot.ly"
       },
       "data": [
        {
         "alignmentgroup": "True",
         "hovertemplate": "Процентное соотношение количества случаев увольнений=%{x}<br>Причины увольнения=%{y}<br>Средний возраст=%{marker.color}<extra></extra>",
         "legendgroup": "",
         "marker": {
          "color": [
           42.1,
           41,
           41.36363636363637,
           38.888888888888886,
           41.22222222222222,
           38.42857142857143,
           37,
           41.6,
           35,
           35.333333333333336,
           29.666666666666668,
           32
          ],
          "coloraxis": "coloraxis",
          "pattern": {
           "shape": ""
          }
         },
         "name": "",
         "offsetgroup": "",
         "orientation": "h",
         "showlegend": false,
         "textposition": "auto",
         "type": "bar",
         "x": [
          6.451612903225807,
          4.516129032258064,
          3.5483870967741935,
          2.903225806451613,
          2.903225806451613,
          2.2580645161290325,
          1.6129032258064515,
          1.6129032258064515,
          1.2903225806451613,
          0.967741935483871,
          0.967741935483871,
          0.3225806451612903
         ],
         "xaxis": "x",
         "y": [
          "Another position",
          "unhappy",
          "more money",
          "career change",
          "hours",
          "attendance",
          "return to school",
          "relocation out of area",
          "performance",
          "no-call, no-show",
          "maternity leave - did not return",
          "gross misconduct"
         ],
         "yaxis": "y"
        }
       ],
       "layout": {
        "barmode": "relative",
        "coloraxis": {
         "colorbar": {
          "title": {
           "text": "Средний возраст"
          }
         },
         "colorscale": [
          [
           0,
           "#0d0887"
          ],
          [
           0.1111111111111111,
           "#46039f"
          ],
          [
           0.2222222222222222,
           "#7201a8"
          ],
          [
           0.3333333333333333,
           "#9c179e"
          ],
          [
           0.4444444444444444,
           "#bd3786"
          ],
          [
           0.5555555555555556,
           "#d8576b"
          ],
          [
           0.6666666666666666,
           "#ed7953"
          ],
          [
           0.7777777777777778,
           "#fb9f3a"
          ],
          [
           0.8888888888888888,
           "#fdca26"
          ],
          [
           1,
           "#f0f921"
          ]
         ]
        },
        "height": 800,
        "legend": {
         "tracegroupgap": 0
        },
        "template": {
         "data": {
          "bar": [
           {
            "error_x": {
             "color": "#2a3f5f"
            },
            "error_y": {
             "color": "#2a3f5f"
            },
            "marker": {
             "line": {
              "color": "#E5ECF6",
              "width": 0.5
             },
             "pattern": {
              "fillmode": "overlay",
              "size": 10,
              "solidity": 0.2
             }
            },
            "type": "bar"
           }
          ],
          "barpolar": [
           {
            "marker": {
             "line": {
              "color": "#E5ECF6",
              "width": 0.5
             },
             "pattern": {
              "fillmode": "overlay",
              "size": 10,
              "solidity": 0.2
             }
            },
            "type": "barpolar"
           }
          ],
          "carpet": [
           {
            "aaxis": {
             "endlinecolor": "#2a3f5f",
             "gridcolor": "white",
             "linecolor": "white",
             "minorgridcolor": "white",
             "startlinecolor": "#2a3f5f"
            },
            "baxis": {
             "endlinecolor": "#2a3f5f",
             "gridcolor": "white",
             "linecolor": "white",
             "minorgridcolor": "white",
             "startlinecolor": "#2a3f5f"
            },
            "type": "carpet"
           }
          ],
          "choropleth": [
           {
            "colorbar": {
             "outlinewidth": 0,
             "ticks": ""
            },
            "type": "choropleth"
           }
          ],
          "contour": [
           {
            "colorbar": {
             "outlinewidth": 0,
             "ticks": ""
            },
            "colorscale": [
             [
              0,
              "#0d0887"
             ],
             [
              0.1111111111111111,
              "#46039f"
             ],
             [
              0.2222222222222222,
              "#7201a8"
             ],
             [
              0.3333333333333333,
              "#9c179e"
             ],
             [
              0.4444444444444444,
              "#bd3786"
             ],
             [
              0.5555555555555556,
              "#d8576b"
             ],
             [
              0.6666666666666666,
              "#ed7953"
             ],
             [
              0.7777777777777778,
              "#fb9f3a"
             ],
             [
              0.8888888888888888,
              "#fdca26"
             ],
             [
              1,
              "#f0f921"
             ]
            ],
            "type": "contour"
           }
          ],
          "contourcarpet": [
           {
            "colorbar": {
             "outlinewidth": 0,
             "ticks": ""
            },
            "type": "contourcarpet"
           }
          ],
          "heatmap": [
           {
            "colorbar": {
             "outlinewidth": 0,
             "ticks": ""
            },
            "colorscale": [
             [
              0,
              "#0d0887"
             ],
             [
              0.1111111111111111,
              "#46039f"
             ],
             [
              0.2222222222222222,
              "#7201a8"
             ],
             [
              0.3333333333333333,
              "#9c179e"
             ],
             [
              0.4444444444444444,
              "#bd3786"
             ],
             [
              0.5555555555555556,
              "#d8576b"
             ],
             [
              0.6666666666666666,
              "#ed7953"
             ],
             [
              0.7777777777777778,
              "#fb9f3a"
             ],
             [
              0.8888888888888888,
              "#fdca26"
             ],
             [
              1,
              "#f0f921"
             ]
            ],
            "type": "heatmap"
           }
          ],
          "heatmapgl": [
           {
            "colorbar": {
             "outlinewidth": 0,
             "ticks": ""
            },
            "colorscale": [
             [
              0,
              "#0d0887"
             ],
             [
              0.1111111111111111,
              "#46039f"
             ],
             [
              0.2222222222222222,
              "#7201a8"
             ],
             [
              0.3333333333333333,
              "#9c179e"
             ],
             [
              0.4444444444444444,
              "#bd3786"
             ],
             [
              0.5555555555555556,
              "#d8576b"
             ],
             [
              0.6666666666666666,
              "#ed7953"
             ],
             [
              0.7777777777777778,
              "#fb9f3a"
             ],
             [
              0.8888888888888888,
              "#fdca26"
             ],
             [
              1,
              "#f0f921"
             ]
            ],
            "type": "heatmapgl"
           }
          ],
          "histogram": [
           {
            "marker": {
             "pattern": {
              "fillmode": "overlay",
              "size": 10,
              "solidity": 0.2
             }
            },
            "type": "histogram"
           }
          ],
          "histogram2d": [
           {
            "colorbar": {
             "outlinewidth": 0,
             "ticks": ""
            },
            "colorscale": [
             [
              0,
              "#0d0887"
             ],
             [
              0.1111111111111111,
              "#46039f"
             ],
             [
              0.2222222222222222,
              "#7201a8"
             ],
             [
              0.3333333333333333,
              "#9c179e"
             ],
             [
              0.4444444444444444,
              "#bd3786"
             ],
             [
              0.5555555555555556,
              "#d8576b"
             ],
             [
              0.6666666666666666,
              "#ed7953"
             ],
             [
              0.7777777777777778,
              "#fb9f3a"
             ],
             [
              0.8888888888888888,
              "#fdca26"
             ],
             [
              1,
              "#f0f921"
             ]
            ],
            "type": "histogram2d"
           }
          ],
          "histogram2dcontour": [
           {
            "colorbar": {
             "outlinewidth": 0,
             "ticks": ""
            },
            "colorscale": [
             [
              0,
              "#0d0887"
             ],
             [
              0.1111111111111111,
              "#46039f"
             ],
             [
              0.2222222222222222,
              "#7201a8"
             ],
             [
              0.3333333333333333,
              "#9c179e"
             ],
             [
              0.4444444444444444,
              "#bd3786"
             ],
             [
              0.5555555555555556,
              "#d8576b"
             ],
             [
              0.6666666666666666,
              "#ed7953"
             ],
             [
              0.7777777777777778,
              "#fb9f3a"
             ],
             [
              0.8888888888888888,
              "#fdca26"
             ],
             [
              1,
              "#f0f921"
             ]
            ],
            "type": "histogram2dcontour"
           }
          ],
          "mesh3d": [
           {
            "colorbar": {
             "outlinewidth": 0,
             "ticks": ""
            },
            "type": "mesh3d"
           }
          ],
          "parcoords": [
           {
            "line": {
             "colorbar": {
              "outlinewidth": 0,
              "ticks": ""
             }
            },
            "type": "parcoords"
           }
          ],
          "pie": [
           {
            "automargin": true,
            "type": "pie"
           }
          ],
          "scatter": [
           {
            "fillpattern": {
             "fillmode": "overlay",
             "size": 10,
             "solidity": 0.2
            },
            "type": "scatter"
           }
          ],
          "scatter3d": [
           {
            "line": {
             "colorbar": {
              "outlinewidth": 0,
              "ticks": ""
             }
            },
            "marker": {
             "colorbar": {
              "outlinewidth": 0,
              "ticks": ""
             }
            },
            "type": "scatter3d"
           }
          ],
          "scattercarpet": [
           {
            "marker": {
             "colorbar": {
              "outlinewidth": 0,
              "ticks": ""
             }
            },
            "type": "scattercarpet"
           }
          ],
          "scattergeo": [
           {
            "marker": {
             "colorbar": {
              "outlinewidth": 0,
              "ticks": ""
             }
            },
            "type": "scattergeo"
           }
          ],
          "scattergl": [
           {
            "marker": {
             "colorbar": {
              "outlinewidth": 0,
              "ticks": ""
             }
            },
            "type": "scattergl"
           }
          ],
          "scattermapbox": [
           {
            "marker": {
             "colorbar": {
              "outlinewidth": 0,
              "ticks": ""
             }
            },
            "type": "scattermapbox"
           }
          ],
          "scatterpolar": [
           {
            "marker": {
             "colorbar": {
              "outlinewidth": 0,
              "ticks": ""
             }
            },
            "type": "scatterpolar"
           }
          ],
          "scatterpolargl": [
           {
            "marker": {
             "colorbar": {
              "outlinewidth": 0,
              "ticks": ""
             }
            },
            "type": "scatterpolargl"
           }
          ],
          "scatterternary": [
           {
            "marker": {
             "colorbar": {
              "outlinewidth": 0,
              "ticks": ""
             }
            },
            "type": "scatterternary"
           }
          ],
          "surface": [
           {
            "colorbar": {
             "outlinewidth": 0,
             "ticks": ""
            },
            "colorscale": [
             [
              0,
              "#0d0887"
             ],
             [
              0.1111111111111111,
              "#46039f"
             ],
             [
              0.2222222222222222,
              "#7201a8"
             ],
             [
              0.3333333333333333,
              "#9c179e"
             ],
             [
              0.4444444444444444,
              "#bd3786"
             ],
             [
              0.5555555555555556,
              "#d8576b"
             ],
             [
              0.6666666666666666,
              "#ed7953"
             ],
             [
              0.7777777777777778,
              "#fb9f3a"
             ],
             [
              0.8888888888888888,
              "#fdca26"
             ],
             [
              1,
              "#f0f921"
             ]
            ],
            "type": "surface"
           }
          ],
          "table": [
           {
            "cells": {
             "fill": {
              "color": "#EBF0F8"
             },
             "line": {
              "color": "white"
             }
            },
            "header": {
             "fill": {
              "color": "#C8D4E3"
             },
             "line": {
              "color": "white"
             }
            },
            "type": "table"
           }
          ]
         },
         "layout": {
          "annotationdefaults": {
           "arrowcolor": "#2a3f5f",
           "arrowhead": 0,
           "arrowwidth": 1
          },
          "autotypenumbers": "strict",
          "coloraxis": {
           "colorbar": {
            "outlinewidth": 0,
            "ticks": ""
           }
          },
          "colorscale": {
           "diverging": [
            [
             0,
             "#8e0152"
            ],
            [
             0.1,
             "#c51b7d"
            ],
            [
             0.2,
             "#de77ae"
            ],
            [
             0.3,
             "#f1b6da"
            ],
            [
             0.4,
             "#fde0ef"
            ],
            [
             0.5,
             "#f7f7f7"
            ],
            [
             0.6,
             "#e6f5d0"
            ],
            [
             0.7,
             "#b8e186"
            ],
            [
             0.8,
             "#7fbc41"
            ],
            [
             0.9,
             "#4d9221"
            ],
            [
             1,
             "#276419"
            ]
           ],
           "sequential": [
            [
             0,
             "#0d0887"
            ],
            [
             0.1111111111111111,
             "#46039f"
            ],
            [
             0.2222222222222222,
             "#7201a8"
            ],
            [
             0.3333333333333333,
             "#9c179e"
            ],
            [
             0.4444444444444444,
             "#bd3786"
            ],
            [
             0.5555555555555556,
             "#d8576b"
            ],
            [
             0.6666666666666666,
             "#ed7953"
            ],
            [
             0.7777777777777778,
             "#fb9f3a"
            ],
            [
             0.8888888888888888,
             "#fdca26"
            ],
            [
             1,
             "#f0f921"
            ]
           ],
           "sequentialminus": [
            [
             0,
             "#0d0887"
            ],
            [
             0.1111111111111111,
             "#46039f"
            ],
            [
             0.2222222222222222,
             "#7201a8"
            ],
            [
             0.3333333333333333,
             "#9c179e"
            ],
            [
             0.4444444444444444,
             "#bd3786"
            ],
            [
             0.5555555555555556,
             "#d8576b"
            ],
            [
             0.6666666666666666,
             "#ed7953"
            ],
            [
             0.7777777777777778,
             "#fb9f3a"
            ],
            [
             0.8888888888888888,
             "#fdca26"
            ],
            [
             1,
             "#f0f921"
            ]
           ]
          },
          "colorway": [
           "#636efa",
           "#EF553B",
           "#00cc96",
           "#ab63fa",
           "#FFA15A",
           "#19d3f3",
           "#FF6692",
           "#B6E880",
           "#FF97FF",
           "#FECB52"
          ],
          "font": {
           "color": "#2a3f5f"
          },
          "geo": {
           "bgcolor": "white",
           "lakecolor": "white",
           "landcolor": "#E5ECF6",
           "showlakes": true,
           "showland": true,
           "subunitcolor": "white"
          },
          "hoverlabel": {
           "align": "left"
          },
          "hovermode": "closest",
          "mapbox": {
           "style": "light"
          },
          "paper_bgcolor": "white",
          "plot_bgcolor": "#E5ECF6",
          "polar": {
           "angularaxis": {
            "gridcolor": "white",
            "linecolor": "white",
            "ticks": ""
           },
           "bgcolor": "#E5ECF6",
           "radialaxis": {
            "gridcolor": "white",
            "linecolor": "white",
            "ticks": ""
           }
          },
          "scene": {
           "xaxis": {
            "backgroundcolor": "#E5ECF6",
            "gridcolor": "white",
            "gridwidth": 2,
            "linecolor": "white",
            "showbackground": true,
            "ticks": "",
            "zerolinecolor": "white"
           },
           "yaxis": {
            "backgroundcolor": "#E5ECF6",
            "gridcolor": "white",
            "gridwidth": 2,
            "linecolor": "white",
            "showbackground": true,
            "ticks": "",
            "zerolinecolor": "white"
           },
           "zaxis": {
            "backgroundcolor": "#E5ECF6",
            "gridcolor": "white",
            "gridwidth": 2,
            "linecolor": "white",
            "showbackground": true,
            "ticks": "",
            "zerolinecolor": "white"
           }
          },
          "shapedefaults": {
           "line": {
            "color": "#2a3f5f"
           }
          },
          "ternary": {
           "aaxis": {
            "gridcolor": "white",
            "linecolor": "white",
            "ticks": ""
           },
           "baxis": {
            "gridcolor": "white",
            "linecolor": "white",
            "ticks": ""
           },
           "bgcolor": "#E5ECF6",
           "caxis": {
            "gridcolor": "white",
            "linecolor": "white",
            "ticks": ""
           }
          },
          "title": {
           "x": 0.05
          },
          "xaxis": {
           "automargin": true,
           "gridcolor": "white",
           "linecolor": "white",
           "ticks": "",
           "title": {
            "standoff": 15
           },
           "zerolinecolor": "white",
           "zerolinewidth": 2
          },
          "yaxis": {
           "automargin": true,
           "gridcolor": "white",
           "linecolor": "white",
           "ticks": "",
           "title": {
            "standoff": 15
           },
           "zerolinecolor": "white",
           "zerolinewidth": 2
          }
         }
        },
        "title": {
         "text": "Процентное соотношение количества увольнений в зависимости от причины увольнения"
        },
        "xaxis": {
         "anchor": "y",
         "domain": [
          0,
          1
         ],
         "title": {
          "text": "Процентное соотношение количества случаев увольнений"
         }
        },
        "yaxis": {
         "anchor": "x",
         "domain": [
          0,
          1
         ],
         "title": {
          "text": "Причины увольнения"
         }
        }
       }
      },
      "text/html": [
       "<div>                            <div id=\"a1916d71-4931-4b15-996d-88118fe5ed56\" class=\"plotly-graph-div\" style=\"height:800px; width:100%;\"></div>            <script type=\"text/javascript\">                require([\"plotly\"], function(Plotly) {                    window.PLOTLYENV=window.PLOTLYENV || {};                                    if (document.getElementById(\"a1916d71-4931-4b15-996d-88118fe5ed56\")) {                    Plotly.newPlot(                        \"a1916d71-4931-4b15-996d-88118fe5ed56\",                        [{\"alignmentgroup\":\"True\",\"hovertemplate\":\"\\u041f\\u0440\\u043e\\u0446\\u0435\\u043d\\u0442\\u043d\\u043e\\u0435 \\u0441\\u043e\\u043e\\u0442\\u043d\\u043e\\u0448\\u0435\\u043d\\u0438\\u0435 \\u043a\\u043e\\u043b\\u0438\\u0447\\u0435\\u0441\\u0442\\u0432\\u0430 \\u0441\\u043b\\u0443\\u0447\\u0430\\u0435\\u0432 \\u0443\\u0432\\u043e\\u043b\\u044c\\u043d\\u0435\\u043d\\u0438\\u0439=%{x}<br>\\u041f\\u0440\\u0438\\u0447\\u0438\\u043d\\u044b \\u0443\\u0432\\u043e\\u043b\\u044c\\u043d\\u0435\\u043d\\u0438\\u044f=%{y}<br>\\u0421\\u0440\\u0435\\u0434\\u043d\\u0438\\u0439 \\u0432\\u043e\\u0437\\u0440\\u0430\\u0441\\u0442=%{marker.color}<extra></extra>\",\"legendgroup\":\"\",\"marker\":{\"color\":[42.1,41.0,41.36363636363637,38.888888888888886,41.22222222222222,38.42857142857143,37.0,41.6,35.0,35.333333333333336,29.666666666666668,32.0],\"coloraxis\":\"coloraxis\",\"pattern\":{\"shape\":\"\"}},\"name\":\"\",\"offsetgroup\":\"\",\"orientation\":\"h\",\"showlegend\":false,\"textposition\":\"auto\",\"x\":[6.451612903225807,4.516129032258064,3.5483870967741935,2.903225806451613,2.903225806451613,2.2580645161290325,1.6129032258064515,1.6129032258064515,1.2903225806451613,0.967741935483871,0.967741935483871,0.3225806451612903],\"xaxis\":\"x\",\"y\":[\"Another position\",\"unhappy\",\"more money\",\"career change\",\"hours\",\"attendance\",\"return to school\",\"relocation out of area\",\"performance\",\"no-call, no-show\",\"maternity leave - did not return\",\"gross misconduct\"],\"yaxis\":\"y\",\"type\":\"bar\"}],                        {\"template\":{\"data\":{\"histogram2dcontour\":[{\"type\":\"histogram2dcontour\",\"colorbar\":{\"outlinewidth\":0,\"ticks\":\"\"},\"colorscale\":[[0.0,\"#0d0887\"],[0.1111111111111111,\"#46039f\"],[0.2222222222222222,\"#7201a8\"],[0.3333333333333333,\"#9c179e\"],[0.4444444444444444,\"#bd3786\"],[0.5555555555555556,\"#d8576b\"],[0.6666666666666666,\"#ed7953\"],[0.7777777777777778,\"#fb9f3a\"],[0.8888888888888888,\"#fdca26\"],[1.0,\"#f0f921\"]]}],\"choropleth\":[{\"type\":\"choropleth\",\"colorbar\":{\"outlinewidth\":0,\"ticks\":\"\"}}],\"histogram2d\":[{\"type\":\"histogram2d\",\"colorbar\":{\"outlinewidth\":0,\"ticks\":\"\"},\"colorscale\":[[0.0,\"#0d0887\"],[0.1111111111111111,\"#46039f\"],[0.2222222222222222,\"#7201a8\"],[0.3333333333333333,\"#9c179e\"],[0.4444444444444444,\"#bd3786\"],[0.5555555555555556,\"#d8576b\"],[0.6666666666666666,\"#ed7953\"],[0.7777777777777778,\"#fb9f3a\"],[0.8888888888888888,\"#fdca26\"],[1.0,\"#f0f921\"]]}],\"heatmap\":[{\"type\":\"heatmap\",\"colorbar\":{\"outlinewidth\":0,\"ticks\":\"\"},\"colorscale\":[[0.0,\"#0d0887\"],[0.1111111111111111,\"#46039f\"],[0.2222222222222222,\"#7201a8\"],[0.3333333333333333,\"#9c179e\"],[0.4444444444444444,\"#bd3786\"],[0.5555555555555556,\"#d8576b\"],[0.6666666666666666,\"#ed7953\"],[0.7777777777777778,\"#fb9f3a\"],[0.8888888888888888,\"#fdca26\"],[1.0,\"#f0f921\"]]}],\"heatmapgl\":[{\"type\":\"heatmapgl\",\"colorbar\":{\"outlinewidth\":0,\"ticks\":\"\"},\"colorscale\":[[0.0,\"#0d0887\"],[0.1111111111111111,\"#46039f\"],[0.2222222222222222,\"#7201a8\"],[0.3333333333333333,\"#9c179e\"],[0.4444444444444444,\"#bd3786\"],[0.5555555555555556,\"#d8576b\"],[0.6666666666666666,\"#ed7953\"],[0.7777777777777778,\"#fb9f3a\"],[0.8888888888888888,\"#fdca26\"],[1.0,\"#f0f921\"]]}],\"contourcarpet\":[{\"type\":\"contourcarpet\",\"colorbar\":{\"outlinewidth\":0,\"ticks\":\"\"}}],\"contour\":[{\"type\":\"contour\",\"colorbar\":{\"outlinewidth\":0,\"ticks\":\"\"},\"colorscale\":[[0.0,\"#0d0887\"],[0.1111111111111111,\"#46039f\"],[0.2222222222222222,\"#7201a8\"],[0.3333333333333333,\"#9c179e\"],[0.4444444444444444,\"#bd3786\"],[0.5555555555555556,\"#d8576b\"],[0.6666666666666666,\"#ed7953\"],[0.7777777777777778,\"#fb9f3a\"],[0.8888888888888888,\"#fdca26\"],[1.0,\"#f0f921\"]]}],\"surface\":[{\"type\":\"surface\",\"colorbar\":{\"outlinewidth\":0,\"ticks\":\"\"},\"colorscale\":[[0.0,\"#0d0887\"],[0.1111111111111111,\"#46039f\"],[0.2222222222222222,\"#7201a8\"],[0.3333333333333333,\"#9c179e\"],[0.4444444444444444,\"#bd3786\"],[0.5555555555555556,\"#d8576b\"],[0.6666666666666666,\"#ed7953\"],[0.7777777777777778,\"#fb9f3a\"],[0.8888888888888888,\"#fdca26\"],[1.0,\"#f0f921\"]]}],\"mesh3d\":[{\"type\":\"mesh3d\",\"colorbar\":{\"outlinewidth\":0,\"ticks\":\"\"}}],\"scatter\":[{\"fillpattern\":{\"fillmode\":\"overlay\",\"size\":10,\"solidity\":0.2},\"type\":\"scatter\"}],\"parcoords\":[{\"type\":\"parcoords\",\"line\":{\"colorbar\":{\"outlinewidth\":0,\"ticks\":\"\"}}}],\"scatterpolargl\":[{\"type\":\"scatterpolargl\",\"marker\":{\"colorbar\":{\"outlinewidth\":0,\"ticks\":\"\"}}}],\"bar\":[{\"error_x\":{\"color\":\"#2a3f5f\"},\"error_y\":{\"color\":\"#2a3f5f\"},\"marker\":{\"line\":{\"color\":\"#E5ECF6\",\"width\":0.5},\"pattern\":{\"fillmode\":\"overlay\",\"size\":10,\"solidity\":0.2}},\"type\":\"bar\"}],\"scattergeo\":[{\"type\":\"scattergeo\",\"marker\":{\"colorbar\":{\"outlinewidth\":0,\"ticks\":\"\"}}}],\"scatterpolar\":[{\"type\":\"scatterpolar\",\"marker\":{\"colorbar\":{\"outlinewidth\":0,\"ticks\":\"\"}}}],\"histogram\":[{\"marker\":{\"pattern\":{\"fillmode\":\"overlay\",\"size\":10,\"solidity\":0.2}},\"type\":\"histogram\"}],\"scattergl\":[{\"type\":\"scattergl\",\"marker\":{\"colorbar\":{\"outlinewidth\":0,\"ticks\":\"\"}}}],\"scatter3d\":[{\"type\":\"scatter3d\",\"line\":{\"colorbar\":{\"outlinewidth\":0,\"ticks\":\"\"}},\"marker\":{\"colorbar\":{\"outlinewidth\":0,\"ticks\":\"\"}}}],\"scattermapbox\":[{\"type\":\"scattermapbox\",\"marker\":{\"colorbar\":{\"outlinewidth\":0,\"ticks\":\"\"}}}],\"scatterternary\":[{\"type\":\"scatterternary\",\"marker\":{\"colorbar\":{\"outlinewidth\":0,\"ticks\":\"\"}}}],\"scattercarpet\":[{\"type\":\"scattercarpet\",\"marker\":{\"colorbar\":{\"outlinewidth\":0,\"ticks\":\"\"}}}],\"carpet\":[{\"aaxis\":{\"endlinecolor\":\"#2a3f5f\",\"gridcolor\":\"white\",\"linecolor\":\"white\",\"minorgridcolor\":\"white\",\"startlinecolor\":\"#2a3f5f\"},\"baxis\":{\"endlinecolor\":\"#2a3f5f\",\"gridcolor\":\"white\",\"linecolor\":\"white\",\"minorgridcolor\":\"white\",\"startlinecolor\":\"#2a3f5f\"},\"type\":\"carpet\"}],\"table\":[{\"cells\":{\"fill\":{\"color\":\"#EBF0F8\"},\"line\":{\"color\":\"white\"}},\"header\":{\"fill\":{\"color\":\"#C8D4E3\"},\"line\":{\"color\":\"white\"}},\"type\":\"table\"}],\"barpolar\":[{\"marker\":{\"line\":{\"color\":\"#E5ECF6\",\"width\":0.5},\"pattern\":{\"fillmode\":\"overlay\",\"size\":10,\"solidity\":0.2}},\"type\":\"barpolar\"}],\"pie\":[{\"automargin\":true,\"type\":\"pie\"}]},\"layout\":{\"autotypenumbers\":\"strict\",\"colorway\":[\"#636efa\",\"#EF553B\",\"#00cc96\",\"#ab63fa\",\"#FFA15A\",\"#19d3f3\",\"#FF6692\",\"#B6E880\",\"#FF97FF\",\"#FECB52\"],\"font\":{\"color\":\"#2a3f5f\"},\"hovermode\":\"closest\",\"hoverlabel\":{\"align\":\"left\"},\"paper_bgcolor\":\"white\",\"plot_bgcolor\":\"#E5ECF6\",\"polar\":{\"bgcolor\":\"#E5ECF6\",\"angularaxis\":{\"gridcolor\":\"white\",\"linecolor\":\"white\",\"ticks\":\"\"},\"radialaxis\":{\"gridcolor\":\"white\",\"linecolor\":\"white\",\"ticks\":\"\"}},\"ternary\":{\"bgcolor\":\"#E5ECF6\",\"aaxis\":{\"gridcolor\":\"white\",\"linecolor\":\"white\",\"ticks\":\"\"},\"baxis\":{\"gridcolor\":\"white\",\"linecolor\":\"white\",\"ticks\":\"\"},\"caxis\":{\"gridcolor\":\"white\",\"linecolor\":\"white\",\"ticks\":\"\"}},\"coloraxis\":{\"colorbar\":{\"outlinewidth\":0,\"ticks\":\"\"}},\"colorscale\":{\"sequential\":[[0.0,\"#0d0887\"],[0.1111111111111111,\"#46039f\"],[0.2222222222222222,\"#7201a8\"],[0.3333333333333333,\"#9c179e\"],[0.4444444444444444,\"#bd3786\"],[0.5555555555555556,\"#d8576b\"],[0.6666666666666666,\"#ed7953\"],[0.7777777777777778,\"#fb9f3a\"],[0.8888888888888888,\"#fdca26\"],[1.0,\"#f0f921\"]],\"sequentialminus\":[[0.0,\"#0d0887\"],[0.1111111111111111,\"#46039f\"],[0.2222222222222222,\"#7201a8\"],[0.3333333333333333,\"#9c179e\"],[0.4444444444444444,\"#bd3786\"],[0.5555555555555556,\"#d8576b\"],[0.6666666666666666,\"#ed7953\"],[0.7777777777777778,\"#fb9f3a\"],[0.8888888888888888,\"#fdca26\"],[1.0,\"#f0f921\"]],\"diverging\":[[0,\"#8e0152\"],[0.1,\"#c51b7d\"],[0.2,\"#de77ae\"],[0.3,\"#f1b6da\"],[0.4,\"#fde0ef\"],[0.5,\"#f7f7f7\"],[0.6,\"#e6f5d0\"],[0.7,\"#b8e186\"],[0.8,\"#7fbc41\"],[0.9,\"#4d9221\"],[1,\"#276419\"]]},\"xaxis\":{\"gridcolor\":\"white\",\"linecolor\":\"white\",\"ticks\":\"\",\"title\":{\"standoff\":15},\"zerolinecolor\":\"white\",\"automargin\":true,\"zerolinewidth\":2},\"yaxis\":{\"gridcolor\":\"white\",\"linecolor\":\"white\",\"ticks\":\"\",\"title\":{\"standoff\":15},\"zerolinecolor\":\"white\",\"automargin\":true,\"zerolinewidth\":2},\"scene\":{\"xaxis\":{\"backgroundcolor\":\"#E5ECF6\",\"gridcolor\":\"white\",\"linecolor\":\"white\",\"showbackground\":true,\"ticks\":\"\",\"zerolinecolor\":\"white\",\"gridwidth\":2},\"yaxis\":{\"backgroundcolor\":\"#E5ECF6\",\"gridcolor\":\"white\",\"linecolor\":\"white\",\"showbackground\":true,\"ticks\":\"\",\"zerolinecolor\":\"white\",\"gridwidth\":2},\"zaxis\":{\"backgroundcolor\":\"#E5ECF6\",\"gridcolor\":\"white\",\"linecolor\":\"white\",\"showbackground\":true,\"ticks\":\"\",\"zerolinecolor\":\"white\",\"gridwidth\":2}},\"shapedefaults\":{\"line\":{\"color\":\"#2a3f5f\"}},\"annotationdefaults\":{\"arrowcolor\":\"#2a3f5f\",\"arrowhead\":0,\"arrowwidth\":1},\"geo\":{\"bgcolor\":\"white\",\"landcolor\":\"#E5ECF6\",\"subunitcolor\":\"white\",\"showland\":true,\"showlakes\":true,\"lakecolor\":\"white\"},\"title\":{\"x\":0.05},\"mapbox\":{\"style\":\"light\"}}},\"xaxis\":{\"anchor\":\"y\",\"domain\":[0.0,1.0],\"title\":{\"text\":\"\\u041f\\u0440\\u043e\\u0446\\u0435\\u043d\\u0442\\u043d\\u043e\\u0435 \\u0441\\u043e\\u043e\\u0442\\u043d\\u043e\\u0448\\u0435\\u043d\\u0438\\u0435 \\u043a\\u043e\\u043b\\u0438\\u0447\\u0435\\u0441\\u0442\\u0432\\u0430 \\u0441\\u043b\\u0443\\u0447\\u0430\\u0435\\u0432 \\u0443\\u0432\\u043e\\u043b\\u044c\\u043d\\u0435\\u043d\\u0438\\u0439\"}},\"yaxis\":{\"anchor\":\"x\",\"domain\":[0.0,1.0],\"title\":{\"text\":\"\\u041f\\u0440\\u0438\\u0447\\u0438\\u043d\\u044b \\u0443\\u0432\\u043e\\u043b\\u044c\\u043d\\u0435\\u043d\\u0438\\u044f\"}},\"coloraxis\":{\"colorbar\":{\"title\":{\"text\":\"\\u0421\\u0440\\u0435\\u0434\\u043d\\u0438\\u0439 \\u0432\\u043e\\u0437\\u0440\\u0430\\u0441\\u0442\"}},\"colorscale\":[[0.0,\"#0d0887\"],[0.1111111111111111,\"#46039f\"],[0.2222222222222222,\"#7201a8\"],[0.3333333333333333,\"#9c179e\"],[0.4444444444444444,\"#bd3786\"],[0.5555555555555556,\"#d8576b\"],[0.6666666666666666,\"#ed7953\"],[0.7777777777777778,\"#fb9f3a\"],[0.8888888888888888,\"#fdca26\"],[1.0,\"#f0f921\"]]},\"legend\":{\"tracegroupgap\":0},\"title\":{\"text\":\"\\u041f\\u0440\\u043e\\u0446\\u0435\\u043d\\u0442\\u043d\\u043e\\u0435 \\u0441\\u043e\\u043e\\u0442\\u043d\\u043e\\u0448\\u0435\\u043d\\u0438\\u0435 \\u043a\\u043e\\u043b\\u0438\\u0447\\u0435\\u0441\\u0442\\u0432\\u0430 \\u0443\\u0432\\u043e\\u043b\\u044c\\u043d\\u0435\\u043d\\u0438\\u0439 \\u0432 \\u0437\\u0430\\u0432\\u0438\\u0441\\u0438\\u043c\\u043e\\u0441\\u0442\\u0438 \\u043e\\u0442 \\u043f\\u0440\\u0438\\u0447\\u0438\\u043d\\u044b \\u0443\\u0432\\u043e\\u043b\\u044c\\u043d\\u0435\\u043d\\u0438\\u044f\"},\"barmode\":\"relative\",\"height\":800},                        {\"responsive\": true}                    ).then(function(){\n",
       "                            \n",
       "var gd = document.getElementById('a1916d71-4931-4b15-996d-88118fe5ed56');\n",
       "var x = new MutationObserver(function (mutations, observer) {{\n",
       "        var display = window.getComputedStyle(gd).display;\n",
       "        if (!display || display === 'none') {{\n",
       "            console.log([gd, 'removed!']);\n",
       "            Plotly.purge(gd);\n",
       "            observer.disconnect();\n",
       "        }}\n",
       "}});\n",
       "\n",
       "// Listen for the removal of the full notebook cells\n",
       "var notebookContainer = gd.closest('#notebook-container');\n",
       "if (notebookContainer) {{\n",
       "    x.observe(notebookContainer, {childList: true});\n",
       "}}\n",
       "\n",
       "// Listen for the clearing of the current output cell\n",
       "var outputEl = gd.closest('.output');\n",
       "if (outputEl) {{\n",
       "    x.observe(outputEl, {childList: true});\n",
       "}}\n",
       "\n",
       "                        })                };                });            </script>        </div>"
      ]
     },
     "metadata": {},
     "output_type": "display_data"
    }
   ],
   "source": [
    "fig = px.bar(\n",
    "    age_term_reason,\n",
    "    x=\"count\",\n",
    "    y=age_term_reason[\"Reason For Term\"],\n",
    "    color=\"avg\",\n",
    "    orientation=\"h\",\n",
    "    height=800,\n",
    "    title=\"Процентное соотношение количества увольнений в зависимости от причины увольнения\",\n",
    "    labels={\"count\": \"Процентное соотношение количества случаев увольнений\",\n",
    "            \"avg\": \"Средний возраст\",\n",
    "            \"Reason For Term\": \"Причины увольнения\"}\n",
    ")\n",
    "fig.show()"
   ]
  },
  {
   "cell_type": "markdown",
   "id": "378ed011",
   "metadata": {},
   "source": [
    "- Карьерные аспекты: Возраст около 42 лет является периодом, когда сотрудники чаще принимают решение об изменении должности (Another position). Это может быть связано со стремлением к профессиональному развитию, переходу на более высокие позиции или иным изменениям в карьерном плане. Уровень увольнений по этой причине составляет около 6.45%.<br><br>\n",
    "\n",
    "- Недовольство и некомфортные условия работы: Возраст около 41 лет связан с повышенным риском увольнений по причине недовольства (Unhappy) или неудовлетворительных рабочих условий (Hours). Это может указывать на важность удовлетворенности работой и обстановкой для сотрудников в этом возрасте. Уровень увольнений по этим причинам составляет примерно 4.52% и 2.9% соответственно.<br><br>\n",
    "\n",
    "- Финансовые мотивы: Сотрудники в возрасте около 41 лет чаще увольняются из-за перехода на более высокооплачиваемую должность (More money). Это может свидетельствовать о стремлении к повышению дохода и улучшению финансового положения. Доля увольнений по этой причине составляет около 3.55%.<br><br>\n",
    "\n",
    "- Изменение карьеры: Возраст около 38 лет связан с увольнениями из-за смены карьеры (Career change). Это может указывать на переосмысление профессиональных целей и стремление к более подходящей карьере или сфере деятельности. Уровень увольнений по этой причине составляет около 2.9%.<br><br>\n",
    "\n",
    "Таким образом, данные свидетельствуют о том, что возрастные группы около 41 и 42 лет имеют повышенную активность в плане увольнений по различным причинам. Это может быть связано с различными факторами, такими как карьерные амбиции, неудовлетворенность, финансовые мотивы или потребность в изменении профессиональной траектории."
   ]
  },
  {
   "cell_type": "markdown",
   "id": "b25d7e5a",
   "metadata": {},
   "source": [
    "#### Зависимость среднего рейтинга от возраста.\n",
    "\n",
    "Посмотрим на ранжирование рейтинговых оценок по соответствию \"perf_scoreid\" с \"Performance Score\"."
   ]
  },
  {
   "cell_type": "code",
   "execution_count": 40,
   "id": "5c597d1f",
   "metadata": {},
   "outputs": [
    {
     "data": {
      "text/html": [
       "<div>\n",
       "<style scoped>\n",
       "    .dataframe tbody tr th:only-of-type {\n",
       "        vertical-align: middle;\n",
       "    }\n",
       "\n",
       "    .dataframe tbody tr th {\n",
       "        vertical-align: top;\n",
       "    }\n",
       "\n",
       "    .dataframe thead th {\n",
       "        text-align: right;\n",
       "    }\n",
       "</style>\n",
       "<table border=\"1\" class=\"dataframe\">\n",
       "  <thead>\n",
       "    <tr style=\"text-align: right;\">\n",
       "      <th></th>\n",
       "      <th>perf_scoreid</th>\n",
       "      <th>Performance Score</th>\n",
       "    </tr>\n",
       "  </thead>\n",
       "  <tbody>\n",
       "    <tr>\n",
       "      <th>0</th>\n",
       "      <td>0</td>\n",
       "      <td>90-day meets</td>\n",
       "    </tr>\n",
       "    <tr>\n",
       "      <th>1</th>\n",
       "      <td>1</td>\n",
       "      <td>PIP</td>\n",
       "    </tr>\n",
       "    <tr>\n",
       "      <th>2</th>\n",
       "      <td>2</td>\n",
       "      <td>Needs Improvement</td>\n",
       "    </tr>\n",
       "    <tr>\n",
       "      <th>3</th>\n",
       "      <td>3</td>\n",
       "      <td>Fully Meets</td>\n",
       "    </tr>\n",
       "    <tr>\n",
       "      <th>4</th>\n",
       "      <td>4</td>\n",
       "      <td>Exceeds</td>\n",
       "    </tr>\n",
       "    <tr>\n",
       "      <th>5</th>\n",
       "      <td>5</td>\n",
       "      <td>Exceptional</td>\n",
       "    </tr>\n",
       "    <tr>\n",
       "      <th>6</th>\n",
       "      <td>9</td>\n",
       "      <td>N/A- too early to review</td>\n",
       "    </tr>\n",
       "  </tbody>\n",
       "</table>\n",
       "</div>"
      ],
      "text/plain": [
       "   perf_scoreid         Performance Score\n",
       "0             0              90-day meets\n",
       "1             1                       PIP\n",
       "2             2         Needs Improvement\n",
       "3             3               Fully Meets\n",
       "4             4                   Exceeds\n",
       "5             5               Exceptional\n",
       "6             9  N/A- too early to review"
      ]
     },
     "execution_count": 40,
     "metadata": {},
     "output_type": "execute_result"
    }
   ],
   "source": [
    "pd.read_sql_query('''\n",
    "    SELECT DISTINCT \"perf_scoreid\", \"Performance Score\" \n",
    "    FROM hr_dataset \n",
    "    ORDER BY perf_scoreid\n",
    "''', conn)"
   ]
  },
  {
   "cell_type": "markdown",
   "id": "46e60399",
   "metadata": {},
   "source": [
    "Видим, что \"0\" означает прохождение сотрудником испытательного срока, а \"9\" - индекс соответсвующий слишком раннему сроку для оценивания деятельности сотрудника.\n",
    "\n",
    "Поэтому при расчетах среднего скора не будем учитывать эти значения."
   ]
  },
  {
   "cell_type": "code",
   "execution_count": 43,
   "id": "a1cecdd9",
   "metadata": {},
   "outputs": [
    {
     "data": {
      "text/html": [
       "<div>\n",
       "<style scoped>\n",
       "    .dataframe tbody tr th:only-of-type {\n",
       "        vertical-align: middle;\n",
       "    }\n",
       "\n",
       "    .dataframe tbody tr th {\n",
       "        vertical-align: top;\n",
       "    }\n",
       "\n",
       "    .dataframe thead th {\n",
       "        text-align: right;\n",
       "    }\n",
       "</style>\n",
       "<table border=\"1\" class=\"dataframe\">\n",
       "  <thead>\n",
       "    <tr style=\"text-align: right;\">\n",
       "      <th></th>\n",
       "      <th>0</th>\n",
       "      <th>1</th>\n",
       "      <th>2</th>\n",
       "      <th>3</th>\n",
       "      <th>4</th>\n",
       "      <th>5</th>\n",
       "      <th>6</th>\n",
       "      <th>7</th>\n",
       "      <th>8</th>\n",
       "      <th>9</th>\n",
       "      <th>10</th>\n",
       "      <th>11</th>\n",
       "      <th>12</th>\n",
       "      <th>13</th>\n",
       "      <th>14</th>\n",
       "      <th>15</th>\n",
       "      <th>16</th>\n",
       "      <th>17</th>\n",
       "      <th>18</th>\n",
       "      <th>19</th>\n",
       "      <th>20</th>\n",
       "      <th>21</th>\n",
       "      <th>22</th>\n",
       "      <th>23</th>\n",
       "      <th>24</th>\n",
       "      <th>25</th>\n",
       "      <th>26</th>\n",
       "      <th>27</th>\n",
       "      <th>28</th>\n",
       "      <th>29</th>\n",
       "      <th>30</th>\n",
       "      <th>31</th>\n",
       "      <th>32</th>\n",
       "      <th>33</th>\n",
       "      <th>34</th>\n",
       "      <th>35</th>\n",
       "      <th>36</th>\n",
       "      <th>37</th>\n",
       "      <th>38</th>\n",
       "    </tr>\n",
       "  </thead>\n",
       "  <tbody>\n",
       "    <tr>\n",
       "      <th>avg</th>\n",
       "      <td>3.0</td>\n",
       "      <td>3.0</td>\n",
       "      <td>2.75</td>\n",
       "      <td>2.857143</td>\n",
       "      <td>3.333333</td>\n",
       "      <td>2.909091</td>\n",
       "      <td>2.933333</td>\n",
       "      <td>2.888889</td>\n",
       "      <td>3.142857</td>\n",
       "      <td>3.071429</td>\n",
       "      <td>3.333333</td>\n",
       "      <td>3.000000</td>\n",
       "      <td>3.000000</td>\n",
       "      <td>3.1</td>\n",
       "      <td>3.00</td>\n",
       "      <td>3.000000</td>\n",
       "      <td>3.250</td>\n",
       "      <td>2.714286</td>\n",
       "      <td>2.888889</td>\n",
       "      <td>2.833333</td>\n",
       "      <td>3.3</td>\n",
       "      <td>3.000000</td>\n",
       "      <td>3.166667</td>\n",
       "      <td>3.625</td>\n",
       "      <td>2.666667</td>\n",
       "      <td>3.5</td>\n",
       "      <td>2.75</td>\n",
       "      <td>3.25</td>\n",
       "      <td>2.50</td>\n",
       "      <td>3.2</td>\n",
       "      <td>3.0</td>\n",
       "      <td>3.0</td>\n",
       "      <td>4.0</td>\n",
       "      <td>3.5</td>\n",
       "      <td>3.0</td>\n",
       "      <td>3.000000</td>\n",
       "      <td>3.0</td>\n",
       "      <td>3.0</td>\n",
       "      <td>3.0</td>\n",
       "    </tr>\n",
       "    <tr>\n",
       "      <th>age</th>\n",
       "      <td>25.0</td>\n",
       "      <td>26.0</td>\n",
       "      <td>27.00</td>\n",
       "      <td>28.000000</td>\n",
       "      <td>29.000000</td>\n",
       "      <td>30.000000</td>\n",
       "      <td>31.000000</td>\n",
       "      <td>32.000000</td>\n",
       "      <td>33.000000</td>\n",
       "      <td>34.000000</td>\n",
       "      <td>35.000000</td>\n",
       "      <td>36.000000</td>\n",
       "      <td>37.000000</td>\n",
       "      <td>38.0</td>\n",
       "      <td>39.00</td>\n",
       "      <td>40.000000</td>\n",
       "      <td>41.000</td>\n",
       "      <td>42.000000</td>\n",
       "      <td>43.000000</td>\n",
       "      <td>44.000000</td>\n",
       "      <td>45.0</td>\n",
       "      <td>46.000000</td>\n",
       "      <td>47.000000</td>\n",
       "      <td>48.000</td>\n",
       "      <td>49.000000</td>\n",
       "      <td>50.0</td>\n",
       "      <td>51.00</td>\n",
       "      <td>52.00</td>\n",
       "      <td>53.00</td>\n",
       "      <td>54.0</td>\n",
       "      <td>55.0</td>\n",
       "      <td>56.0</td>\n",
       "      <td>58.0</td>\n",
       "      <td>59.0</td>\n",
       "      <td>62.0</td>\n",
       "      <td>63.000000</td>\n",
       "      <td>65.0</td>\n",
       "      <td>66.0</td>\n",
       "      <td>67.0</td>\n",
       "    </tr>\n",
       "    <tr>\n",
       "      <th>days</th>\n",
       "      <td>1843.5</td>\n",
       "      <td>794.0</td>\n",
       "      <td>1690.75</td>\n",
       "      <td>1215.142857</td>\n",
       "      <td>1907.166667</td>\n",
       "      <td>1194.181818</td>\n",
       "      <td>1554.266667</td>\n",
       "      <td>1419.444444</td>\n",
       "      <td>1186.071429</td>\n",
       "      <td>1121.214286</td>\n",
       "      <td>1728.777778</td>\n",
       "      <td>1582.111111</td>\n",
       "      <td>1308.285714</td>\n",
       "      <td>1439.3</td>\n",
       "      <td>1475.75</td>\n",
       "      <td>1721.666667</td>\n",
       "      <td>1585.125</td>\n",
       "      <td>1535.857143</td>\n",
       "      <td>1251.222222</td>\n",
       "      <td>1579.666667</td>\n",
       "      <td>1352.2</td>\n",
       "      <td>299.333333</td>\n",
       "      <td>1384.500000</td>\n",
       "      <td>1454.000</td>\n",
       "      <td>2165.500000</td>\n",
       "      <td>2828.5</td>\n",
       "      <td>1743.75</td>\n",
       "      <td>1221.75</td>\n",
       "      <td>940.25</td>\n",
       "      <td>1465.0</td>\n",
       "      <td>1196.0</td>\n",
       "      <td>1420.0</td>\n",
       "      <td>1635.0</td>\n",
       "      <td>1350.0</td>\n",
       "      <td>98.0</td>\n",
       "      <td>1396.333333</td>\n",
       "      <td>927.5</td>\n",
       "      <td>1112.0</td>\n",
       "      <td>1414.5</td>\n",
       "    </tr>\n",
       "  </tbody>\n",
       "</table>\n",
       "</div>"
      ],
      "text/plain": [
       "          0      1        2            3            4            5   \\\n",
       "avg      3.0    3.0     2.75     2.857143     3.333333     2.909091   \n",
       "age     25.0   26.0    27.00    28.000000    29.000000    30.000000   \n",
       "days  1843.5  794.0  1690.75  1215.142857  1907.166667  1194.181818   \n",
       "\n",
       "               6            7            8            9            10  \\\n",
       "avg      2.933333     2.888889     3.142857     3.071429     3.333333   \n",
       "age     31.000000    32.000000    33.000000    34.000000    35.000000   \n",
       "days  1554.266667  1419.444444  1186.071429  1121.214286  1728.777778   \n",
       "\n",
       "               11           12      13       14           15        16  \\\n",
       "avg      3.000000     3.000000     3.1     3.00     3.000000     3.250   \n",
       "age     36.000000    37.000000    38.0    39.00    40.000000    41.000   \n",
       "days  1582.111111  1308.285714  1439.3  1475.75  1721.666667  1585.125   \n",
       "\n",
       "               17           18           19      20          21           22  \\\n",
       "avg      2.714286     2.888889     2.833333     3.3    3.000000     3.166667   \n",
       "age     42.000000    43.000000    44.000000    45.0   46.000000    47.000000   \n",
       "days  1535.857143  1251.222222  1579.666667  1352.2  299.333333  1384.500000   \n",
       "\n",
       "            23           24      25       26       27      28      29      30  \\\n",
       "avg      3.625     2.666667     3.5     2.75     3.25    2.50     3.2     3.0   \n",
       "age     48.000    49.000000    50.0    51.00    52.00   53.00    54.0    55.0   \n",
       "days  1454.000  2165.500000  2828.5  1743.75  1221.75  940.25  1465.0  1196.0   \n",
       "\n",
       "          31      32      33    34           35     36      37      38  \n",
       "avg      3.0     4.0     3.5   3.0     3.000000    3.0     3.0     3.0  \n",
       "age     56.0    58.0    59.0  62.0    63.000000   65.0    66.0    67.0  \n",
       "days  1420.0  1635.0  1350.0  98.0  1396.333333  927.5  1112.0  1414.5  "
      ]
     },
     "execution_count": 43,
     "metadata": {},
     "output_type": "execute_result"
    }
   ],
   "source": [
    "perf_age = pd.read_sql_query('''\n",
    "    SELECT AVG(\"perf_scoreid\"), \"age\", AVG(\"Days Employed\") AS days\n",
    "    FROM hr_dataset\n",
    "    WHERE \"perf_scoreid\" !=0 AND \"perf_scoreid\" !=9\n",
    "    GROUP BY \"age\" \n",
    "    ORDER BY \"age\" \n",
    "''', conn)\n",
    "\n",
    "perf_age.transpose()"
   ]
  },
  {
   "cell_type": "code",
   "execution_count": 67,
   "id": "ac6b0143",
   "metadata": {},
   "outputs": [
    {
     "data": {
      "application/vnd.plotly.v1+json": {
       "config": {
        "plotlyServerURL": "https://plot.ly"
       },
       "data": [
        {
         "hovertemplate": "Возраст, лет=%{x}<br>Индекс рейтинга=%{y}<br>Отработанные дни=%{marker.color}<extra></extra>",
         "legendgroup": "",
         "marker": {
          "color": [
           1843.5,
           794,
           1690.75,
           1215.142857142857,
           1907.1666666666667,
           1194.1818181818182,
           1554.2666666666667,
           1419.4444444444443,
           1186.0714285714287,
           1121.2142857142858,
           1728.7777777777778,
           1582.111111111111,
           1308.2857142857142,
           1439.3,
           1475.75,
           1721.6666666666667,
           1585.125,
           1535.857142857143,
           1251.2222222222222,
           1579.6666666666667,
           1352.2,
           299.3333333333333,
           1384.5,
           1454,
           2165.5,
           2828.5,
           1743.75,
           1221.75,
           940.25,
           1465,
           1196,
           1420,
           1635,
           1350,
           98,
           1396.3333333333333,
           927.5,
           1112,
           1414.5
          ],
          "coloraxis": "coloraxis",
          "size": [
           1843.5,
           794,
           1690.75,
           1215.142857142857,
           1907.1666666666667,
           1194.1818181818182,
           1554.2666666666667,
           1419.4444444444443,
           1186.0714285714287,
           1121.2142857142858,
           1728.7777777777778,
           1582.111111111111,
           1308.2857142857142,
           1439.3,
           1475.75,
           1721.6666666666667,
           1585.125,
           1535.857142857143,
           1251.2222222222222,
           1579.6666666666667,
           1352.2,
           299.3333333333333,
           1384.5,
           1454,
           2165.5,
           2828.5,
           1743.75,
           1221.75,
           940.25,
           1465,
           1196,
           1420,
           1635,
           1350,
           98,
           1396.3333333333333,
           927.5,
           1112,
           1414.5
          ],
          "sizemode": "area",
          "sizeref": 7.07125,
          "symbol": "circle"
         },
         "mode": "markers",
         "name": "",
         "orientation": "v",
         "showlegend": false,
         "type": "scatter",
         "x": [
          25,
          26,
          27,
          28,
          29,
          30,
          31,
          32,
          33,
          34,
          35,
          36,
          37,
          38,
          39,
          40,
          41,
          42,
          43,
          44,
          45,
          46,
          47,
          48,
          49,
          50,
          51,
          52,
          53,
          54,
          55,
          56,
          58,
          59,
          62,
          63,
          65,
          66,
          67
         ],
         "xaxis": "x",
         "y": [
          3,
          3,
          2.75,
          2.857142857142857,
          3.3333333333333335,
          2.909090909090909,
          2.933333333333333,
          2.888888888888889,
          3.142857142857143,
          3.0714285714285716,
          3.3333333333333335,
          3,
          3,
          3.1,
          3,
          3,
          3.25,
          2.7142857142857144,
          2.888888888888889,
          2.8333333333333335,
          3.3,
          3,
          3.1666666666666665,
          3.625,
          2.6666666666666665,
          3.5,
          2.75,
          3.25,
          2.5,
          3.2,
          3,
          3,
          4,
          3.5,
          3,
          3,
          3,
          3,
          3
         ],
         "yaxis": "y"
        }
       ],
       "layout": {
        "coloraxis": {
         "colorbar": {
          "title": {
           "text": "Отработанные дни"
          }
         },
         "colorscale": [
          [
           0,
           "#0d0887"
          ],
          [
           0.1111111111111111,
           "#46039f"
          ],
          [
           0.2222222222222222,
           "#7201a8"
          ],
          [
           0.3333333333333333,
           "#9c179e"
          ],
          [
           0.4444444444444444,
           "#bd3786"
          ],
          [
           0.5555555555555556,
           "#d8576b"
          ],
          [
           0.6666666666666666,
           "#ed7953"
          ],
          [
           0.7777777777777778,
           "#fb9f3a"
          ],
          [
           0.8888888888888888,
           "#fdca26"
          ],
          [
           1,
           "#f0f921"
          ]
         ]
        },
        "legend": {
         "itemsizing": "constant",
         "tracegroupgap": 0
        },
        "template": {
         "data": {
          "bar": [
           {
            "error_x": {
             "color": "#2a3f5f"
            },
            "error_y": {
             "color": "#2a3f5f"
            },
            "marker": {
             "line": {
              "color": "#E5ECF6",
              "width": 0.5
             },
             "pattern": {
              "fillmode": "overlay",
              "size": 10,
              "solidity": 0.2
             }
            },
            "type": "bar"
           }
          ],
          "barpolar": [
           {
            "marker": {
             "line": {
              "color": "#E5ECF6",
              "width": 0.5
             },
             "pattern": {
              "fillmode": "overlay",
              "size": 10,
              "solidity": 0.2
             }
            },
            "type": "barpolar"
           }
          ],
          "carpet": [
           {
            "aaxis": {
             "endlinecolor": "#2a3f5f",
             "gridcolor": "white",
             "linecolor": "white",
             "minorgridcolor": "white",
             "startlinecolor": "#2a3f5f"
            },
            "baxis": {
             "endlinecolor": "#2a3f5f",
             "gridcolor": "white",
             "linecolor": "white",
             "minorgridcolor": "white",
             "startlinecolor": "#2a3f5f"
            },
            "type": "carpet"
           }
          ],
          "choropleth": [
           {
            "colorbar": {
             "outlinewidth": 0,
             "ticks": ""
            },
            "type": "choropleth"
           }
          ],
          "contour": [
           {
            "colorbar": {
             "outlinewidth": 0,
             "ticks": ""
            },
            "colorscale": [
             [
              0,
              "#0d0887"
             ],
             [
              0.1111111111111111,
              "#46039f"
             ],
             [
              0.2222222222222222,
              "#7201a8"
             ],
             [
              0.3333333333333333,
              "#9c179e"
             ],
             [
              0.4444444444444444,
              "#bd3786"
             ],
             [
              0.5555555555555556,
              "#d8576b"
             ],
             [
              0.6666666666666666,
              "#ed7953"
             ],
             [
              0.7777777777777778,
              "#fb9f3a"
             ],
             [
              0.8888888888888888,
              "#fdca26"
             ],
             [
              1,
              "#f0f921"
             ]
            ],
            "type": "contour"
           }
          ],
          "contourcarpet": [
           {
            "colorbar": {
             "outlinewidth": 0,
             "ticks": ""
            },
            "type": "contourcarpet"
           }
          ],
          "heatmap": [
           {
            "colorbar": {
             "outlinewidth": 0,
             "ticks": ""
            },
            "colorscale": [
             [
              0,
              "#0d0887"
             ],
             [
              0.1111111111111111,
              "#46039f"
             ],
             [
              0.2222222222222222,
              "#7201a8"
             ],
             [
              0.3333333333333333,
              "#9c179e"
             ],
             [
              0.4444444444444444,
              "#bd3786"
             ],
             [
              0.5555555555555556,
              "#d8576b"
             ],
             [
              0.6666666666666666,
              "#ed7953"
             ],
             [
              0.7777777777777778,
              "#fb9f3a"
             ],
             [
              0.8888888888888888,
              "#fdca26"
             ],
             [
              1,
              "#f0f921"
             ]
            ],
            "type": "heatmap"
           }
          ],
          "heatmapgl": [
           {
            "colorbar": {
             "outlinewidth": 0,
             "ticks": ""
            },
            "colorscale": [
             [
              0,
              "#0d0887"
             ],
             [
              0.1111111111111111,
              "#46039f"
             ],
             [
              0.2222222222222222,
              "#7201a8"
             ],
             [
              0.3333333333333333,
              "#9c179e"
             ],
             [
              0.4444444444444444,
              "#bd3786"
             ],
             [
              0.5555555555555556,
              "#d8576b"
             ],
             [
              0.6666666666666666,
              "#ed7953"
             ],
             [
              0.7777777777777778,
              "#fb9f3a"
             ],
             [
              0.8888888888888888,
              "#fdca26"
             ],
             [
              1,
              "#f0f921"
             ]
            ],
            "type": "heatmapgl"
           }
          ],
          "histogram": [
           {
            "marker": {
             "pattern": {
              "fillmode": "overlay",
              "size": 10,
              "solidity": 0.2
             }
            },
            "type": "histogram"
           }
          ],
          "histogram2d": [
           {
            "colorbar": {
             "outlinewidth": 0,
             "ticks": ""
            },
            "colorscale": [
             [
              0,
              "#0d0887"
             ],
             [
              0.1111111111111111,
              "#46039f"
             ],
             [
              0.2222222222222222,
              "#7201a8"
             ],
             [
              0.3333333333333333,
              "#9c179e"
             ],
             [
              0.4444444444444444,
              "#bd3786"
             ],
             [
              0.5555555555555556,
              "#d8576b"
             ],
             [
              0.6666666666666666,
              "#ed7953"
             ],
             [
              0.7777777777777778,
              "#fb9f3a"
             ],
             [
              0.8888888888888888,
              "#fdca26"
             ],
             [
              1,
              "#f0f921"
             ]
            ],
            "type": "histogram2d"
           }
          ],
          "histogram2dcontour": [
           {
            "colorbar": {
             "outlinewidth": 0,
             "ticks": ""
            },
            "colorscale": [
             [
              0,
              "#0d0887"
             ],
             [
              0.1111111111111111,
              "#46039f"
             ],
             [
              0.2222222222222222,
              "#7201a8"
             ],
             [
              0.3333333333333333,
              "#9c179e"
             ],
             [
              0.4444444444444444,
              "#bd3786"
             ],
             [
              0.5555555555555556,
              "#d8576b"
             ],
             [
              0.6666666666666666,
              "#ed7953"
             ],
             [
              0.7777777777777778,
              "#fb9f3a"
             ],
             [
              0.8888888888888888,
              "#fdca26"
             ],
             [
              1,
              "#f0f921"
             ]
            ],
            "type": "histogram2dcontour"
           }
          ],
          "mesh3d": [
           {
            "colorbar": {
             "outlinewidth": 0,
             "ticks": ""
            },
            "type": "mesh3d"
           }
          ],
          "parcoords": [
           {
            "line": {
             "colorbar": {
              "outlinewidth": 0,
              "ticks": ""
             }
            },
            "type": "parcoords"
           }
          ],
          "pie": [
           {
            "automargin": true,
            "type": "pie"
           }
          ],
          "scatter": [
           {
            "fillpattern": {
             "fillmode": "overlay",
             "size": 10,
             "solidity": 0.2
            },
            "type": "scatter"
           }
          ],
          "scatter3d": [
           {
            "line": {
             "colorbar": {
              "outlinewidth": 0,
              "ticks": ""
             }
            },
            "marker": {
             "colorbar": {
              "outlinewidth": 0,
              "ticks": ""
             }
            },
            "type": "scatter3d"
           }
          ],
          "scattercarpet": [
           {
            "marker": {
             "colorbar": {
              "outlinewidth": 0,
              "ticks": ""
             }
            },
            "type": "scattercarpet"
           }
          ],
          "scattergeo": [
           {
            "marker": {
             "colorbar": {
              "outlinewidth": 0,
              "ticks": ""
             }
            },
            "type": "scattergeo"
           }
          ],
          "scattergl": [
           {
            "marker": {
             "colorbar": {
              "outlinewidth": 0,
              "ticks": ""
             }
            },
            "type": "scattergl"
           }
          ],
          "scattermapbox": [
           {
            "marker": {
             "colorbar": {
              "outlinewidth": 0,
              "ticks": ""
             }
            },
            "type": "scattermapbox"
           }
          ],
          "scatterpolar": [
           {
            "marker": {
             "colorbar": {
              "outlinewidth": 0,
              "ticks": ""
             }
            },
            "type": "scatterpolar"
           }
          ],
          "scatterpolargl": [
           {
            "marker": {
             "colorbar": {
              "outlinewidth": 0,
              "ticks": ""
             }
            },
            "type": "scatterpolargl"
           }
          ],
          "scatterternary": [
           {
            "marker": {
             "colorbar": {
              "outlinewidth": 0,
              "ticks": ""
             }
            },
            "type": "scatterternary"
           }
          ],
          "surface": [
           {
            "colorbar": {
             "outlinewidth": 0,
             "ticks": ""
            },
            "colorscale": [
             [
              0,
              "#0d0887"
             ],
             [
              0.1111111111111111,
              "#46039f"
             ],
             [
              0.2222222222222222,
              "#7201a8"
             ],
             [
              0.3333333333333333,
              "#9c179e"
             ],
             [
              0.4444444444444444,
              "#bd3786"
             ],
             [
              0.5555555555555556,
              "#d8576b"
             ],
             [
              0.6666666666666666,
              "#ed7953"
             ],
             [
              0.7777777777777778,
              "#fb9f3a"
             ],
             [
              0.8888888888888888,
              "#fdca26"
             ],
             [
              1,
              "#f0f921"
             ]
            ],
            "type": "surface"
           }
          ],
          "table": [
           {
            "cells": {
             "fill": {
              "color": "#EBF0F8"
             },
             "line": {
              "color": "white"
             }
            },
            "header": {
             "fill": {
              "color": "#C8D4E3"
             },
             "line": {
              "color": "white"
             }
            },
            "type": "table"
           }
          ]
         },
         "layout": {
          "annotationdefaults": {
           "arrowcolor": "#2a3f5f",
           "arrowhead": 0,
           "arrowwidth": 1
          },
          "autotypenumbers": "strict",
          "coloraxis": {
           "colorbar": {
            "outlinewidth": 0,
            "ticks": ""
           }
          },
          "colorscale": {
           "diverging": [
            [
             0,
             "#8e0152"
            ],
            [
             0.1,
             "#c51b7d"
            ],
            [
             0.2,
             "#de77ae"
            ],
            [
             0.3,
             "#f1b6da"
            ],
            [
             0.4,
             "#fde0ef"
            ],
            [
             0.5,
             "#f7f7f7"
            ],
            [
             0.6,
             "#e6f5d0"
            ],
            [
             0.7,
             "#b8e186"
            ],
            [
             0.8,
             "#7fbc41"
            ],
            [
             0.9,
             "#4d9221"
            ],
            [
             1,
             "#276419"
            ]
           ],
           "sequential": [
            [
             0,
             "#0d0887"
            ],
            [
             0.1111111111111111,
             "#46039f"
            ],
            [
             0.2222222222222222,
             "#7201a8"
            ],
            [
             0.3333333333333333,
             "#9c179e"
            ],
            [
             0.4444444444444444,
             "#bd3786"
            ],
            [
             0.5555555555555556,
             "#d8576b"
            ],
            [
             0.6666666666666666,
             "#ed7953"
            ],
            [
             0.7777777777777778,
             "#fb9f3a"
            ],
            [
             0.8888888888888888,
             "#fdca26"
            ],
            [
             1,
             "#f0f921"
            ]
           ],
           "sequentialminus": [
            [
             0,
             "#0d0887"
            ],
            [
             0.1111111111111111,
             "#46039f"
            ],
            [
             0.2222222222222222,
             "#7201a8"
            ],
            [
             0.3333333333333333,
             "#9c179e"
            ],
            [
             0.4444444444444444,
             "#bd3786"
            ],
            [
             0.5555555555555556,
             "#d8576b"
            ],
            [
             0.6666666666666666,
             "#ed7953"
            ],
            [
             0.7777777777777778,
             "#fb9f3a"
            ],
            [
             0.8888888888888888,
             "#fdca26"
            ],
            [
             1,
             "#f0f921"
            ]
           ]
          },
          "colorway": [
           "#636efa",
           "#EF553B",
           "#00cc96",
           "#ab63fa",
           "#FFA15A",
           "#19d3f3",
           "#FF6692",
           "#B6E880",
           "#FF97FF",
           "#FECB52"
          ],
          "font": {
           "color": "#2a3f5f"
          },
          "geo": {
           "bgcolor": "white",
           "lakecolor": "white",
           "landcolor": "#E5ECF6",
           "showlakes": true,
           "showland": true,
           "subunitcolor": "white"
          },
          "hoverlabel": {
           "align": "left"
          },
          "hovermode": "closest",
          "mapbox": {
           "style": "light"
          },
          "paper_bgcolor": "white",
          "plot_bgcolor": "#E5ECF6",
          "polar": {
           "angularaxis": {
            "gridcolor": "white",
            "linecolor": "white",
            "ticks": ""
           },
           "bgcolor": "#E5ECF6",
           "radialaxis": {
            "gridcolor": "white",
            "linecolor": "white",
            "ticks": ""
           }
          },
          "scene": {
           "xaxis": {
            "backgroundcolor": "#E5ECF6",
            "gridcolor": "white",
            "gridwidth": 2,
            "linecolor": "white",
            "showbackground": true,
            "ticks": "",
            "zerolinecolor": "white"
           },
           "yaxis": {
            "backgroundcolor": "#E5ECF6",
            "gridcolor": "white",
            "gridwidth": 2,
            "linecolor": "white",
            "showbackground": true,
            "ticks": "",
            "zerolinecolor": "white"
           },
           "zaxis": {
            "backgroundcolor": "#E5ECF6",
            "gridcolor": "white",
            "gridwidth": 2,
            "linecolor": "white",
            "showbackground": true,
            "ticks": "",
            "zerolinecolor": "white"
           }
          },
          "shapedefaults": {
           "line": {
            "color": "#2a3f5f"
           }
          },
          "ternary": {
           "aaxis": {
            "gridcolor": "white",
            "linecolor": "white",
            "ticks": ""
           },
           "baxis": {
            "gridcolor": "white",
            "linecolor": "white",
            "ticks": ""
           },
           "bgcolor": "#E5ECF6",
           "caxis": {
            "gridcolor": "white",
            "linecolor": "white",
            "ticks": ""
           }
          },
          "title": {
           "x": 0.05
          },
          "xaxis": {
           "automargin": true,
           "gridcolor": "white",
           "linecolor": "white",
           "ticks": "",
           "title": {
            "standoff": 15
           },
           "zerolinecolor": "white",
           "zerolinewidth": 2
          },
          "yaxis": {
           "automargin": true,
           "gridcolor": "white",
           "linecolor": "white",
           "ticks": "",
           "title": {
            "standoff": 15
           },
           "zerolinecolor": "white",
           "zerolinewidth": 2
          }
         }
        },
        "title": {
         "text": "Зависимость среднего рейтинга от возраста с учетом количества отработанных дней"
        },
        "xaxis": {
         "anchor": "y",
         "domain": [
          0,
          1
         ],
         "title": {
          "text": "Возраст, лет"
         }
        },
        "yaxis": {
         "anchor": "x",
         "domain": [
          0,
          1
         ],
         "title": {
          "text": "Индекс рейтинга"
         }
        }
       }
      },
      "text/html": [
       "<div>                            <div id=\"18831d65-97df-4e3e-8a96-ce33475a6c97\" class=\"plotly-graph-div\" style=\"height:525px; width:100%;\"></div>            <script type=\"text/javascript\">                require([\"plotly\"], function(Plotly) {                    window.PLOTLYENV=window.PLOTLYENV || {};                                    if (document.getElementById(\"18831d65-97df-4e3e-8a96-ce33475a6c97\")) {                    Plotly.newPlot(                        \"18831d65-97df-4e3e-8a96-ce33475a6c97\",                        [{\"hovertemplate\":\"\\u0412\\u043e\\u0437\\u0440\\u0430\\u0441\\u0442, \\u043b\\u0435\\u0442=%{x}<br>\\u0418\\u043d\\u0434\\u0435\\u043a\\u0441 \\u0440\\u0435\\u0439\\u0442\\u0438\\u043d\\u0433\\u0430=%{y}<br>\\u041e\\u0442\\u0440\\u0430\\u0431\\u043e\\u0442\\u0430\\u043d\\u043d\\u044b\\u0435 \\u0434\\u043d\\u0438=%{marker.color}<extra></extra>\",\"legendgroup\":\"\",\"marker\":{\"color\":[1843.5,794.0,1690.75,1215.142857142857,1907.1666666666667,1194.1818181818182,1554.2666666666667,1419.4444444444443,1186.0714285714287,1121.2142857142858,1728.7777777777778,1582.111111111111,1308.2857142857142,1439.3,1475.75,1721.6666666666667,1585.125,1535.857142857143,1251.2222222222222,1579.6666666666667,1352.2,299.3333333333333,1384.5,1454.0,2165.5,2828.5,1743.75,1221.75,940.25,1465.0,1196.0,1420.0,1635.0,1350.0,98.0,1396.3333333333333,927.5,1112.0,1414.5],\"coloraxis\":\"coloraxis\",\"size\":[1843.5,794.0,1690.75,1215.142857142857,1907.1666666666667,1194.1818181818182,1554.2666666666667,1419.4444444444443,1186.0714285714287,1121.2142857142858,1728.7777777777778,1582.111111111111,1308.2857142857142,1439.3,1475.75,1721.6666666666667,1585.125,1535.857142857143,1251.2222222222222,1579.6666666666667,1352.2,299.3333333333333,1384.5,1454.0,2165.5,2828.5,1743.75,1221.75,940.25,1465.0,1196.0,1420.0,1635.0,1350.0,98.0,1396.3333333333333,927.5,1112.0,1414.5],\"sizemode\":\"area\",\"sizeref\":7.07125,\"symbol\":\"circle\"},\"mode\":\"markers\",\"name\":\"\",\"orientation\":\"v\",\"showlegend\":false,\"x\":[25,26,27,28,29,30,31,32,33,34,35,36,37,38,39,40,41,42,43,44,45,46,47,48,49,50,51,52,53,54,55,56,58,59,62,63,65,66,67],\"xaxis\":\"x\",\"y\":[3.0,3.0,2.75,2.857142857142857,3.3333333333333335,2.909090909090909,2.933333333333333,2.888888888888889,3.142857142857143,3.0714285714285716,3.3333333333333335,3.0,3.0,3.1,3.0,3.0,3.25,2.7142857142857144,2.888888888888889,2.8333333333333335,3.3,3.0,3.1666666666666665,3.625,2.6666666666666665,3.5,2.75,3.25,2.5,3.2,3.0,3.0,4.0,3.5,3.0,3.0,3.0,3.0,3.0],\"yaxis\":\"y\",\"type\":\"scatter\"}],                        {\"template\":{\"data\":{\"histogram2dcontour\":[{\"type\":\"histogram2dcontour\",\"colorbar\":{\"outlinewidth\":0,\"ticks\":\"\"},\"colorscale\":[[0.0,\"#0d0887\"],[0.1111111111111111,\"#46039f\"],[0.2222222222222222,\"#7201a8\"],[0.3333333333333333,\"#9c179e\"],[0.4444444444444444,\"#bd3786\"],[0.5555555555555556,\"#d8576b\"],[0.6666666666666666,\"#ed7953\"],[0.7777777777777778,\"#fb9f3a\"],[0.8888888888888888,\"#fdca26\"],[1.0,\"#f0f921\"]]}],\"choropleth\":[{\"type\":\"choropleth\",\"colorbar\":{\"outlinewidth\":0,\"ticks\":\"\"}}],\"histogram2d\":[{\"type\":\"histogram2d\",\"colorbar\":{\"outlinewidth\":0,\"ticks\":\"\"},\"colorscale\":[[0.0,\"#0d0887\"],[0.1111111111111111,\"#46039f\"],[0.2222222222222222,\"#7201a8\"],[0.3333333333333333,\"#9c179e\"],[0.4444444444444444,\"#bd3786\"],[0.5555555555555556,\"#d8576b\"],[0.6666666666666666,\"#ed7953\"],[0.7777777777777778,\"#fb9f3a\"],[0.8888888888888888,\"#fdca26\"],[1.0,\"#f0f921\"]]}],\"heatmap\":[{\"type\":\"heatmap\",\"colorbar\":{\"outlinewidth\":0,\"ticks\":\"\"},\"colorscale\":[[0.0,\"#0d0887\"],[0.1111111111111111,\"#46039f\"],[0.2222222222222222,\"#7201a8\"],[0.3333333333333333,\"#9c179e\"],[0.4444444444444444,\"#bd3786\"],[0.5555555555555556,\"#d8576b\"],[0.6666666666666666,\"#ed7953\"],[0.7777777777777778,\"#fb9f3a\"],[0.8888888888888888,\"#fdca26\"],[1.0,\"#f0f921\"]]}],\"heatmapgl\":[{\"type\":\"heatmapgl\",\"colorbar\":{\"outlinewidth\":0,\"ticks\":\"\"},\"colorscale\":[[0.0,\"#0d0887\"],[0.1111111111111111,\"#46039f\"],[0.2222222222222222,\"#7201a8\"],[0.3333333333333333,\"#9c179e\"],[0.4444444444444444,\"#bd3786\"],[0.5555555555555556,\"#d8576b\"],[0.6666666666666666,\"#ed7953\"],[0.7777777777777778,\"#fb9f3a\"],[0.8888888888888888,\"#fdca26\"],[1.0,\"#f0f921\"]]}],\"contourcarpet\":[{\"type\":\"contourcarpet\",\"colorbar\":{\"outlinewidth\":0,\"ticks\":\"\"}}],\"contour\":[{\"type\":\"contour\",\"colorbar\":{\"outlinewidth\":0,\"ticks\":\"\"},\"colorscale\":[[0.0,\"#0d0887\"],[0.1111111111111111,\"#46039f\"],[0.2222222222222222,\"#7201a8\"],[0.3333333333333333,\"#9c179e\"],[0.4444444444444444,\"#bd3786\"],[0.5555555555555556,\"#d8576b\"],[0.6666666666666666,\"#ed7953\"],[0.7777777777777778,\"#fb9f3a\"],[0.8888888888888888,\"#fdca26\"],[1.0,\"#f0f921\"]]}],\"surface\":[{\"type\":\"surface\",\"colorbar\":{\"outlinewidth\":0,\"ticks\":\"\"},\"colorscale\":[[0.0,\"#0d0887\"],[0.1111111111111111,\"#46039f\"],[0.2222222222222222,\"#7201a8\"],[0.3333333333333333,\"#9c179e\"],[0.4444444444444444,\"#bd3786\"],[0.5555555555555556,\"#d8576b\"],[0.6666666666666666,\"#ed7953\"],[0.7777777777777778,\"#fb9f3a\"],[0.8888888888888888,\"#fdca26\"],[1.0,\"#f0f921\"]]}],\"mesh3d\":[{\"type\":\"mesh3d\",\"colorbar\":{\"outlinewidth\":0,\"ticks\":\"\"}}],\"scatter\":[{\"fillpattern\":{\"fillmode\":\"overlay\",\"size\":10,\"solidity\":0.2},\"type\":\"scatter\"}],\"parcoords\":[{\"type\":\"parcoords\",\"line\":{\"colorbar\":{\"outlinewidth\":0,\"ticks\":\"\"}}}],\"scatterpolargl\":[{\"type\":\"scatterpolargl\",\"marker\":{\"colorbar\":{\"outlinewidth\":0,\"ticks\":\"\"}}}],\"bar\":[{\"error_x\":{\"color\":\"#2a3f5f\"},\"error_y\":{\"color\":\"#2a3f5f\"},\"marker\":{\"line\":{\"color\":\"#E5ECF6\",\"width\":0.5},\"pattern\":{\"fillmode\":\"overlay\",\"size\":10,\"solidity\":0.2}},\"type\":\"bar\"}],\"scattergeo\":[{\"type\":\"scattergeo\",\"marker\":{\"colorbar\":{\"outlinewidth\":0,\"ticks\":\"\"}}}],\"scatterpolar\":[{\"type\":\"scatterpolar\",\"marker\":{\"colorbar\":{\"outlinewidth\":0,\"ticks\":\"\"}}}],\"histogram\":[{\"marker\":{\"pattern\":{\"fillmode\":\"overlay\",\"size\":10,\"solidity\":0.2}},\"type\":\"histogram\"}],\"scattergl\":[{\"type\":\"scattergl\",\"marker\":{\"colorbar\":{\"outlinewidth\":0,\"ticks\":\"\"}}}],\"scatter3d\":[{\"type\":\"scatter3d\",\"line\":{\"colorbar\":{\"outlinewidth\":0,\"ticks\":\"\"}},\"marker\":{\"colorbar\":{\"outlinewidth\":0,\"ticks\":\"\"}}}],\"scattermapbox\":[{\"type\":\"scattermapbox\",\"marker\":{\"colorbar\":{\"outlinewidth\":0,\"ticks\":\"\"}}}],\"scatterternary\":[{\"type\":\"scatterternary\",\"marker\":{\"colorbar\":{\"outlinewidth\":0,\"ticks\":\"\"}}}],\"scattercarpet\":[{\"type\":\"scattercarpet\",\"marker\":{\"colorbar\":{\"outlinewidth\":0,\"ticks\":\"\"}}}],\"carpet\":[{\"aaxis\":{\"endlinecolor\":\"#2a3f5f\",\"gridcolor\":\"white\",\"linecolor\":\"white\",\"minorgridcolor\":\"white\",\"startlinecolor\":\"#2a3f5f\"},\"baxis\":{\"endlinecolor\":\"#2a3f5f\",\"gridcolor\":\"white\",\"linecolor\":\"white\",\"minorgridcolor\":\"white\",\"startlinecolor\":\"#2a3f5f\"},\"type\":\"carpet\"}],\"table\":[{\"cells\":{\"fill\":{\"color\":\"#EBF0F8\"},\"line\":{\"color\":\"white\"}},\"header\":{\"fill\":{\"color\":\"#C8D4E3\"},\"line\":{\"color\":\"white\"}},\"type\":\"table\"}],\"barpolar\":[{\"marker\":{\"line\":{\"color\":\"#E5ECF6\",\"width\":0.5},\"pattern\":{\"fillmode\":\"overlay\",\"size\":10,\"solidity\":0.2}},\"type\":\"barpolar\"}],\"pie\":[{\"automargin\":true,\"type\":\"pie\"}]},\"layout\":{\"autotypenumbers\":\"strict\",\"colorway\":[\"#636efa\",\"#EF553B\",\"#00cc96\",\"#ab63fa\",\"#FFA15A\",\"#19d3f3\",\"#FF6692\",\"#B6E880\",\"#FF97FF\",\"#FECB52\"],\"font\":{\"color\":\"#2a3f5f\"},\"hovermode\":\"closest\",\"hoverlabel\":{\"align\":\"left\"},\"paper_bgcolor\":\"white\",\"plot_bgcolor\":\"#E5ECF6\",\"polar\":{\"bgcolor\":\"#E5ECF6\",\"angularaxis\":{\"gridcolor\":\"white\",\"linecolor\":\"white\",\"ticks\":\"\"},\"radialaxis\":{\"gridcolor\":\"white\",\"linecolor\":\"white\",\"ticks\":\"\"}},\"ternary\":{\"bgcolor\":\"#E5ECF6\",\"aaxis\":{\"gridcolor\":\"white\",\"linecolor\":\"white\",\"ticks\":\"\"},\"baxis\":{\"gridcolor\":\"white\",\"linecolor\":\"white\",\"ticks\":\"\"},\"caxis\":{\"gridcolor\":\"white\",\"linecolor\":\"white\",\"ticks\":\"\"}},\"coloraxis\":{\"colorbar\":{\"outlinewidth\":0,\"ticks\":\"\"}},\"colorscale\":{\"sequential\":[[0.0,\"#0d0887\"],[0.1111111111111111,\"#46039f\"],[0.2222222222222222,\"#7201a8\"],[0.3333333333333333,\"#9c179e\"],[0.4444444444444444,\"#bd3786\"],[0.5555555555555556,\"#d8576b\"],[0.6666666666666666,\"#ed7953\"],[0.7777777777777778,\"#fb9f3a\"],[0.8888888888888888,\"#fdca26\"],[1.0,\"#f0f921\"]],\"sequentialminus\":[[0.0,\"#0d0887\"],[0.1111111111111111,\"#46039f\"],[0.2222222222222222,\"#7201a8\"],[0.3333333333333333,\"#9c179e\"],[0.4444444444444444,\"#bd3786\"],[0.5555555555555556,\"#d8576b\"],[0.6666666666666666,\"#ed7953\"],[0.7777777777777778,\"#fb9f3a\"],[0.8888888888888888,\"#fdca26\"],[1.0,\"#f0f921\"]],\"diverging\":[[0,\"#8e0152\"],[0.1,\"#c51b7d\"],[0.2,\"#de77ae\"],[0.3,\"#f1b6da\"],[0.4,\"#fde0ef\"],[0.5,\"#f7f7f7\"],[0.6,\"#e6f5d0\"],[0.7,\"#b8e186\"],[0.8,\"#7fbc41\"],[0.9,\"#4d9221\"],[1,\"#276419\"]]},\"xaxis\":{\"gridcolor\":\"white\",\"linecolor\":\"white\",\"ticks\":\"\",\"title\":{\"standoff\":15},\"zerolinecolor\":\"white\",\"automargin\":true,\"zerolinewidth\":2},\"yaxis\":{\"gridcolor\":\"white\",\"linecolor\":\"white\",\"ticks\":\"\",\"title\":{\"standoff\":15},\"zerolinecolor\":\"white\",\"automargin\":true,\"zerolinewidth\":2},\"scene\":{\"xaxis\":{\"backgroundcolor\":\"#E5ECF6\",\"gridcolor\":\"white\",\"linecolor\":\"white\",\"showbackground\":true,\"ticks\":\"\",\"zerolinecolor\":\"white\",\"gridwidth\":2},\"yaxis\":{\"backgroundcolor\":\"#E5ECF6\",\"gridcolor\":\"white\",\"linecolor\":\"white\",\"showbackground\":true,\"ticks\":\"\",\"zerolinecolor\":\"white\",\"gridwidth\":2},\"zaxis\":{\"backgroundcolor\":\"#E5ECF6\",\"gridcolor\":\"white\",\"linecolor\":\"white\",\"showbackground\":true,\"ticks\":\"\",\"zerolinecolor\":\"white\",\"gridwidth\":2}},\"shapedefaults\":{\"line\":{\"color\":\"#2a3f5f\"}},\"annotationdefaults\":{\"arrowcolor\":\"#2a3f5f\",\"arrowhead\":0,\"arrowwidth\":1},\"geo\":{\"bgcolor\":\"white\",\"landcolor\":\"#E5ECF6\",\"subunitcolor\":\"white\",\"showland\":true,\"showlakes\":true,\"lakecolor\":\"white\"},\"title\":{\"x\":0.05},\"mapbox\":{\"style\":\"light\"}}},\"xaxis\":{\"anchor\":\"y\",\"domain\":[0.0,1.0],\"title\":{\"text\":\"\\u0412\\u043e\\u0437\\u0440\\u0430\\u0441\\u0442, \\u043b\\u0435\\u0442\"}},\"yaxis\":{\"anchor\":\"x\",\"domain\":[0.0,1.0],\"title\":{\"text\":\"\\u0418\\u043d\\u0434\\u0435\\u043a\\u0441 \\u0440\\u0435\\u0439\\u0442\\u0438\\u043d\\u0433\\u0430\"}},\"coloraxis\":{\"colorbar\":{\"title\":{\"text\":\"\\u041e\\u0442\\u0440\\u0430\\u0431\\u043e\\u0442\\u0430\\u043d\\u043d\\u044b\\u0435 \\u0434\\u043d\\u0438\"}},\"colorscale\":[[0.0,\"#0d0887\"],[0.1111111111111111,\"#46039f\"],[0.2222222222222222,\"#7201a8\"],[0.3333333333333333,\"#9c179e\"],[0.4444444444444444,\"#bd3786\"],[0.5555555555555556,\"#d8576b\"],[0.6666666666666666,\"#ed7953\"],[0.7777777777777778,\"#fb9f3a\"],[0.8888888888888888,\"#fdca26\"],[1.0,\"#f0f921\"]]},\"legend\":{\"tracegroupgap\":0,\"itemsizing\":\"constant\"},\"title\":{\"text\":\"\\u0417\\u0430\\u0432\\u0438\\u0441\\u0438\\u043c\\u043e\\u0441\\u0442\\u044c \\u0441\\u0440\\u0435\\u0434\\u043d\\u0435\\u0433\\u043e \\u0440\\u0435\\u0439\\u0442\\u0438\\u043d\\u0433\\u0430 \\u043e\\u0442 \\u0432\\u043e\\u0437\\u0440\\u0430\\u0441\\u0442\\u0430 \\u0441 \\u0443\\u0447\\u0435\\u0442\\u043e\\u043c \\u043a\\u043e\\u043b\\u0438\\u0447\\u0435\\u0441\\u0442\\u0432\\u0430 \\u043e\\u0442\\u0440\\u0430\\u0431\\u043e\\u0442\\u0430\\u043d\\u043d\\u044b\\u0445 \\u0434\\u043d\\u0435\\u0439\"}},                        {\"responsive\": true}                    ).then(function(){\n",
       "                            \n",
       "var gd = document.getElementById('18831d65-97df-4e3e-8a96-ce33475a6c97');\n",
       "var x = new MutationObserver(function (mutations, observer) {{\n",
       "        var display = window.getComputedStyle(gd).display;\n",
       "        if (!display || display === 'none') {{\n",
       "            console.log([gd, 'removed!']);\n",
       "            Plotly.purge(gd);\n",
       "            observer.disconnect();\n",
       "        }}\n",
       "}});\n",
       "\n",
       "// Listen for the removal of the full notebook cells\n",
       "var notebookContainer = gd.closest('#notebook-container');\n",
       "if (notebookContainer) {{\n",
       "    x.observe(notebookContainer, {childList: true});\n",
       "}}\n",
       "\n",
       "// Listen for the clearing of the current output cell\n",
       "var outputEl = gd.closest('.output');\n",
       "if (outputEl) {{\n",
       "    x.observe(outputEl, {childList: true});\n",
       "}}\n",
       "\n",
       "                        })                };                });            </script>        </div>"
      ]
     },
     "metadata": {},
     "output_type": "display_data"
    }
   ],
   "source": [
    "fig = px.scatter(\n",
    "    perf_age,\n",
    "    x=\"age\",\n",
    "    y=\"avg\",\n",
    "    size=\"days\",\n",
    "    color=\"days\",\n",
    "    title=\"Зависимость среднего рейтинга от возраста с учетом количества отработанных дней\",\n",
    "    labels={\"age\": \"Возраст, лет\",\n",
    "            \"avg\": \"Индекс рейтинга\",\n",
    "            \"days\": \"Отработанные дни\"}\n",
    ")\n",
    "fig.show()"
   ]
  },
  {
   "cell_type": "markdown",
   "id": "ddae3570",
   "metadata": {},
   "source": [
    "- Наблюдается некоторая вариация в среднем рейтинге производительности сотрудников в зависимости от возраста. Однако, нет явной трендовой зависимости между возрастом и рейтингом.<br><br>\n",
    "\n",
    "- Можно заметить, что у сотрудников в возрасте от 25 до 30 лет имеют разнообразные средние рейтинги, от 2.75 до 3.333333.<br><br>\n",
    "\n",
    "- Сотрудники в возрасте от 30 до 40 лет средний рейтинг производительности колеблется вокруг значения 3.0.<br><br>\n",
    "\n",
    "- У сотрудников старше 40 лет увеличивается разброс значений рейтинга, но большинство значений находится в диапазоне от 3.0 до 3.5."
   ]
  },
  {
   "cell_type": "markdown",
   "id": "dfe8d6a4",
   "metadata": {},
   "source": [
    "<!-- ### Рекомендации для HR-отдела:\n",
    "\n",
    "1. Разработать программы удержания опытных сотрудников.\n",
    "- Учитывая, что с увеличением возраста сотрудников увеличивается их средняя продолжительность работы, HR-отдел может разработать и внедрить программы и политики, направленные на удержание опытных сотрудников. Это может включать возможности профессионального развития, программы поощрения и стимулирования, создание комфортных условий работы и поддержку здоровья и благополучия.\n",
    "2. Изучить причины увольнений в разных возрастных группах.\n",
    "- Изучение причин увольнений в возрастных группах с высоким процентом увольнений, особенно вокруг возраста 41-42 лет, может помочь HR-отделу выявить возможные проблемы и разработать соответствующие стратегии для их решения. Это может включать улучшение условий работы, предоставление развития карьеры и финансовых стимулов, а также улучшение коммуникации и удовлетворенности сотрудников.\n",
    "3. Создать программу менторства и передачи опыта.\n",
    "- Учитывая, что сотрудники старшего возраста обладают большим опытом и стабильностью, HR-отдел может разработать программу менторства, где опытные сотрудники будут передавать свои знания и опыт молодым сотрудникам. Это способствует сохранению ценного опыта в организации и помогает новым сотрудникам быстрее адаптироваться и расти профессионально.\n",
    "4. Предложить разнообразные программы профессионального развития.\n",
    "- Учитывая, что возрастные группы 25-30 и 30-40 лет имеют различные средние рейтинги производительности, HR-отдел может предложить разнообразные программы профессионального развития, включая обучение, тренинги и возможности повышения квалификации. Это может помочь сотрудникам развиваться в своей карьере и оставаться мотивированными.\n",
    "5. Анализировать и улучшать рабочую среду.\n",
    "- Изучение причин увольнений, связанных с недовольством или неудовлетворительными условиями работы, может помочь HR-отделу выявить проблемные области и предпринять меры для улучшения рабочей среды. Это может включать улучшение коммуникации внутри команды, обеспечение рабочего баланса, обучение руководителей управлению персоналом, а также создание возможностей для развития и повышения удовлетворенности сотрудников. -->"
   ]
  },
  {
   "cell_type": "markdown",
   "id": "70b670a8",
   "metadata": {},
   "source": [
    "### Выводы и рекомендации для HR-отдела.\n",
    "---\n",
    "#### Выводы:\n",
    "Исследование показало, что с возрастом сотрудников увеличивается средняя продолжительность работы и средняя оценка производительности.\n",
    "\n",
    "Процент увольнений имеет различия в зависимости от возраста, с наибольшим процентом увольнений в определенных возрастных группах.\n",
    "\n",
    "Отмечены некоторые пики увольнений в возрасте около 41-42 лет, связанные с различными факторами, такими как изменение карьеры и недовольство условиями работы.\n",
    "\n",
    "Не наблюдается явной зависимости между возрастом и средним рейтингом производительности.\n",
    "\n",
    "---\n",
    "#### Рекомендации для HR-отдела:\n",
    "1. Обеспечьте политику равных возможностей для всех сотрудников независимо от возраста.\n",
    "- Установите политику равных возможностей: Обеспечьте, чтобы все сотрудники, независимо от возраста, имели равные возможности развития и продвижения по карьерной лестнице. Исключите любые формы дискриминации на основе возраста и поощряйте справедливость и равноправие в организации.\n",
    "2. Стремитесь к формированию многообразной рабочей силы, включающей разные возрастные группы.\n",
    "- Создайте многообразие возрастов: Стремитесь к формированию многообразной рабочей силы, которая включает сотрудников различных возрастных групп. Разнообразие в возрасте может способствовать разностороннему мышлению, улучшению коммуникации и обмену опытом между поколениями.\n",
    "3. Учитывайте различные стили обучения и коммуникации при работе с разными поколениями.\n",
    "- Адаптируйте стили обучения и коммуникации: Учтите, что разные поколения могут иметь различные предпочтения и стили обучения. Принимайте во внимание эти различия при разработке обучающих программ и коммуникационных стратегий. Используйте разнообразные методы, такие как визуальные материалы, онлайн-обучение или личное общение, чтобы удовлетворить потребности разных групп сотрудников.\n",
    "4. Поддерживайте менторство и обмен знаниями между разными возрастными группами.\n",
    "- Поддерживайте менторство и обмен знаниями: Содействуйте обмену знаниями и опытом между разными возрастными группами сотрудников. Систематически организуйте программы менторства, где более опытные сотрудники могут поделиться своими знаниями и помощью с молодыми коллегами, а также стимулируйте обратный обмен опытом, чтобы и молодые сотрудники могли принести свежие идеи и подходы.\n",
    "5. Создавайте рабочую среду, учитывающую потребности разных возрастных групп.\n",
    "- Обеспечьте рабочую среду, которая поддерживает разные возрастные группы: Стремитесь создать рабочую среду, которая учитывает потребности разных поколений. Это может включать гибкие графики работы, баланс между работой и личной жизнью, поддержку физического и психологического здоровья сотрудников, а также обеспечение равенства возможностей для карьерного роста.\n",
    "6. Обучайте руководителей и HR-сотрудников осведомленности о возрастных различиях.\n",
    "- Проводите обучение по осведомленности о возрастных различиях: Обучите руководителей и сотрудников HR-отдела осведомленности о различиях в возрастных потребностях и предпочтениях. Обучение может включать информацию о стереотипах и предубеждениях по отношению к разным возрастным группам, а также о том, как обеспечить включение и поддержку всех сотрудников вне зависимости от их возраста.\n",
    "7. Анализируйте возрастной состав сотрудников и выявляйте потенциальные проблемы и возможности.\n",
    "- Проводите анализ возрастного состава сотрудников: Регулярно анализируйте данные о возрасте сотрудников и составьте профиль возрастной структуры вашей организации. Это поможет вам лучше понять текущую ситуацию и выявить потенциальные проблемы или возможности, связанные с возрастом.\n",
    "8. Адаптируйте бенефиты и вознаграждения к разным возрастным группам.\n",
    "- Адаптируйте бенефиты и вознаграждения: Учтите различные потребности и ожидания разных возрастных групп при разработке программ вознаграждения и бенефитов. Рассмотрите варианты, такие как гибкие планы пенсионных накоплений, вознаграждения за достижения на разных этапах карьеры, программы здоровья и благополучия, которые соответствуют различным возрастам и потребностям сотрудников.\n",
    "9. Поддерживайте баланс поколений в командах и проектах.\n",
    "- Поддерживайте баланс поколений: Стремитесь к созданию баланса поколений в командах и проектах. Убедитесь, что различные возрастные группы имеют возможность работать вместе и обмениваться идеями. Это может способствовать инновациям, улучшению работы в команде и повышению межпоколенческого понимания.\n",
    "10. Регулярно обновляйте стратегии и программы, связанные с возрастом сотрудников.\n",
    "- Регулярно обновляйте стратегии и программы: Постоянно пересматривайте и обновляйте свои стратегии и программы, связанные с возрастом сотрудников. Учитывайте изменяющиеся потребности и требования различных поколений, чтобы оставаться актуальными и эффективными в привлечении, удержании и развитии талантов.\n",
    "\n",
    "<br><br>Внедрение этих рекомендаций может помочь HR-отделу создать инклюзивную и поддерживающую рабочую среду для всех сотрудников, независимо от их возраста. Помните, что у каждой возрастной группы могут быть свои особенности, потребности и предпочтения, и важно учитывать их при разработке политик и программ.\n",
    "\n",
    "Кроме того, важно поддерживать открытый диалог с сотрудниками всех возрастных групп. Активно слушайте их мнения, обратную связь и предложения, чтобы лучше понять их потребности и внести соответствующие изменения.\n",
    "\n",
    "Наконец, имейте в виду, что стремление к созданию рабочей среды, подходящей для всех возрастных групп, должно быть непрерывным процессом. Постоянно анализируйте результаты и эффективность ваших стратегий, чтобы вносить необходимые корректировки и улучшения.\n",
    "\n",
    "Запомните, что инклюзивность и поддержка всех сотрудников вне зависимости от возраста - это залог успешной и продуктивной работы организации."
   ]
  },
  {
   "cell_type": "code",
   "execution_count": null,
   "id": "6d685ba5",
   "metadata": {},
   "outputs": [],
   "source": []
  }
 ],
 "metadata": {
  "kernelspec": {
   "display_name": "Python 3 (ipykernel)",
   "language": "python",
   "name": "python3"
  },
  "language_info": {
   "codemirror_mode": {
    "name": "ipython",
    "version": 3
   },
   "file_extension": ".py",
   "mimetype": "text/x-python",
   "name": "python",
   "nbconvert_exporter": "python",
   "pygments_lexer": "ipython3",
   "version": "3.9.13"
  }
 },
 "nbformat": 4,
 "nbformat_minor": 5
}
